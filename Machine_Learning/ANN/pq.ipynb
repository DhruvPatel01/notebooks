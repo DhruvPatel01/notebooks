{
 "cells": [
  {
   "cell_type": "code",
   "execution_count": 64,
   "id": "f5c59a8a-0f9d-4008-a064-86cdaefe551c",
   "metadata": {},
   "outputs": [],
   "source": [
    "import matplotlib.pyplot as plt\n",
    "import numpy as np\n",
    "import scipy"
   ]
  },
  {
   "cell_type": "code",
   "execution_count": 65,
   "id": "c7ddba19-1dd1-4471-9185-7c46391c4e3e",
   "metadata": {},
   "outputs": [],
   "source": [
    "%matplotlib inline"
   ]
  },
  {
   "cell_type": "code",
   "execution_count": 35,
   "id": "570cd0aa-5223-4a51-bf63-d614c6bc8712",
   "metadata": {},
   "outputs": [],
   "source": [
    "np.random.seed(42)\n",
    "x = np.random.rand(30)*10 + 1\n",
    "y = np.random.rand(30)*10 + 3\n",
    "\n",
    "(x1, x2), _ = scipy.cluster.vq.kmeans(x, 2)\n",
    "\n",
    "(y1, y2), _ = scipy.cluster.vq.kmeans(y, 2)"
   ]
  },
  {
   "cell_type": "code",
   "execution_count": 70,
   "id": "ade3f82d-3141-4443-8822-27fb1518cd2c",
   "metadata": {},
   "outputs": [
    {
     "data": {
      "text/plain": [
       "<matplotlib.legend.Legend at 0x7f5455664100>"
      ]
     },
     "execution_count": 70,
     "metadata": {},
     "output_type": "execute_result"
    },
    {
     "data": {
      "image/png": "[encoded data removed]",
      "text/plain": [
       "<Figure size 640x480 with 1 Axes>"
      ]
     },
     "metadata": {},
     "output_type": "display_data"
    }
   ],
   "source": [
    "fig = plt.figure()\n",
    "plt.hlines((y1+y2)/2, 0, max(x), colors='C2')\n",
    "plt.vlines((x1+x2)/2, 0, max(y), colors='C2')\n",
    "# plt.scatter(x, y, label='Data')\n",
    "plt.scatter([2], [10], label=\"Query\")\n",
    "plt.scatter([x1, x1, x2, x2], [y1, y2, y1, y2], marker='X', s=100, label=\"Prototypes\")#, 'C3x')\n",
    "plt.legend()"
   ]
  },
  {
   "cell_type": "code",
   "execution_count": 33,
   "id": "aace40bd-9eff-45a3-ad63-a42912fe99af",
   "metadata": {},
   "outputs": [
    {
     "data": {
      "text/plain": [
       "3.133956826867387"
      ]
     },
     "execution_count": 33,
     "metadata": {},
     "output_type": "execute_result"
    }
   ],
   "source": [
    "x1"
   ]
  },
  {
   "cell_type": "code",
   "execution_count": 28,
   "id": "0c25a3fc-5b79-4c62-b94f-19af34a96590",
   "metadata": {},
   "outputs": [],
   "source": []
  },
  {
   "cell_type": "code",
   "execution_count": 30,
   "id": "10af1f8d-55fb-4120-af94-ff8d3e32613b",
   "metadata": {},
   "outputs": [
    {
     "data": {
      "text/plain": [
       "3.133956826867387"
      ]
     },
     "execution_count": 30,
     "metadata": {},
     "output_type": "execute_result"
    }
   ],
   "source": [
    "x1"
   ]
  },
  {
   "cell_type": "code",
   "execution_count": null,
   "id": "892f2bad-0e1d-4a04-8bc7-873c2dba89f9",
   "metadata": {},
   "outputs": [],
   "source": []
  }
 ],
 "metadata": {
  "kernelspec": {
   "display_name": "Python 3",
   "language": "python",
   "name": "python3"
  },
  "language_info": {
   "codemirror_mode": {
    "name": "ipython",
    "version": 3
   },
   "file_extension": ".py",
   "mimetype": "text/x-python",
   "name": "python",
   "nbconvert_exporter": "python",
   "pygments_lexer": "ipython3",
   "version": "3.10.8"
  }
 },
 "nbformat": 4,
 "nbformat_minor": 5
}
