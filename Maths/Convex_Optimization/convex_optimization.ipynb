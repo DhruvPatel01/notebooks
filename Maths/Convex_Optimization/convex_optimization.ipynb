{
 "cells": [
  {
   "cell_type": "markdown",
   "id": "c06d87a9-7f70-4596-a13f-a5899ebac098",
   "metadata": {},
   "source": [
    "# Convex Optimization\n",
    "\n",
    "<!--eofm-->"
   ]
  },
  {
   "cell_type": "markdown",
   "id": "acf12a1b-0913-4490-a917-119867137c5e",
   "metadata": {},
   "source": [
    "Note:\n",
    "These notes are not mathematically rigorous. These are meant for quick reference, please read the [Convex Optimization book](https://web.stanford.edu/~boyd/cvxbook/) from Boyd and Vandenberghe for more rigorous treatment."
   ]
  },
  {
   "cell_type": "markdown",
   "id": "adf0eea3-22f9-4dee-a5ac-d7154d4e8003",
   "metadata": {},
   "source": [
    "## Chapter 2: Convex Sets"
   ]
  },
  {
   "cell_type": "markdown",
   "id": "1b314d19-dccd-4722-8106-2dff2bff1060",
   "metadata": {
    "tags": []
   },
   "source": [
    "### Sets"
   ]
  },
  {
   "cell_type": "markdown",
   "id": "c2ffdfda-23b5-4e24-810e-e26e303a6848",
   "metadata": {
    "jp-MarkdownHeadingCollapsed": true,
    "tags": []
   },
   "source": [
    "#### Affine Sets"
   ]
  },
  {
   "cell_type": "markdown",
   "id": "0fe36fa3-0cac-467b-8515-772548ea4755",
   "metadata": {},
   "source": [
    "Affine combination: $\\sum_{i=1}^{i=N} \\theta_i x_i$ such that $\\sum_{i=1}^{i=N} \\theta_i = 1$.\n",
    "\n",
    "Draw a line passing through any two points, if the whole line is in the set, the set is affine.\n",
    "\n",
    "Every affine set C can be written as $C = V + x_0$ for any $x_0 \\in C$, where V is a subspace.\n",
    "\n",
    "Affine Hull of C (**aff** C)\n",
    ": Smallest affine set, which contains C.\n",
    "\n",
    "Affine Dimension\n",
    ": Dimension of an affine hull.\n",
    "\n",
    "Relative Interior\n",
    ": **relint** C = {x ∈ C | B(x, r) ∩ aff C ⊆ C for some r > 0}.\n",
    "\n",
    "Boundary\n",
    ": **cl** C - **relint** C\n",
    "\n",
    "##### Example\n",
    "\n",
    "Let C = $\\{x \\in R^3 | −1 \\le x_1 \\le 1, −1 \\le x_2 \\le 1, x_3 = 0\\}$. That is a square.\n",
    "\n",
    "- Interior: Empty\n",
    "- Relative interior: square without the border\n",
    "- Boundary: the perimeter"
   ]
  },
  {
   "cell_type": "markdown",
   "id": "b85bbea3-9c17-4d58-bb81-3db7907e265c",
   "metadata": {
    "jp-MarkdownHeadingCollapsed": true,
    "tags": []
   },
   "source": [
    "#### Convex Sets\n",
    "\n",
    "Convex combination\n",
    ": $\\sum_{i=1}^{i=N} \\theta_i x_i$ such that $\\sum_{i=1}^{i=N} \\theta_i = 1$ and $\\theta_i \\ge 0$.\n",
    "\n",
    "Draw a line segment between any two points, if the whole line segment is in the set, the set is convex."
   ]
  },
  {
   "cell_type": "markdown",
   "id": "b931c947-80a3-4084-830c-e058a3b39ce1",
   "metadata": {
    "tags": []
   },
   "source": [
    "#### Cones\n",
    "\n",
    "Cone\n",
    ": A set C is called a cone, if for every x ∈ C and θ ≥ 0 we have $\\theta x \\in C$\n",
    "\n",
    "Convex Cone\n",
    ": A set C is convex cone, if it is convex and a cone!\n",
    "\n",
    "Conic Combination\n",
    ":  $\\sum_{i=1}^{i=N} \\theta_i x_i$ such that $\\theta_i \\ge 0$."
   ]
  },
  {
   "cell_type": "markdown",
   "id": "3a058e9b-2097-4381-be91-75f2e79790bf",
   "metadata": {
    "tags": []
   },
   "source": [
    "### Some Important Examples\n",
    "\n",
    "| example                | affine? | convex? | convex cone?  |\n",
    "| ---------------------- | ------- | ------- | ------------- |\n",
    "| hyperplane             | Y       | Y       | Y<sup>1</sup> |\n",
    "| halfspace              | N       | Y       | Y<sup>1</sup> |\n",
    "| norm ball              | N       | Y       | N             |\n",
    "| norm cones             | N       | Y       | Y             |\n",
    "| polyhedra              |         | Y       |               |\n",
    "| positive definite cone |         | Y       | Y             |\n",
    "\n",
    "1. Only if 0 is in the set."
   ]
  },
  {
   "cell_type": "markdown",
   "id": "0decb0ff-7b88-45a4-956b-794e227c541c",
   "metadata": {},
   "source": [
    "Hyperplane\n",
    ": $\\{x | a^T x = b\\} = \\{x | a^T(x-x_0) = 0\\}$ for constant vector a and scalar b. Where $x_0$ is any point in the hyperplane.\n",
    "\n",
    "Closed Half spaces\n",
    ": $\\{x | a^T x \\le b\\}$\n",
    "\n",
    "Euclidean Ball\n",
    ": $B(x_c, r) = \\{ x \\, | \\, \\| x - x_c \\|_2 \\le r \\} = \\{  x_c + ru \\, | \\, \\| u \\|_2 \\le 1\\}$.\n",
    "\n",
    "Ellipsoid\n",
    ": $ E = \\{ x \\, | \\, (x - x_c)^T P^{-1} (x-x_c) \\le 1 \\} = \\{ x_c + Au \\, | \\, \\| u \\|_2 \\le 1 \\}$. Where, P is positive definite matrix, and A is square and non singular matrix.\n",
    "\n",
    "Norm Cones\n",
    ": $\\{ (x, t) \\, | \\, \\| x \\| \\le t\\} \\subset R^{n+1}$.\n",
    "\n",
    "Second order cone (Lorentz cone)\n",
    ": Norm cone where norm is euclidean norm.\n",
    "\n",
    "Polyhedron\n",
    ": A polyhedron is thus the intersection of a finite number of halfspaces and hyperplanes.\n",
    "\n",
    "Simplex\n",
    ": Simplex is a special polyhedron. If $v_0, \\dots, v_k$ are affinely independent (that is $v_1-v_0, \\dots , v_k-v_0$ are linearly independent) then simplex is just convex hull of $(v_0, \\dots, v_k)$.\n",
    "\n"
   ]
  },
  {
   "cell_type": "markdown",
   "id": "a2e2a340-73f5-49bf-8aec-10483198d56b",
   "metadata": {},
   "source": [
    "### Operations that preseve convexity"
   ]
  },
  {
   "cell_type": "markdown",
   "id": "81b88777-c424-4001-b391-f4cf0ff6252e",
   "metadata": {},
   "source": [
    "#### Intersection\n",
    "\n",
    "If $S_\\alpha$ is a convex set for for every $\\alpha \\in \\cal{A}$ where $\\cal{A}$ is any set (could be uncountable infinite), then $\\cap_{\\alpha \\in \\cal{A}} S_\\alpha$ is also convex. Converse is also true. Every closed convex set S is a (usually infinite) intersection of halfspaces."
   ]
  },
  {
   "cell_type": "code",
   "execution_count": 17,
   "id": "61c017ed-b068-44b1-8475-eff193f10592",
   "metadata": {
    "tags": [
     "hide_cell"
    ]
   },
   "outputs": [],
   "source": [
    "import numpy as np\n",
    "import matplotlib.pyplot as plt\n",
    "\n",
    "x = np.linspace(-2, 2, num=100)\n",
    "ts = np.linspace(-np.pi/3, np.pi/3, num=20)"
   ]
  },
  {
   "cell_type": "code",
   "execution_count": 18,
   "id": "c5f5a7f1-8577-4a79-a6e9-2c5b0bc6605d",
   "metadata": {},
   "outputs": [],
   "source": [
    "def S(t):\n",
    "    c1, c2 = np.array([np.cos(t), np.cos(2*t)])\n",
    "    c, m = 1/c2, c1/c2\n",
    "    return (lambda x: c - m*x, lambda x: -c - m*x)"
   ]
  },
  {
   "cell_type": "code",
   "execution_count": 41,
   "id": "108f0802-a0ff-4423-ab1c-20b5312edb0d",
   "metadata": {},
   "outputs": [
    {
     "data": {
      "image/png": "[encoded data removed]",
      "text/plain": [
       "<Figure size 432x288 with 1 Axes>"
      ]
     },
     "metadata": {
      "needs_background": "light"
     },
     "output_type": "display_data"
    }
   ],
   "source": [
    "for t in ts:\n",
    "    y1, y2 = S(t)\n",
    "    plt.plot(x, y1(x), 'k', lw='.5');\n",
    "    plt.plot(x, y2(x), 'k', lw='.5');\n",
    "plt.ylim(-2, 2);\n",
    "plt.xlim(-2, 2);"
   ]
  },
  {
   "cell_type": "markdown",
   "id": "9ca6c3fd-eafb-4285-a986-16f3ba4d9848",
   "metadata": {},
   "source": [
    "#### Affine Functions\n",
    "\n",
    "Function f is affine if f = Ax + b for some A and b.\n",
    "\n",
    "If S is convex then the image of S under f (i.e. $f(S) = \\{f(x) | x \\in S\\}$) is also convex. \n",
    "\n",
    "If g is a function such that the image of g is S and S is convex, then the inverse image of S (i.e. $\\{x | g(x) \\in S\\}$) is also convex."
   ]
  },
  {
   "cell_type": "code",
   "execution_count": null,
   "id": "8425112f-0a46-49ed-8cb7-538b6f16694f",
   "metadata": {},
   "outputs": [],
   "source": []
  }
 ],
 "metadata": {
  "kernelspec": {
   "display_name": "Python 3",
   "language": "python",
   "name": "python3"
  },
  "language_info": {
   "codemirror_mode": {
    "name": "ipython",
    "version": 3
   },
   "file_extension": ".py",
   "mimetype": "text/x-python",
   "name": "python",
   "nbconvert_exporter": "python",
   "pygments_lexer": "ipython3",
   "version": "3.10.5"
  }
 },
 "nbformat": 4,
 "nbformat_minor": 5
}
