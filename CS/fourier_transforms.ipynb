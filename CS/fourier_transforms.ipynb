{
 "cells": [
  {
   "cell_type": "markdown",
   "metadata": {},
   "source": [
    "- Frequency in time\n",
    "- Frequency in space \n",
    "\n",
    "E.g., image of stripes. Another example is electron density in lattice. Since atoms are arranged in a grid, the density function is periodic. The frequency in spatial case needs to be a vector quantity.\n",
    "- Frequency in both (Waves)\n",
    "- Frequency and Wavelength are related with $v = \\nu \\lambda$. For fixed velocity $v$, if you are given wavelength, you can find frequency, and the other way around. \n",
    "- Larger the wavelength, lower the frequency. Higher the frequency, shorter the wavelength. This kind of reciprocal relationships will be seen a lot of time during the course."
   ]
  },
  {
   "cell_type": "markdown",
   "metadata": {},
   "source": [
    "If f is a function (space or time), it is periodic with period T if $f(t+T) = f(t)$. Every integer multiple of T is also a period. $f(t + nT) = f(t), n = 0, \\pm 1, \\pm 2, \\dots$"
   ]
  },
  {
   "cell_type": "markdown",
   "metadata": {},
   "source": [
    "Sum of two periodic function need not be periodic. $cos(t) + cos(\\sqrt{2} t)$ is not periodic for example."
   ]
  },
  {
   "cell_type": "markdown",
   "metadata": {},
   "source": [
    "## Fourier's Idea\n",
    "\n",
    "Fourier's idea to describe heat (function of time) on a ring (periodic phenomena in space), by \n",
    "$$ \\sum_{n=1}^{N} A_n(t) sin(n\\theta + \\phi_n) $$ \n",
    "\n",
    "\n",
    "Each individual term is known has harmonic. The first term has the lowest frequency, and the remaining terms have integer multiple frequency of it, so the whole sum has period of $2\\pi$.\n",
    "\n",
    "For simplicity, assume that period is 1. The function than is $\\sum_{n=1}^N A_n(t) sin(2\\pi n \\theta + \\phi_n)$.\n",
    "\n",
    "Using sin(x+y), trig identity, this is equivalent to $\\sum_{n=1}^N a_n(t) sin(2\\pi n \\theta)+ b_n(t) cos(2\\pi n \\theta)$.\n",
    "\n",
    "Adding constant term for $n=0$, $\\frac{a_0}{2} + \\sum_{n=1}^N a_n(t) sin(2\\pi n \\theta)+ b_n(t) cos(2\\pi n \\theta)$.\n",
    "\n",
    "Now, using couple of algebra tricks, one can show above to be equivalent to $\\sum_{n=-N}^N c_n(t) e^{i 2 \\pi n \\theta}$. Where $c_0 = \\frac{a_0}{2}$.\n",
    "\n",
    "$f(\\theta)$ is real iff $c_n = \\overline{c_{-n}}$."
   ]
  },
  {
   "cell_type": "markdown",
   "metadata": {},
   "source": [
    "We want to solve for $c_k$ in $f(\\theta) = \\sum_{n=-N}^{N} c_n(t) e^{2 \\pi i n \\theta}$.\n",
    "\n",
    "Isolate the $c_k$.\n",
    "\n",
    "$$\n",
    "c_k(t) = f(\\theta) e^{-2 \\pi i k \\theta} - \\sum_{n=-N, n \\ne k}^{N} c_n(t) e^{2 \\pi i (n - k) \\theta}\n",
    "$$\n",
    "\n",
    "We will soon see that $e^{2 \\pi i n \\theta}$ and $e^{2 \\pi i k \\theta}$ are part of orthonormal basis vectors. So if we integrate both sides, that term becomes zero. (dot product of orthonormal functions is zero.)\n",
    "\n",
    "Hence, $c_k(t) = \\int_{0}^{1} f(\\theta) e^{-2 \\pi i k \\theta}$.\n",
    "\n",
    "So far notation was for heat on a circular ring. To generalize the notation, \n",
    "$$\n",
    "\\begin{align*}\n",
    "f(t) &= \\sum_{n=-N}^{N} \\hat{f}(n) e^{2 \\pi i n t} \\\\\n",
    "\\text{and} \\space \\hat{f}(n) &= \\int_{0}^{1} f(t) e^{- 2 \\pi i n t} \\\\\n",
    "\\text{in fact} \\space \\hat{f}(n) &= \\int_{a}^{a+1} f(t) e^{- 2 \\pi i n t} \\text{ for any a}\n",
    "\\end{align*}\n",
    "$$\n",
    "\n",
    "Here, f is a periodic function (with period=1) of variable t. t does not need to stand for time, it could be period in space as well."
   ]
  },
  {
   "cell_type": "markdown",
   "metadata": {},
   "source": [
    "We already know, that for real functions $\\hat{f}(n) = \\overline{\\hat{f}(-n)}$.\n",
    "\n",
    "It is easy to show that,\n",
    "- if f is even(odd) function, $\\hat{f}$ is also even(odd).\n",
    "- if f is real and even, $\\hat{f}$ is also real and even.\n",
    "- if f is real and odd, $\\hat{f}$ is purely imaginary and odd."
   ]
  },
  {
   "cell_type": "markdown",
   "metadata": {},
   "source": [
    "If the function has period T instead of 1,\n",
    "\n",
    "$$\n",
    "\\begin{align*}\n",
    "f(t) &= \\sum_{n=-N}^{N} \\hat{f}(n) e^{2 \\pi i n t/ T} \\\\\n",
    "\\text{and} \\space \\hat{f}(n) &= \\frac{1}{T} \\int_{0}^{1} f(t) e^{- 2 \\pi i n t/T} \\\\\n",
    "\\text{or} \\space \\hat{f}(n) &= \\frac{1}{T} \\int_{-T/2}^{T/2} f(t) e^{- 2 \\pi i n t/T} \n",
    "\n",
    "\\end{align*}\n",
    "\n",
    "$$\n",
    "\n",
    "If T is large, frequencies $0, \\pm \\frac{1}{T}, \\pm \\frac{2}{T}, \\dots$ are close. Larger the period, higher the oscillations."
   ]
  },
  {
   "cell_type": "markdown",
   "metadata": {},
   "source": []
  },
  {
   "cell_type": "markdown",
   "metadata": {},
   "source": []
  }
 ],
 "metadata": {
  "language_info": {
   "name": "python"
  },
  "orig_nbformat": 4
 },
 "nbformat": 4,
 "nbformat_minor": 2
}
