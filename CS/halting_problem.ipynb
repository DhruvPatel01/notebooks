{
 "cells": [
  {
   "cell_type": "code",
   "execution_count": 11,
   "id": "13458f8d-d707-4187-ac35-032a4fccfcbd",
   "metadata": {},
   "outputs": [],
   "source": [
    "def eternity():\n",
    "    while True: pass\n",
    "    return True\n",
    "\n",
    "def the_answer():\n",
    "    answer = 0\n",
    "    for i in range(2**1000):\n",
    "        answer += i\n",
    "    return 42"
   ]
  },
  {
   "cell_type": "code",
   "execution_count": 12,
   "id": "9b744823-8268-469c-9060-a663c324c64a",
   "metadata": {},
   "outputs": [],
   "source": [
    "def halts_p(f): # f doesn't take any arguments:\n",
    "    \"\"\"\n",
    "    halts_p takes a function as an argument and returns true if f halts else returns false.\n",
    "    \n",
    "    ```\n",
    "    halts_p(the_answer) == True\n",
    "    halts_p(eternity) == False\n",
    "    ```\n",
    "    \"\"\"\n",
    "    raise NotImplementedError"
   ]
  },
  {
   "cell_type": "code",
   "execution_count": 9,
   "id": "2c8d9fb6-dc4f-4c6f-bd11-73b3d8526a4a",
   "metadata": {},
   "outputs": [],
   "source": [
    "def wierd_function():\n",
    "    return halts_p(wierd_function) and eternity()"
   ]
  },
  {
   "cell_type": "markdown",
   "id": "92125a17-2d15-4c89-855c-90b94eb9d4d6",
   "metadata": {},
   "source": [
    "Q: What is the value of `halts_p(wierd_function)`?\n",
    "\n",
    "Since we assumed that `halts_p` can be written, it has to return True or False.\n",
    "\n",
    "Case 1: `halts_p(wierd_function) == True`\n",
    "\n",
    "Hmmm. If that is the case then, as per Python's sementics \n",
    "```\n",
    "halts_p(wierd_function) and eternity() == True and eternity() == eternity()\n",
    "```\n",
    "\n",
    "But, `eternity()` is an infinite loop. It is clearly wrong (note that we are reasoning outside of Python).\n",
    "\n",
    "Case 2: `halts_p(wierd_function) == False`\n",
    "But then, `halts_p(wierd_function) and eternity() == False and eternity() == False` as per Python's semantics. That is to say, wierd_function definitely halts."
   ]
  },
  {
   "cell_type": "markdown",
   "id": "e99c70ff-6cbc-48bd-bfab-57663f179d77",
   "metadata": {},
   "source": [
    "Blog outline\n",
    "- start with halting problem with no argument\n",
    "- goldbachs conjecture\n",
    "- add minimized version of halting problem with one argument"
   ]
  }
 ],
 "metadata": {
  "kernelspec": {
   "display_name": "Python 3",
   "language": "python",
   "name": "python3"
  },
  "language_info": {
   "codemirror_mode": {
    "name": "ipython",
    "version": 3
   },
   "file_extension": ".py",
   "mimetype": "text/x-python",
   "name": "python",
   "nbconvert_exporter": "python",
   "pygments_lexer": "ipython3",
   "version": "3.10.9"
  }
 },
 "nbformat": 4,
 "nbformat_minor": 5
}
