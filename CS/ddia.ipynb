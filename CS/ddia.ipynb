{
 "cells": [
  {
   "cell_type": "markdown",
   "id": "e856e8a5-1b76-415a-b749-40a432d34c52",
   "metadata": {},
   "source": [
    "## Chapter 1"
   ]
  },
  {
   "cell_type": "markdown",
   "id": "e3dfc164-c9c3-4e83-a303-636d4789de81",
   "metadata": {},
   "source": [
    "The book focuses on three important concerns.\n",
    "1. Reliability: System should continue to work correctly.\n",
    "2. Scalability: As the system grows, there should be a reasonable way to deal the growth.\n",
    "3. Maintainability: Over time, different people will work with it. They should be able to work with the system productively."
   ]
  },
  {
   "cell_type": "markdown",
   "id": "7c054918-91ba-4843-b691-48a841dfdd8a",
   "metadata": {},
   "source": [
    "### Reliability\n",
    "\n",
    "Fault: A component of the system deviates from the spec.\n",
    "Failure: System as a whole stops working.\n",
    "\n",
    "It is impossible to make number of faults to zero. System should instead be designed so that faults don't cause failures."
   ]
  },
  {
   "cell_type": "markdown",
   "id": "0ba798db-18e4-47e5-837e-7226fea63d7f",
   "metadata": {},
   "source": [
    "#### Hardware Faults"
   ]
  },
  {
   "cell_type": "markdown",
   "id": "07091c80-adce-42e2-9ba9-05ab8dce3def",
   "metadata": {},
   "source": [
    "- Mean time to failure of single hardware component is generally large. However, when we have lots of hardware, probability of getting hardware fault increases.\n",
    "\n",
    "If probability of failure is $\\alpha$, and we have N=10_000 components, probability of failing at least one component is $1 - (1-\\alpha)^N$. "
   ]
  },
  {
   "cell_type": "code",
   "execution_count": 13,
   "id": "136ff43b-47f9-438f-8dc6-ee1d32302ce1",
   "metadata": {},
   "outputs": [
    {
     "name": "stdout",
     "output_type": "stream",
     "text": [
      "N= 1000, alpha=0.0001, failure_prob= 9.52%\n",
      "N=10000, alpha=0.0001, failure_prob=63.21%\n",
      "N= 1000, alpha= 0.001, failure_prob=63.23%\n",
      "N=10000, alpha= 0.001, failure_prob=100.0%\n",
      "N= 1000, alpha=  0.01, failure_prob=100.0%\n",
      "N=10000, alpha=  0.01, failure_prob=100.0%\n"
     ]
    }
   ],
   "source": [
    "def failure_prob(N, alpha):\n",
    "    return round((1 - (1-alpha)**N)*100, 2)\n",
    "\n",
    "\n",
    "for alpha in (.0001, .001, .01):\n",
    "    for N in (1000, 10_000):\n",
    "        print(f'{N=:5}, {alpha=:6}, failure_prob={failure_prob(N, alpha):5}%')"
   ]
  },
  {
   "cell_type": "markdown",
   "id": "0b209154-6c40-41fd-a52b-5fbe7123cb55",
   "metadata": {},
   "source": [
    "In earlier days, hardware faults were dealt with adding redundancy, like RAID, power backup. In the cloud, N is too large. And in the cloud it is common for vm to become unavailable. Thus, it is common to design systems that can tolerate the whole machine failure using software fault-tolerant techniques. "
   ]
  },
  {
   "cell_type": "markdown",
   "id": "ac4c567e-6743-4943-84f5-d8479848813f",
   "metadata": {},
   "source": [
    "#### Software Faults"
   ]
  },
  {
   "cell_type": "markdown",
   "id": "eb716bbc-11d6-4d75-ad26-3bf9bdbbe0a1",
   "metadata": {},
   "source": [
    "Software errors tend to cause more failures than hardware ones. e.g., bug in linux kernel, rouge process eating up resources, cascading failures. \n",
    "\n",
    "These bugs remain dormant, and surface rarely. When they do, generally we find that original designers made certain assumptions, which no longer hold true."
   ]
  },
  {
   "cell_type": "markdown",
   "id": "60a39763-1f54-4ddb-b004-b1bd39b766dd",
   "metadata": {},
   "source": [
    "### Scalability"
   ]
  },
  {
   "cell_type": "markdown",
   "id": "21439ae8-34b5-46f7-9483-df3f881f9ac2",
   "metadata": {},
   "source": [
    "Systems that work find currently, may not work when the \"load\" increases. Load can be described with certain parameters called as load parameters. Choice of load parameters depend upon application. It could be rpm, ratio of reads to write in db, number of active users in a chat room etc. \n",
    "\n",
    "Performance can be looked in two ways. When the load parameter increases\n",
    "1. How does the system performance change when hardware is constant?\n",
    "2. How the resources need to be increased, when performance needs to be constant?\n",
    "\n",
    "Performance is generally described by,\n",
    "- throughput in offline systems\n",
    "- response time in online systems\n",
    "\n",
    "It is important to differential between latency and response time. latency is how much time it takes to process the request, response time is from user's pov. If the resources are in heavy demand, request will stay in queue for long time. The latency will be the same, but response time will be higher in this case.\n",
    "\n",
    "These are measured as in p95, p99, p999 and so on. \n",
    "\n",
    "Similar to previous analysis, even if user has only 1 in 1000 chance of experiencing the tail responsetime, if user sends N requests, the chances of them experiencing the bad experience incerases."
   ]
  },
  {
   "cell_type": "code",
   "execution_count": 16,
   "id": "45322c67-96d3-44d7-b4b1-228f7fed252e",
   "metadata": {},
   "outputs": [
    {
     "name": "stdout",
     "output_type": "stream",
     "text": [
      "N=10, alpha=  0.01, failure_prob= 9.56%\n",
      "N=25, alpha=  0.01, failure_prob=22.22%\n",
      "N=50, alpha=  0.01, failure_prob= 39.5%\n",
      "N=10, alpha= 0.001, failure_prob=  1.0%\n",
      "N=25, alpha= 0.001, failure_prob= 2.47%\n",
      "N=50, alpha= 0.001, failure_prob= 4.88%\n"
     ]
    }
   ],
   "source": [
    "\n",
    "for alpha in (0.01, 0.001):\n",
    "    for N in (10, 25, 50):\n",
    "        print(f'{N=:2}, {alpha=:6}, failure_prob={failure_prob(N, alpha):5}%')"
   ]
  },
  {
   "cell_type": "markdown",
   "id": "e319c304-469e-41d7-9951-9230aa6cb606",
   "metadata": {},
   "source": [
    "In addition, customers with slowest experience may very well be the ones who buys most on you platform, and their large purchase history causes the higher response time."
   ]
  },
  {
   "cell_type": "markdown",
   "id": "eda9dd41-b54f-4afc-81cb-39b31c3b1f25",
   "metadata": {},
   "source": [
    "## Chapter 2: Data Models and Query Language"
   ]
  },
  {
   "cell_type": "code",
   "execution_count": null,
   "id": "4e1ca7b0-4714-4657-a342-07c2052587e4",
   "metadata": {},
   "outputs": [],
   "source": []
  }
 ],
 "metadata": {
  "kernelspec": {
   "display_name": "Python 3",
   "language": "python",
   "name": "python3"
  },
  "language_info": {
   "codemirror_mode": {
    "name": "ipython",
    "version": 3
   },
   "file_extension": ".py",
   "mimetype": "text/x-python",
   "name": "python",
   "nbconvert_exporter": "python",
   "pygments_lexer": "ipython3",
   "version": "3.11.3"
  }
 },
 "nbformat": 4,
 "nbformat_minor": 5
}
