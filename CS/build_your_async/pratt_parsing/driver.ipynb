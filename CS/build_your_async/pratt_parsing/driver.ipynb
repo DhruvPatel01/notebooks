{
 "cells": [
  {
   "cell_type": "code",
   "execution_count": 2,
   "id": "15904a84-4477-493d-9c47-18bf45a52fce",
   "metadata": {},
   "outputs": [],
   "source": [
    "%load_ext autoreload\n",
    "%autoreload 2"
   ]
  },
  {
   "cell_type": "markdown",
   "id": "3c2c2f52-a9c4-425d-b2f8-b2117f03cc27",
   "metadata": {},
   "source": [
    "## Test Lexer"
   ]
  },
  {
   "cell_type": "code",
   "execution_count": 3,
   "id": "ed9c10b2-57b0-4a16-98de-93948a5f7916",
   "metadata": {},
   "outputs": [],
   "source": [
    "import lexer"
   ]
  },
  {
   "cell_type": "code",
   "execution_count": 4,
   "id": "3d7d51cc-14fb-47d5-b8b5-a5db2d359cd8",
   "metadata": {},
   "outputs": [],
   "source": [
    "source = \"\"\"from + offset(time)\"\"\""
   ]
  },
  {
   "cell_type": "code",
   "execution_count": 27,
   "id": "22918d50-6ceb-4ade-8714-547c6a022bd7",
   "metadata": {},
   "outputs": [
    {
     "data": {
      "text/plain": [
       "[('NAME', 'from'),\n",
       " ('PLUS',),\n",
       " ('NAME', 'offset'),\n",
       " ('LEFT_PAREN',),\n",
       " ('NAME', 'time'),\n",
       " ('RIGHT_PAREN',),\n",
       " ('EOF',)]"
      ]
     },
     "execution_count": 27,
     "metadata": {},
     "output_type": "execute_result"
    }
   ],
   "source": [
    "scanner = lexer.Scanner(source)\n",
    "scanner.tokens"
   ]
  },
  {
   "cell_type": "markdown",
   "id": "6d0031d8-0957-40cd-b052-4ab0d56bb00e",
   "metadata": {},
   "source": [
    "## Unary"
   ]
  },
  {
   "cell_type": "code",
   "execution_count": 28,
   "id": "ae9c0e4c-2acd-4613-b09d-6536f775c3bf",
   "metadata": {},
   "outputs": [],
   "source": [
    "def parse_prefix(token):\n",
    "    operand = expression()\n",
    "    return ('PREFIX', token[0], operand)\n",
    "\n",
    "def parse_infix(token, left):\n",
    "    right = expression()\n",
    "    return ('INFIX', token[0], left, right)\n",
    "\n",
    "def parse_postfix(token, left):\n",
    "    return ('POSTFIX', token[0])\n",
    "\n",
    "def parse_mixfix(token, left):\n",
    "    return ('MIXFIX', \n",
    "\n",
    "prefix_rules = {\n",
    "    'PLUS': parse_prefix,\n",
    "    'MINUS': parse_prefix,\n",
    "    'BANG': parse_prefix,\n",
    "    'TILDE': parse_prefix,\n",
    "    'NAME': lambda x: x\n",
    "}\n",
    "\n",
    "infix_rules = {\n",
    "    \n",
    "}\n",
    "\n",
    "def expression():\n",
    "    token = scanner.consume()\n",
    "    if token[0] in unary_rules:\n",
    "        return prefix_rules[token[0]](token)\n",
    "    else:\n",
    "        raise Exception(f\"Could not parse {token[1]}.\")\n",
    "        "
   ]
  },
  {
   "cell_type": "code",
   "execution_count": 29,
   "id": "a72814d3-2f18-4fbb-820a-7d6ec66e7f56",
   "metadata": {},
   "outputs": [
    {
     "data": {
      "text/plain": [
       "('PREFIX', 'MINUS', ('NAME', 'x'))"
      ]
     },
     "execution_count": 29,
     "metadata": {},
     "output_type": "execute_result"
    }
   ],
   "source": [
    "scanner = lexer.Scanner(\"-x + y\")\n",
    "expression()"
   ]
  },
  {
   "cell_type": "code",
   "execution_count": 22,
   "id": "fb015de7-9e10-45e8-a47c-9349aeaa3e27",
   "metadata": {},
   "outputs": [
    {
     "data": {
      "text/plain": [
       "[('BANG',), ('PLUS',), ('MINUS',), ('TILDE',), ('NAME', 'x'), ('EOF',)]"
      ]
     },
     "execution_count": 22,
     "metadata": {},
     "output_type": "execute_result"
    }
   ],
   "source": [
    "sc"
   ]
  },
  {
   "cell_type": "code",
   "execution_count": null,
   "id": "b3797bfb-f7bb-493c-9d1a-4d230088f6e1",
   "metadata": {},
   "outputs": [],
   "source": []
  }
 ],
 "metadata": {
  "kernelspec": {
   "display_name": "Python 3",
   "language": "python",
   "name": "python3"
  },
  "language_info": {
   "codemirror_mode": {
    "name": "ipython",
    "version": 3
   },
   "file_extension": ".py",
   "mimetype": "text/x-python",
   "name": "python",
   "nbconvert_exporter": "python",
   "pygments_lexer": "ipython3",
   "version": "3.11.3"
  }
 },
 "nbformat": 4,
 "nbformat_minor": 5
}
