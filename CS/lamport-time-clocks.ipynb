{
 "cells": [
  {
   "cell_type": "markdown",
   "id": "1b9cd5ec-48b5-4017-aceb-866a85829d62",
   "metadata": {},
   "source": [
    "Definition: $a \\to b$\n",
    "\n",
    "$a \\to b$ if any  of following is true.\n",
    "1. a, and b belong to same process, and a is before b in that process.\n",
    "2. event a is a sending of the message and b is the event of receiving of the same message\n",
    "3. $a \\to c$ and $c \\to b$.\n"
   ]
  },
  {
   "cell_type": "markdown",
   "id": "3df830e4-324f-4703-9e2a-b1f3485351ee",
   "metadata": {},
   "source": [
    "Logical Clock:\n",
    "\n",
    "Each process has it's internal \"clock\". A function $C_i(a)$.\n",
    "\n",
    "A system of clocks is a function $C(a) = C_i(a)$ for i where a belongs."
   ]
  },
  {
   "cell_type": "markdown",
   "id": "ef211ac2-a3ea-48f7-a539-a1cdb2876d8b",
   "metadata": {},
   "source": [
    "Clock Condition: if $a \\to b \\implies C(a) < C(b)$."
   ]
  },
  {
   "cell_type": "code",
   "execution_count": null,
   "id": "434d1b7e-9101-4249-b6a8-add52c150895",
   "metadata": {},
   "outputs": [],
   "source": []
  }
 ],
 "metadata": {
  "kernelspec": {
   "display_name": "Python 3",
   "language": "python",
   "name": "python3"
  },
  "language_info": {
   "codemirror_mode": {
    "name": "ipython",
    "version": 3
   },
   "file_extension": ".py",
   "mimetype": "text/x-python",
   "name": "python",
   "nbconvert_exporter": "python",
   "pygments_lexer": "ipython3",
   "version": "3.11.3"
  }
 },
 "nbformat": 4,
 "nbformat_minor": 5
}
