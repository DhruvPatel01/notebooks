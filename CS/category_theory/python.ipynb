{
 "cells": [
  {
   "cell_type": "code",
   "execution_count": 15,
   "id": "47cf2f39-286f-4f6a-9ee9-0854b31e1b69",
   "metadata": {},
   "outputs": [],
   "source": [
    "def identity(arg): return arg\n",
    "\n",
    "def compose(f, g): return lambda x: f(g(x))"
   ]
  },
  {
   "cell_type": "code",
   "execution_count": 16,
   "id": "de96179b-0cf3-4771-9c17-bedb49a4fe1e",
   "metadata": {},
   "outputs": [],
   "source": [
    "def test_compose_identity(f, args):\n",
    "    assert f(args) == compose(f, identity)(args)"
   ]
  },
  {
   "cell_type": "code",
   "execution_count": 17,
   "id": "7d9ceadb-e232-4847-844f-3876946f86be",
   "metadata": {},
   "outputs": [],
   "source": [
    "test_compose_identity(lambda x: x*x, 5)\n",
    "test_compose_identity(lambda x: x[0]**2 + x[1]**2 - 2*x[0]*x[1], (10, 5))"
   ]
  },
  {
   "cell_type": "code",
   "execution_count": null,
   "id": "ef556273-8a99-41b7-8c2b-6fc0f418bca8",
   "metadata": {},
   "outputs": [],
   "source": []
  }
 ],
 "metadata": {
  "kernelspec": {
   "display_name": "Python 3",
   "language": "python",
   "name": "python3"
  },
  "language_info": {
   "codemirror_mode": {
    "name": "ipython",
    "version": 3
   },
   "file_extension": ".py",
   "mimetype": "text/x-python",
   "name": "python",
   "nbconvert_exporter": "python",
   "pygments_lexer": "ipython3",
   "version": "3.10.8"
  }
 },
 "nbformat": 4,
 "nbformat_minor": 5
}
