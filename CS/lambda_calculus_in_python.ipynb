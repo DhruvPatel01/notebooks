{
 "cells": [
  {
   "cell_type": "markdown",
   "id": "6d6f076f-f813-4348-afbe-7d86334fbe22",
   "metadata": {},
   "source": [
    "These are my notes I made while watching the PyCon 2019 video 'Lambda Calculus from the Ground Up' (David Beazley).\n",
    "\n",
    "-------"
   ]
  },
  {
   "cell_type": "markdown",
   "id": "de1ec1f4-d746-48ef-982f-ddc4f4122ef7",
   "metadata": {},
   "source": [
    "**Everything**, repeat EVERYTHING is a function. That too of only one argument. "
   ]
  },
  {
   "cell_type": "code",
   "execution_count": 1,
   "id": "766944ff-794d-4cf4-81a4-d7cfe04ca2af",
   "metadata": {
    "tags": []
   },
   "outputs": [],
   "source": [
    "def f(x): # Currently we are using def just to ease in to the lambda notation.\n",
    "    def g(y):\n",
    "        return x(y)\n",
    "    return g"
   ]
  },
  {
   "cell_type": "code",
   "execution_count": 2,
   "id": "7a96f52e-2bf9-4946-b0ce-3372c372b665",
   "metadata": {
    "tags": []
   },
   "outputs": [
    {
     "data": {
      "text/plain": [
       "100"
      ]
     },
     "execution_count": 2,
     "metadata": {},
     "output_type": "execute_result"
    }
   ],
   "source": [
    "f(lambda x: x**2)(10)"
   ]
  },
  {
   "cell_type": "code",
   "execution_count": 3,
   "id": "df22f349-f918-4841-987f-e451a0905100",
   "metadata": {
    "tags": []
   },
   "outputs": [
    {
     "data": {
      "text/plain": [
       "100"
      ]
     },
     "execution_count": 3,
     "metadata": {},
     "output_type": "execute_result"
    }
   ],
   "source": [
    "(lambda x:x**2)(10)"
   ]
  },
  {
   "cell_type": "markdown",
   "id": "c6a3839d-f3cf-4ee8-8fd0-17b9452782e3",
   "metadata": {},
   "source": [
    "Functions can be created to act as gates. "
   ]
  },
  {
   "cell_type": "code",
   "execution_count": 4,
   "id": "60e0b1e7-a853-41bb-bf83-f3a78d030af8",
   "metadata": {
    "tags": []
   },
   "outputs": [],
   "source": [
    "def LEFT(a):\n",
    "    def f(b):\n",
    "        return a\n",
    "    return f\n",
    "\n",
    "def RIGHT(a):\n",
    "    def f(b):\n",
    "        return b\n",
    "    return f"
   ]
  },
  {
   "cell_type": "markdown",
   "id": "8a9c81bf-c0f7-4e00-980c-115eb4bb7422",
   "metadata": {},
   "source": [
    "Let's go away from def notation to lambda notation."
   ]
  },
  {
   "cell_type": "code",
   "execution_count": 5,
   "id": "5317cb8c-2caf-4d1a-bb3f-92b955024ec6",
   "metadata": {},
   "outputs": [],
   "source": [
    "LEFT  = lambda x: lambda y: x\n",
    "RIGHT = lambda x: lambda y: y"
   ]
  },
  {
   "cell_type": "code",
   "execution_count": 6,
   "id": "16620be3-e089-4fbc-aa22-21d6f1a4b308",
   "metadata": {
    "tags": []
   },
   "outputs": [
    {
     "data": {
      "text/plain": [
       "42"
      ]
     },
     "execution_count": 6,
     "metadata": {},
     "output_type": "execute_result"
    }
   ],
   "source": [
    "LEFT(42)(100)  # the arguments are supposed to be functions. But, we will cheat to explore LEFT and RIGHT."
   ]
  },
  {
   "cell_type": "code",
   "execution_count": 7,
   "id": "9f684303-b40b-4955-9c45-b8276c656d42",
   "metadata": {
    "tags": []
   },
   "outputs": [
    {
     "data": {
      "text/plain": [
       "100"
      ]
     },
     "execution_count": 7,
     "metadata": {},
     "output_type": "execute_result"
    }
   ],
   "source": [
    "RIGHT(42)(100)"
   ]
  },
  {
   "cell_type": "markdown",
   "id": "9c31e4a9-2a7a-45a6-be8e-960e9be8d349",
   "metadata": {},
   "source": [
    "## Boolean Algebra with Functions"
   ]
  },
  {
   "cell_type": "code",
   "execution_count": 8,
   "id": "cb0909be-1f8e-4736-8237-0cfe2982c67a",
   "metadata": {
    "tags": []
   },
   "outputs": [],
   "source": [
    "def TRUE(x):\n",
    "    return lambda y: x\n",
    "\n",
    "def FALSE(x):\n",
    "    return lambda y: y\n",
    "\n",
    "def NOT(x):\n",
    "    return x(FALSE)(TRUE)"
   ]
  },
  {
   "cell_type": "markdown",
   "id": "2c03fc30-b000-4061-afd2-27bde0e96768",
   "metadata": {},
   "source": [
    "Assert statement are just to understand the code better. They are not allowed in lambda calculus at the moment."
   ]
  },
  {
   "cell_type": "code",
   "execution_count": 9,
   "id": "0bce154b-5b6f-4023-9db7-2e0ce3663477",
   "metadata": {
    "tags": []
   },
   "outputs": [],
   "source": [
    "assert NOT(TRUE) is FALSE\n",
    "assert NOT(FALSE) is TRUE"
   ]
  },
  {
   "cell_type": "code",
   "execution_count": 10,
   "id": "e4ecdb06-24b5-4fcf-9c6c-3f65179e8a12",
   "metadata": {
    "tags": []
   },
   "outputs": [],
   "source": [
    "def AND(x):\n",
    "    return lambda y: NOT(x)(x)(y) # this is what I came up with the help of truth table"
   ]
  },
  {
   "cell_type": "code",
   "execution_count": 11,
   "id": "d8304ddb-f73b-40f0-bd42-4d02c74b8d95",
   "metadata": {
    "tags": []
   },
   "outputs": [],
   "source": [
    "# but below is a simpler solution equivalent\n",
    "def AND(x):\n",
    "    return lambda y: x(y)(x)"
   ]
  },
  {
   "cell_type": "code",
   "execution_count": 12,
   "id": "91f7e07c-f966-44ca-b9a7-2a064acd86ff",
   "metadata": {
    "tags": []
   },
   "outputs": [],
   "source": [
    "assert AND(TRUE)(TRUE)  is TRUE\n",
    "assert AND(TRUE)(FALSE)  is FALSE\n",
    "assert AND(FALSE)(TRUE)  is FALSE\n",
    "assert AND(FALSE)(FALSE)  is FALSE"
   ]
  },
  {
   "cell_type": "code",
   "execution_count": 13,
   "id": "cb667a6c-a129-4cd4-8ed1-60fd40d2cf26",
   "metadata": {
    "tags": []
   },
   "outputs": [],
   "source": [
    "def OR(x):\n",
    "    return lambda y: x(x)(y)"
   ]
  },
  {
   "cell_type": "code",
   "execution_count": 14,
   "id": "78fc4f75-b42c-4f71-bf53-ce032f62660f",
   "metadata": {
    "tags": []
   },
   "outputs": [],
   "source": [
    "assert OR(TRUE)(TRUE)  is TRUE\n",
    "assert OR(TRUE)(FALSE)  is TRUE\n",
    "assert OR(FALSE)(TRUE)  is TRUE\n",
    "assert OR(FALSE)(FALSE)  is FALSE"
   ]
  },
  {
   "cell_type": "markdown",
   "id": "8ab728df-1153-4ec3-a5c1-257239b3d037",
   "metadata": {},
   "source": [
    "## Numbers. \n",
    "\n",
    "Remember that in Lambda Calculus, everything is a function. Numbers too are functions."
   ]
  },
  {
   "cell_type": "code",
   "execution_count": 16,
   "id": "11a24620-4306-42b4-9ab4-f04fbcaba7f0",
   "metadata": {
    "tags": []
   },
   "outputs": [],
   "source": [
    "ZERO  = lambda f: lambda x: x\n",
    "ONE   = lambda f: lambda x: f(x)\n",
    "TWO   = lambda f: lambda x: f(f(x))\n",
    "THREE = lambda f: lambda x: f(f(f(x)))\n",
    "FOUR  = lambda f: lambda x: f(f(f(f(x))))\n",
    "FIVE  = lambda f: lambda x: f(f(f(f(f(x)))))"
   ]
  },
  {
   "cell_type": "code",
   "execution_count": 17,
   "id": "1f92772a-800e-4019-b6e1-27af37db244f",
   "metadata": {
    "tags": []
   },
   "outputs": [],
   "source": [
    "# Following snippets are illegal. But they help us debug/visualize what is happening\n",
    "\n",
    "def incr(x):\n",
    "    return x+1 # illegal as per the rules, but helps \n",
    "\n",
    "def show(n):\n",
    "    print(n(incr)(0))"
   ]
  },
  {
   "cell_type": "code",
   "execution_count": 18,
   "id": "085bdd2b-adc9-4f3a-bf4c-f9460f529fac",
   "metadata": {
    "tags": []
   },
   "outputs": [
    {
     "name": "stdout",
     "output_type": "stream",
     "text": [
      "3\n"
     ]
    }
   ],
   "source": [
    "show(THREE)"
   ]
  },
  {
   "cell_type": "code",
   "execution_count": 19,
   "id": "e0f562a4-f6c1-462e-9f25-eebd626304de",
   "metadata": {},
   "outputs": [
    {
     "name": "stdout",
     "output_type": "stream",
     "text": [
      "5\n"
     ]
    }
   ],
   "source": [
    "show(FIVE)"
   ]
  },
  {
   "cell_type": "code",
   "execution_count": 21,
   "id": "06951b52-8952-4635-9b9c-7dc935dd0f68",
   "metadata": {},
   "outputs": [
    {
     "name": "stdout",
     "output_type": "stream",
     "text": [
      "9\n"
     ]
    }
   ],
   "source": [
    "show(TWO(THREE)) # Seems to be doing exponentiation."
   ]
  },
  {
   "cell_type": "raw",
   "id": "6eaa9163-51cb-44fb-a16a-88487530a09f",
   "metadata": {},
   "source": [
    "TWO(THREE)\n",
    "lambda g: THREE(THREE(g))\n",
    "lambda g: THREE(lambda x: g(g(g(x))))\n",
    "lambda g: lambda x: (THREE(g)(THREE(g)(THREE(g)(x))))\n",
    "\n",
    "(THREE(incr)(THREE(incr)(THREE(incr)(0))))\n",
    "(THREE(incr)(THREE(incr)(3)))\n",
    "(THREE(incr)(6))\n",
    "9"
   ]
  },
  {
   "cell_type": "code",
   "execution_count": null,
   "id": "52e1c442-aced-4c38-bba6-e8dfefebab17",
   "metadata": {},
   "outputs": [],
   "source": [
    "THREE(FOUR)\n",
    "lambda g: THREE(FOUR(g))\n",
    "lambda g: THREE(lambda x: g(g(g(g(x)))))\n",
    "lambda g: THREE(FOUUR(g)(FOUR(g)(FOUR(g)(FOUR(g)(x))))\n",
    "\n",
    "(THREE(incr)(THREE(incr)(THREE(incr)(0))))\n",
    "(THREE(incr)(THREE(incr)(3)))\n",
    "(THREE(incr)(6))\n",
    "9"
   ]
  },
  {
   "cell_type": "code",
   "execution_count": 28,
   "id": "830fb9c7-09c1-41f7-8c6b-e00e093a947b",
   "metadata": {},
   "outputs": [
    {
     "name": "stdout",
     "output_type": "stream",
     "text": [
      "25\n"
     ]
    }
   ],
   "source": [
    "show(TWO(FIVE))"
   ]
  },
  {
   "cell_type": "code",
   "execution_count": 23,
   "id": "440b2bbd-23d9-48ab-956c-f2bda05b8295",
   "metadata": {},
   "outputs": [
    {
     "name": "stdout",
     "output_type": "stream",
     "text": [
      "81\n"
     ]
    }
   ],
   "source": [
    "show(FOUR(THREE))"
   ]
  },
  {
   "cell_type": "code",
   "execution_count": 18,
   "id": "79be5803-2fe1-4369-bdc9-f8dc3d2eaa44",
   "metadata": {
    "tags": []
   },
   "outputs": [
    {
     "data": {
      "text/plain": [
       "9"
      ]
     },
     "execution_count": 18,
     "metadata": {},
     "output_type": "execute_result"
    }
   ],
   "source": [
    "THREE(THREE(incr))(0)"
   ]
  },
  {
   "cell_type": "code",
   "execution_count": 19,
   "id": "4db07642-900a-406f-b21c-4819b5491ea6",
   "metadata": {
    "tags": []
   },
   "outputs": [
    {
     "data": {
      "text/plain": [
       "6"
      ]
     },
     "execution_count": 19,
     "metadata": {},
     "output_type": "execute_result"
    }
   ],
   "source": [
    "THREE(TWO(incr))(0) # WOW!"
   ]
  },
  {
   "cell_type": "markdown",
   "id": "fe097eac-8056-48e6-aa16-ec413793b755",
   "metadata": {},
   "source": [
    "### How to understand that thing?\n",
    "\n",
    "```\n",
    "let j = TWO(incr)\n",
    "j(4) = 6\n",
    "THREE(j)(x) = j(j(j(x)))\n",
    "THREE(j)(0) = j(j(j(0))) = j(j(2)) = j(4) = 6\n",
    "```"
   ]
  },
  {
   "cell_type": "code",
   "execution_count": 20,
   "id": "b50007b9-6b3b-4101-9667-e433440b0719",
   "metadata": {
    "tags": []
   },
   "outputs": [
    {
     "data": {
      "text/plain": [
       "81"
      ]
     },
     "execution_count": 20,
     "metadata": {},
     "output_type": "execute_result"
    }
   ],
   "source": [
    "FOUR(THREE)(incr)(0) # Wow Wow"
   ]
  },
  {
   "cell_type": "code",
   "execution_count": 21,
   "id": "8a2f5a26-435a-4315-a4b4-054c916fc004",
   "metadata": {
    "tags": []
   },
   "outputs": [],
   "source": [
    "#Zero?\n",
    "\n",
    "ZERO = lambda f: lambda x: x\n",
    "\n",
    "# Notice zero has same implementation as FALSE"
   ]
  },
  {
   "cell_type": "code",
   "execution_count": 32,
   "id": "52e78447-5245-43c6-a995-cbc3e97f9c7e",
   "metadata": {},
   "outputs": [],
   "source": [
    "INF = lambda x: (lambda f: f(f))(lambda f: f(f)) \n",
    "# INF(42) # You can run this. Python has recursion limit."
   ]
  },
  {
   "cell_type": "code",
   "execution_count": 33,
   "id": "15eb8526-bae3-427a-8071-043dfeda8112",
   "metadata": {},
   "outputs": [
    {
     "data": {
      "text/plain": [
       "42"
      ]
     },
     "execution_count": 33,
     "metadata": {},
     "output_type": "execute_result"
    }
   ],
   "source": [
    "ZERO(INF)(42) # Zero(f) is identity function for any f."
   ]
  },
  {
   "cell_type": "markdown",
   "id": "1119252e-4409-4375-8125-a9502f478fe3",
   "metadata": {},
   "source": [
    "## Peano arithmetic\n",
    "\n",
    "- 0 is a number\n",
    "- if n is a number then n+1 is a number"
   ]
  },
  {
   "cell_type": "code",
   "execution_count": 34,
   "id": "88897673-4e7c-4a54-acce-06bef7a14521",
   "metadata": {
    "tags": []
   },
   "outputs": [],
   "source": [
    "SUCC = lambda n: lambda f: lambda x: f(n(f)(x))"
   ]
  },
  {
   "cell_type": "code",
   "execution_count": 35,
   "id": "c0e32843-6fb4-421b-8745-4b6441f29036",
   "metadata": {
    "tags": []
   },
   "outputs": [
    {
     "data": {
      "text/plain": [
       "6"
      ]
     },
     "execution_count": 35,
     "metadata": {},
     "output_type": "execute_result"
    }
   ],
   "source": [
    "SUCC(SUCC(SUCC(THREE)))(incr)(0)"
   ]
  },
  {
   "cell_type": "code",
   "execution_count": 36,
   "id": "8edecc09-ac1c-446b-8c4b-233a27674fac",
   "metadata": {
    "tags": []
   },
   "outputs": [
    {
     "data": {
      "text/plain": [
       "5"
      ]
     },
     "execution_count": 36,
     "metadata": {},
     "output_type": "execute_result"
    }
   ],
   "source": [
    "incr(FOUR(incr)(0))"
   ]
  },
  {
   "cell_type": "code",
   "execution_count": 25,
   "id": "e4acf775-3642-4cac-a7be-aafb93539d20",
   "metadata": {
    "tags": []
   },
   "outputs": [],
   "source": [
    "# ADD = lambda n: lambda m: lambda f: lambda x: m(SUCC)(n(f)(x))\n",
    "ADD = lambda x: lambda y: y(SUCC)(x)"
   ]
  },
  {
   "cell_type": "code",
   "execution_count": 26,
   "id": "c33e4b1a-2300-48a1-828d-978924ae1c74",
   "metadata": {
    "tags": []
   },
   "outputs": [
    {
     "data": {
      "text/plain": [
       "5"
      ]
     },
     "execution_count": 26,
     "metadata": {},
     "output_type": "execute_result"
    }
   ],
   "source": [
    "ADD(TWO)(THREE)(incr)(0)"
   ]
  },
  {
   "cell_type": "code",
   "execution_count": 60,
   "id": "e3cbf524-0a90-4841-a88f-a5d96ec21535",
   "metadata": {
    "tags": []
   },
   "outputs": [],
   "source": [
    "MULT =  lambda x: lambda y: lambda f: x(y(f))"
   ]
  },
  {
   "cell_type": "code",
   "execution_count": 61,
   "id": "4139db47-a8c1-42c1-8b01-71fdfd67bcbd",
   "metadata": {
    "tags": []
   },
   "outputs": [
    {
     "data": {
      "text/plain": [
       "4"
      ]
     },
     "execution_count": 61,
     "metadata": {},
     "output_type": "execute_result"
    }
   ],
   "source": [
    "MULT(TWO)(TWO)(incr)(0)"
   ]
  },
  {
   "cell_type": "markdown",
   "id": "335aa218-bf2d-4bff-b67c-2a293929636c",
   "metadata": {},
   "source": [
    "# List Processing "
   ]
  },
  {
   "cell_type": "code",
   "execution_count": 39,
   "id": "62455e08-80e3-427a-8db3-26b9633759c2",
   "metadata": {},
   "outputs": [],
   "source": [
    "CONS = lambda a: lambda b: lambda s: s(a)(b)"
   ]
  },
  {
   "cell_type": "code",
   "execution_count": 30,
   "id": "7f4e1969-6e6a-4b85-8b0c-421bd56aafa0",
   "metadata": {},
   "outputs": [
    {
     "data": {
      "text/plain": [
       "4"
      ]
     },
     "execution_count": 30,
     "metadata": {},
     "output_type": "execute_result"
    }
   ],
   "source": [
    "CONS(4)(2)(LEFT)"
   ]
  },
  {
   "cell_type": "code",
   "execution_count": 31,
   "id": "f5623099-de93-4836-a316-86e6035c536f",
   "metadata": {},
   "outputs": [
    {
     "data": {
      "text/plain": [
       "2"
      ]
     },
     "execution_count": 31,
     "metadata": {},
     "output_type": "execute_result"
    }
   ],
   "source": [
    "CONS(4)(2)(RIGHT)"
   ]
  },
  {
   "cell_type": "code",
   "execution_count": 40,
   "id": "50facb30-2fc6-458d-b149-270cd92b60b2",
   "metadata": {},
   "outputs": [],
   "source": [
    "CAR = lambda p: p(TRUE)\n",
    "CDR = lambda p: p(FALSE)"
   ]
  },
  {
   "cell_type": "code",
   "execution_count": 33,
   "id": "c14bca34-0301-416f-8e8d-4fb52523d389",
   "metadata": {},
   "outputs": [
    {
     "data": {
      "text/plain": [
       "1"
      ]
     },
     "execution_count": 33,
     "metadata": {},
     "output_type": "execute_result"
    }
   ],
   "source": [
    "CAR(CONS(1)(2))"
   ]
  },
  {
   "cell_type": "code",
   "execution_count": 34,
   "id": "9fd95d03-715f-46ac-92aa-392367c154ca",
   "metadata": {},
   "outputs": [
    {
     "data": {
      "text/plain": [
       "2"
      ]
     },
     "execution_count": 34,
     "metadata": {},
     "output_type": "execute_result"
    }
   ],
   "source": [
    "CDR(CONS(1)(2))"
   ]
  },
  {
   "cell_type": "code",
   "execution_count": 37,
   "id": "04862a9a-11bb-4b8a-a49d-9abc60d4fd01",
   "metadata": {},
   "outputs": [
    {
     "data": {
      "text/plain": [
       "3"
      ]
     },
     "execution_count": 37,
     "metadata": {},
     "output_type": "execute_result"
    }
   ],
   "source": [
    "CAR(CONS(3)(CONS(2)(1)))"
   ]
  },
  {
   "cell_type": "code",
   "execution_count": 39,
   "id": "99a15c50-d132-40e4-9786-2d8d1811bbf9",
   "metadata": {},
   "outputs": [
    {
     "data": {
      "text/plain": [
       "2"
      ]
     },
     "execution_count": 39,
     "metadata": {},
     "output_type": "execute_result"
    }
   ],
   "source": [
    "CAR(CDR(CONS(3)(CONS(2)(1))))"
   ]
  },
  {
   "cell_type": "code",
   "execution_count": 40,
   "id": "14a0ab55-c3da-4ff9-a45a-0c431e0c245f",
   "metadata": {},
   "outputs": [
    {
     "data": {
      "text/plain": [
       "1"
      ]
     },
     "execution_count": 40,
     "metadata": {},
     "output_type": "execute_result"
    }
   ],
   "source": [
    "CDR(CDR(CONS(3)(CONS(2)(1))))"
   ]
  },
  {
   "cell_type": "markdown",
   "id": "b0987de5-bf9a-492d-8001-84f6d89948d9",
   "metadata": {},
   "source": [
    "## How to get back to previous number?\n",
    "\n",
    "What if you stored numbers as (n+1, n)? i.e., CONS(SUCC(n))(n)?"
   ]
  },
  {
   "cell_type": "code",
   "execution_count": 41,
   "id": "b5046262-5837-4462-832d-b4644fc7e791",
   "metadata": {},
   "outputs": [],
   "source": [
    "T = lambda n: CONS(SUCC(CAR(n)))(CAR(n))"
   ]
  },
  {
   "cell_type": "code",
   "execution_count": 42,
   "id": "e73305b0-9e9d-45d0-ad26-60a62cada9d7",
   "metadata": {},
   "outputs": [],
   "source": [
    "a = FOUR(T)(CONS(ZERO)(ZERO))"
   ]
  },
  {
   "cell_type": "code",
   "execution_count": 46,
   "id": "d51dfc08-f44d-4063-b4d0-4c32173bd959",
   "metadata": {},
   "outputs": [
    {
     "name": "stdout",
     "output_type": "stream",
     "text": [
      "4\n",
      "3\n"
     ]
    }
   ],
   "source": [
    "show(CAR(a)), show(CDR(a));"
   ]
  },
  {
   "cell_type": "code",
   "execution_count": 47,
   "id": "798c6bde-0600-41cf-98f6-dcfdfd03de44",
   "metadata": {},
   "outputs": [],
   "source": [
    "PRED = lambda n: CDR(n(T)(CONS(ZERO)(ZERO)))"
   ]
  },
  {
   "cell_type": "code",
   "execution_count": 49,
   "id": "1b4c1f36-a4bb-4b21-9eb8-8220dea55313",
   "metadata": {},
   "outputs": [
    {
     "name": "stdout",
     "output_type": "stream",
     "text": [
      "3\n"
     ]
    }
   ],
   "source": [
    "show(PRED(FOUR))"
   ]
  },
  {
   "cell_type": "code",
   "execution_count": 50,
   "id": "aeb4043f-8d66-4876-a322-6e1c1fd7f3a2",
   "metadata": {},
   "outputs": [],
   "source": [
    "SUB = lambda x: lambda y: y(PRED)(x)"
   ]
  },
  {
   "cell_type": "code",
   "execution_count": 51,
   "id": "b6c3da94-a9b2-4b65-80f2-c6724f06ec1f",
   "metadata": {},
   "outputs": [
    {
     "data": {
      "text/plain": [
       "2"
      ]
     },
     "execution_count": 51,
     "metadata": {},
     "output_type": "execute_result"
    }
   ],
   "source": [
    "SUB(FOUR)(TWO)(incr)(0)"
   ]
  },
  {
   "cell_type": "code",
   "execution_count": 54,
   "id": "f21ab13a-27c7-4f53-8e85-d398ba36efbb",
   "metadata": {},
   "outputs": [],
   "source": [
    "ISZERO = lambda n: n(lambda x: FALSE)(TRUE)"
   ]
  },
  {
   "cell_type": "code",
   "execution_count": 55,
   "id": "78e834b0-f403-4587-a371-e37c01443d96",
   "metadata": {},
   "outputs": [
    {
     "data": {
      "text/plain": [
       "2"
      ]
     },
     "execution_count": 55,
     "metadata": {},
     "output_type": "execute_result"
    }
   ],
   "source": [
    "ISZERO(ONE)(1)(2)"
   ]
  },
  {
   "cell_type": "markdown",
   "id": "55fae1a0-75ea-4793-84da-4edd3f01962e",
   "metadata": {},
   "source": [
    "We have build an assembly language.\n",
    "\n",
    "AND, OR, NOT, SUCC, PRED, ADD, MUL, SUB, CONS, CAR, CDR , ISZERO"
   ]
  },
  {
   "cell_type": "markdown",
   "id": "5d76fe15-5335-4df0-9588-6bf2f580af86",
   "metadata": {},
   "source": [
    "## Recursion"
   ]
  },
  {
   "cell_type": "code",
   "execution_count": 58,
   "id": "71b3eb14-00ac-49f8-94b5-9a402031e566",
   "metadata": {},
   "outputs": [],
   "source": [
    "FACT = lambda n: ISZERO(n)(1)(MULT(n)(FACT(PRED(n))))"
   ]
  },
  {
   "cell_type": "code",
   "execution_count": 63,
   "id": "c873f55e-3d70-4d88-996c-e9c36ef9260a",
   "metadata": {},
   "outputs": [
    {
     "ename": "RecursionError",
     "evalue": "maximum recursion depth exceeded",
     "output_type": "error",
     "traceback": [
      "\u001b[0;31m---------------------------------------------------------------------------\u001b[0m",
      "\u001b[0;31mRecursionError\u001b[0m                            Traceback (most recent call last)",
      "Cell \u001b[0;32mIn[63], line 1\u001b[0m\n\u001b[0;32m----> 1\u001b[0m \u001b[43mFACT\u001b[49m\u001b[43m(\u001b[49m\u001b[43mTHREE\u001b[49m\u001b[43m)\u001b[49m\n\u001b[1;32m      3\u001b[0m \u001b[38;5;66;03m# The reason why this didn't work is that 1, \u001b[39;00m\n\u001b[1;32m      4\u001b[0m \u001b[38;5;66;03m# and the other else argument (MULT(n)(FACT(PRED(n))))\u001b[39;00m\n\u001b[1;32m      5\u001b[0m \u001b[38;5;66;03m# are evaluated before True or False gets evaluated on these\u001b[39;00m\n\u001b[1;32m      6\u001b[0m \u001b[38;5;66;03m# arguments\u001b[39;00m\n",
      "Cell \u001b[0;32mIn[58], line 1\u001b[0m, in \u001b[0;36m<lambda>\u001b[0;34m(n)\u001b[0m\n\u001b[0;32m----> 1\u001b[0m FACT \u001b[38;5;241m=\u001b[39m \u001b[38;5;28;01mlambda\u001b[39;00m n: ISZERO(n)(\u001b[38;5;241m1\u001b[39m)(MULT(n)(\u001b[43mFACT\u001b[49m\u001b[43m(\u001b[49m\u001b[43mPRED\u001b[49m\u001b[43m(\u001b[49m\u001b[43mn\u001b[49m\u001b[43m)\u001b[49m\u001b[43m)\u001b[49m))\n",
      "Cell \u001b[0;32mIn[58], line 1\u001b[0m, in \u001b[0;36m<lambda>\u001b[0;34m(n)\u001b[0m\n\u001b[0;32m----> 1\u001b[0m FACT \u001b[38;5;241m=\u001b[39m \u001b[38;5;28;01mlambda\u001b[39;00m n: ISZERO(n)(\u001b[38;5;241m1\u001b[39m)(MULT(n)(\u001b[43mFACT\u001b[49m\u001b[43m(\u001b[49m\u001b[43mPRED\u001b[49m\u001b[43m(\u001b[49m\u001b[43mn\u001b[49m\u001b[43m)\u001b[49m\u001b[43m)\u001b[49m))\n",
      "    \u001b[0;31m[... skipping similar frames: <lambda> at line 1 (2968 times)]\u001b[0m\n",
      "Cell \u001b[0;32mIn[58], line 1\u001b[0m, in \u001b[0;36m<lambda>\u001b[0;34m(n)\u001b[0m\n\u001b[0;32m----> 1\u001b[0m FACT \u001b[38;5;241m=\u001b[39m \u001b[38;5;28;01mlambda\u001b[39;00m n: ISZERO(n)(\u001b[38;5;241m1\u001b[39m)(MULT(n)(FACT(\u001b[43mPRED\u001b[49m\u001b[43m(\u001b[49m\u001b[43mn\u001b[49m\u001b[43m)\u001b[49m)))\n",
      "Cell \u001b[0;32mIn[47], line 1\u001b[0m, in \u001b[0;36m<lambda>\u001b[0;34m(n)\u001b[0m\n\u001b[0;32m----> 1\u001b[0m PRED \u001b[38;5;241m=\u001b[39m \u001b[38;5;28;01mlambda\u001b[39;00m n: \u001b[43mCDR\u001b[49m\u001b[43m(\u001b[49m\u001b[43mn\u001b[49m\u001b[43m(\u001b[49m\u001b[43mT\u001b[49m\u001b[43m)\u001b[49m\u001b[43m(\u001b[49m\u001b[43mCONS\u001b[49m\u001b[43m(\u001b[49m\u001b[43mZERO\u001b[49m\u001b[43m)\u001b[49m\u001b[43m(\u001b[49m\u001b[43mZERO\u001b[49m\u001b[43m)\u001b[49m\u001b[43m)\u001b[49m\u001b[43m)\u001b[49m\n",
      "Cell \u001b[0;32mIn[40], line 2\u001b[0m, in \u001b[0;36m<lambda>\u001b[0;34m(p)\u001b[0m\n\u001b[1;32m      1\u001b[0m CAR \u001b[38;5;241m=\u001b[39m \u001b[38;5;28;01mlambda\u001b[39;00m p: p(TRUE)\n\u001b[0;32m----> 2\u001b[0m CDR \u001b[38;5;241m=\u001b[39m \u001b[38;5;28;01mlambda\u001b[39;00m p: \u001b[43mp\u001b[49m\u001b[43m(\u001b[49m\u001b[43mFALSE\u001b[49m\u001b[43m)\u001b[49m\n",
      "Cell \u001b[0;32mIn[39], line 1\u001b[0m, in \u001b[0;36m<lambda>\u001b[0;34m(s)\u001b[0m\n\u001b[0;32m----> 1\u001b[0m CONS \u001b[38;5;241m=\u001b[39m \u001b[38;5;28;01mlambda\u001b[39;00m a: \u001b[38;5;28;01mlambda\u001b[39;00m b: \u001b[38;5;28;01mlambda\u001b[39;00m s: \u001b[43ms\u001b[49m\u001b[43m(\u001b[49m\u001b[43ma\u001b[49m\u001b[43m)\u001b[49m(b)\n",
      "\u001b[0;31mRecursionError\u001b[0m: maximum recursion depth exceeded"
     ]
    }
   ],
   "source": [
    "FACT(THREE)"
   ]
  },
  {
   "cell_type": "markdown",
   "id": "0e60722a-4a83-466a-8441-2f40a9c670cd",
   "metadata": {},
   "source": [
    "The reason why this didn't work is that 1,  and the other else argument (MULT(n)(FACT(PRED(n))))\n",
    "are evaluated before True or False gets evaluated on these arguments.\n",
    "\n",
    "This is not the limitation of Lambda Calculus, but of Python. Python evaluates it's arguments eagerly.\n",
    "\n",
    "Below is a hacky patch (which introduces illegal no argument functions)."
   ]
  },
  {
   "cell_type": "code",
   "execution_count": 75,
   "id": "99be87fd-0950-41d8-9297-fe627f44b4d4",
   "metadata": {},
   "outputs": [],
   "source": [
    "LAZY_TRUE = lambda x: lambda y: x()\n",
    "LAZY_FALSE = lambda x: lambda y: y()\n",
    "LAZY_ISZERO = lambda n: n(lambda x: LAZY_FALSE)(LAZY_TRUE)"
   ]
  },
  {
   "cell_type": "code",
   "execution_count": 78,
   "id": "66679575-9868-4167-a26a-473cf9773286",
   "metadata": {},
   "outputs": [],
   "source": [
    "FACT = lambda n: LAZY_ISZERO(n)(lambda: ONE)(lambda: MULT(n)(FACT(PRED(n))))"
   ]
  },
  {
   "cell_type": "code",
   "execution_count": 80,
   "id": "0a4f1606-718d-406f-9eb1-c615d12eaff5",
   "metadata": {},
   "outputs": [
    {
     "name": "stdout",
     "output_type": "stream",
     "text": [
      "6\n"
     ]
    }
   ],
   "source": [
    "show(FACT(THREE))"
   ]
  },
  {
   "cell_type": "code",
   "execution_count": 81,
   "id": "41e47e86-f459-453b-ad3a-918f6d1d96f8",
   "metadata": {},
   "outputs": [
    {
     "name": "stdout",
     "output_type": "stream",
     "text": [
      "24\n"
     ]
    }
   ],
   "source": [
    "show(FACT(FOUR))"
   ]
  },
  {
   "cell_type": "markdown",
   "id": "fe95dfed-e7ae-4cf7-82a9-2e4854e03410",
   "metadata": {},
   "source": [
    "## Annonymous functions\n",
    "\n",
    "In lambda calculus, there is no global variables. You can't store a function into names like FACT, TRUE etc."
   ]
  },
  {
   "cell_type": "code",
   "execution_count": null,
   "id": "de4f802e-75f8-4c76-b007-03df1803b34f",
   "metadata": {},
   "outputs": [],
   "source": []
  }
 ],
 "metadata": {
  "kernelspec": {
   "display_name": "Python 3",
   "language": "python",
   "name": "python3"
  },
  "language_info": {
   "codemirror_mode": {
    "name": "ipython",
    "version": 3
   },
   "file_extension": ".py",
   "mimetype": "text/x-python",
   "name": "python",
   "nbconvert_exporter": "python",
   "pygments_lexer": "ipython3",
   "version": "3.11.3"
  }
 },
 "nbformat": 4,
 "nbformat_minor": 5
}
