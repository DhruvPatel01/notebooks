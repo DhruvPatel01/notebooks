{
 "cells": [
  {
   "cell_type": "markdown",
   "id": "4232498a-7965-4a28-8815-4aa558dfe5ac",
   "metadata": {
    "jp-MarkdownHeadingCollapsed": true
   },
   "source": [
    "## Lecture 1"
   ]
  },
  {
   "cell_type": "markdown",
   "id": "bb2d3b74-0ef8-42b1-82dd-293d4eea18a1",
   "metadata": {},
   "source": [
    "[official lecture notes](https://timroughgarden.github.io/fob21/l/l1.pdf) \n",
    "\n",
    "[Archive](https://web.archive.org/web/20230000000000*/https://timroughgarden.github.io/fob21/l/l1.pdf)\n",
    "\n",
    "### Blockchain stack\n",
    "Not a serious taxonomy. It is also fuzzy. In reality, the separation between the layers is not as clean (status in late 2021).\n",
    "\n",
    "Bottom -> Top\n",
    "\n",
    "0. Layer 0: The Internet (untrusted parties can send arbitrary packets), it is not perfect (delays, malwares etc.)\n",
    "1. Layer 1: Consensus Layer (IMP Layer) Keeping the scattered nodes in sync. (e.g., Etherium, Bitcoin)\n",
    "2. Layer 1.5: Compute Layer (smart contracts) (agreement on the sequence of instruction, but also execution of these instructions).\n",
    "3. Layer 2: Scaling Layer. Same functionality of layer 1, but at scale. (Bitcoins 5 transactions per second, this is slow).\n",
    "4. Layer 3: Application Layer. \n",
    "\n",
    "### Overview\n",
    "\n",
    "- 60% of the lectures are about Layer 1.\n",
    "    - classical protocols\n",
    "    - Naka moto/longest chain consensus\n",
    "    - sybil-resistance algorithm\n",
    "    - difficulty adjustment algorithms\n",
    "    - deep dives in Bitcoin, Ethereum (not engineering details, just theory)\n",
    "- 20% of the lectuers about Layer 2.\n",
    "    - lightning network\n",
    "    - rollouts (Etherium)\n",
    "    - next gen layer 1 protocols\n",
    "- Applications layer\n",
    "    - DeFi (Decentralized Finance)\n",
    "    - if time permits, MEV (Miner Extractable Value) and DAOS"
   ]
  },
  {
   "cell_type": "markdown",
   "id": "fe1e47c5-850c-4bb4-824f-7c7166896117",
   "metadata": {},
   "source": [
    "### Digital Signature Schemes"
   ]
  },
  {
   "cell_type": "markdown",
   "id": "35dedd1e-7176-4986-a84b-3fbb6b565791",
   "metadata": {},
   "source": [
    "Consensus: Keep multiple nodes in sync.\n",
    "\n",
    "Q: Why difficult?\n",
    "A: DDoS, delays, out of date protocol, malicious protocol\n",
    "\n",
    "Lecture 2 will start with too many restrictions. Upcoming lectuers will relax most of them, but two.\n",
    "1. Internext exists\n",
    "2. Cryptography exists\n",
    "\n",
    "DSS is made of three algorithms.\n",
    "1. Key generation algorithm (maps random seed to public key, secret key pair) e.g., ssh-keygen\n",
    "2. signing algorithm (maps msg + secret key to a msg + signature)\n",
    "3. Verification algorithm (maps msg+signature+public key to boolean)\n",
    "\n",
    "We will assume that signatures are ideal, i.e., forgery is impossible). Not 100% accurate, as in principle, we can bruteforce. Bruteforce is exponential. How do we know that a clever polynomial algorithm does not exist? We assume that there is not. \n",
    "\n",
    "Unless otherwise noted, assume that every message in the protocols have signatures attached to it."
   ]
  },
  {
   "cell_type": "markdown",
   "id": "50bb3bff-d183-42b8-aca9-7872a71fdd9e",
   "metadata": {},
   "source": [
    "### SMR(State Machine Replication) Problem \n",
    "\n",
    "Problem worked in 1980s. State machines are similar to finite automata. \n",
    "\n",
    "State machine:\n",
    "\n",
    "After executing instruction, state changes. (In 1980s state was state of the database, insert delete changes the database).(Nowadays, it can be current balance, all current users etc.)"
   ]
  },
  {
   "cell_type": "markdown",
   "id": "b2867682-d584-412e-9765-d4b54c13f4d9",
   "metadata": {},
   "source": [
    "Replication:\n",
    "\n",
    "In 1980s, people wanted to provide higher uptime for databases. The solution was to have multiple copies of the database, in different machines. But, the problem is how to keep the state between them synced?\n",
    "\n",
    "In Blockchain, we have decentralized system. All the nodes are replicating instruction execution. No one is the sole owner of the state. "
   ]
  },
  {
   "cell_type": "markdown",
   "id": "49454e00-17cb-4f4d-b641-6cb2fe9daac0",
   "metadata": {},
   "source": [
    "Nodes: Running the protocols\n",
    "Clients: Users (read the state or change the state)\n",
    "\n",
    "Messages from clients to nodes are referred as transactions.\n",
    "\n",
    "each node maintains a local append-only data structure (aka history). History is ordered. Transactions are stored into this history. We want to keep the history syncronized.\n",
    "\n",
    "Goals for the solution\n",
    "- consistency: keep the histories synced (same txs sequence), some machines are allowed to lag behind. (any pair of nodes, either both of them have identical histories, or one of their history is a prefix of another one).\n",
    "- liveness: every valid tx submitted eventually added to history.\n",
    "\n",
    "Next 4 lectures solve this problem for various assumptions. \n"
   ]
  },
  {
   "cell_type": "markdown",
   "id": "7b21cd03-e248-4019-a6e2-841130b9e609",
   "metadata": {
    "jp-MarkdownHeadingCollapsed": true
   },
   "source": [
    "## Overview of Lectuers 2-7\n",
    "\n",
    "- [RG Notes](https://timroughgarden.github.io/fob21/l/l2-7-overview.pdf)  \n",
    "- [Archive](https://web.archive.org/web/20220131143244/https://timroughgarden.github.io/fob21/l/l2-7-overview.pdf)\n",
    "- [RG Slides](https://timroughgarden.github.io/fob21/slides/F21L2-7-overview.pdf)"
   ]
  },
  {
   "cell_type": "markdown",
   "id": "28b96f39-ea5f-4864-8803-0369cd18771a",
   "metadata": {},
   "source": [
    "- consensus (discussed in lec 1)\n",
    "- consensus from first principles (l2-l7) classic material on consensus\n",
    "- remaining lectures are about last 5 years (till 2021)\n",
    "- possibility results and impossibility results (good protocols do not exists unless certain assumptions are made)\n",
    "\n",
    "- L7. Real protocol (Tendermint protocol (used by cosmos and terra)).\n",
    "  - Provable guarantees.\n",
    "    - consistency\n",
    "    - liveness\n",
    "- L6. Partial synchronus model. (IMP for blockchain)\n",
    "    - normal mode\n",
    "    - attack mode\n",
    "    - Will prove 67% honest nodes are required.\n",
    "    - Relate above things with CAP theorem.\n",
    "    - Partial model is interpolation of ...\n",
    "- L2, L3: Synchronous protocol\n",
    "- L4, L5: Asynchronous protocol\n",
    "\n"
   ]
  },
  {
   "cell_type": "markdown",
   "id": "95767b4b-6449-4105-873b-769f50053961",
   "metadata": {},
   "source": [
    "## Lecture 2: The Dolev-Strong Protocol\n",
    "- [RG Notes](https://timroughgarden.github.io/fob21/l/l2.pdf)\n",
    "- [RG Notes Archive](https://web.archive.org/web/20220204231653/https://timroughgarden.github.io/fob21/l/l2.pdf)"
   ]
  },
  {
   "cell_type": "markdown",
   "id": "0883b42a-9435-4ef7-be9e-420ec57e84a4",
   "metadata": {},
   "source": [
    "SMR Problem: State Machine Replication\n",
    "\n",
    "- Nodes: machines that are running the protocol \n",
    "- Clients: submit the transactions (users)\n",
    "\n",
    "History: Append only **ordered** sequence of the transactions.\n",
    "\n",
    "Goal: A protocol (event-driven code) satisfies \n",
    "1. Consistency: All nodes agree on the same history \n",
    "2. Liveness: Every submitted transactions eventually get added to all the node histories\n",
    "\n",
    "Solution depends on the assumptions we make.\n",
    "\n",
    "Assumptions (to be relaxed)\n",
    "1. Permissioned setting: A priori known set of nodes {1, 2, 3, ..., n}. (can be identified by IP addresses)\n",
    "2. PKI (public key infra.) Each node i has pk_i and sk_i pairs. All nodes know everybody elses' public keys.\n",
    "3. Synchronous model: \n",
    "- All of the nodes share a global clock.  \n",
    "- (Very strong assumption) All messages sent at time t, arrive by time t+1.\n",
    "4. All the nodes are honest (all the nodes run intended protocols). Will be the first one to be relaxed.\n",
    "\n",
    "Under these assumption, we can solve an SMR which has consistency and liveness.\n"
   ]
  },
  {
   "cell_type": "markdown",
   "id": "c8d0ea6e-ebcb-449a-ab60-2bc307e3ffb0",
   "metadata": {},
   "source": [
    "### Solution via Round Robin Leaders\n",
    "\n",
    "- Nodes take turns as leaders. (i.e., at time t node t%n is the leader). This leader does the coordination. \n",
    "- The leader orders the message it receives and sends them to all other nodes. (Plays the role of a block in blockchain).\n",
    "  - Because, we are in synchronous setting, everyone receives the message.\n",
    "- When node receives the recent leader's ordered list, it appends it to it's local history.\n",
    "- This protocol satisfies consistency and liveness.\n",
    "  - Consistency is obvious. (Everyone receives same message from the reader, and everyone is honest).\n",
    "  - Liveness. (every node receives their chance to send their transactions will be added by everyone else, rotating leader is require here. Uniformly random leader could also have worked.)"
   ]
  },
  {
   "cell_type": "markdown",
   "id": "b122f299-cc89-4735-853f-256ba51246b8",
   "metadata": {},
   "source": [
    "### Faulty Nodes (not all nodes are honest)\n",
    "\n",
    "A node can fail to send their messages, because they were down. These kind of noes are called as faulty."
   ]
  },
  {
   "cell_type": "markdown",
   "id": "12ccc9dd-31a6-4db1-b1fb-809a06d5afbc",
   "metadata": {},
   "source": [
    "#### Types of the faults\n",
    "1. Crash fault: machine goes down. Runs honestly till failure.\n",
    "2. Omission fault: Faulty node may miss some of the messages it was supposed to send. (It is atleast as severe as crash fault. Omission can miss **some** of the messages.) It creates a trouble for consistency. It may send correct message to some nodes, but miss to send out to other nodes. Thus, committed messages diverge.\n",
    "3. Byzantine Fault: no assumptions about their behavior, except they can't break cryptography. The nodes can lie differently to different nodes."
   ]
  },
  {
   "cell_type": "markdown",
   "id": "6fda7771-c0b2-4a9f-a7f0-94cba1b66c6e",
   "metadata": {},
   "source": [
    "#### Relaxation\n",
    "- for a known parameter f, <= f nodes are Byzantine.\n",
    "- But, we do not know who are the liers. If we did, we would just ignore them.\n",
    "- We also assume that the Byzantine nodes are static.\n"
   ]
  },
  {
   "cell_type": "markdown",
   "id": "97e0ddc3-754b-42fe-96e4-822ac839dd1d",
   "metadata": {},
   "source": [
    "#### Byzantine Broadcast problem"
   ]
  },
  {
   "cell_type": "markdown",
   "id": "256472d6-591d-47a2-b396-d54ee8c685cc",
   "metadata": {},
   "source": [
    "Idea is still the same of rotating leaders approach.\n",
    "\n",
    "sender has a private input $v^* \\in V$. No one else knows about this message.\n",
    "\n",
    "Goals (only applicable for honest nodes):\n",
    "- Termination: All honest node eventually halt with some valuen $v_i \\in V$. \n",
    "- Agreement: All honest nodes choose the same value.\n",
    "- Validity: If the sender is honest, all honest $v_i = v^*$.\n",
    "\n",
    "subroutine: Byzantine Broadcas (BB)\n"
   ]
  },
  {
   "cell_type": "markdown",
   "id": "58be0f28-f9a3-45e1-9989-b842f2a6e335",
   "metadata": {},
   "source": [
    "#### BB can solve SMR"
   ]
  },
  {
   "cell_type": "markdown",
   "id": "b60f4316-9b04-4f70-9841-71ee6834b837",
   "metadata": {},
   "source": [
    "1. take turns as leader\n",
    "2. run BB protocol (with sender = current leader), agree on a tx list L. \n",
    "3. Each node committs L to their history.\n",
    "\n",
    "Question to ponder: Why does it solve consistency and liveness?\n",
    "\n",
    "Hint:\n",
    "- BB agreement => SMR consistency.\n",
    "- BB validity => SMR liveness."
   ]
  },
  {
   "cell_type": "markdown",
   "id": "8c111da9-d061-4d33-9bc8-2954581a4267",
   "metadata": {},
   "source": [
    "#### Intuition for Dolev-Strong (Case: f=1, n > 3)\n"
   ]
  },
  {
   "cell_type": "markdown",
   "id": "275717eb-8bf5-4d7f-a046-6d539e485617",
   "metadata": {},
   "source": [
    "- at t=0, sender sends signed message $v^*$ to every one.\n",
    "- at t=1, everyone(but the sender) echoes signed message they received, (this echo message is also signed).\n",
    "- at t=2, use majority voting to figureout the correct message (break tie in consistent manner)\n",
    "  - <= 1 vote from the sender (sender may be Byzantine, so inequality)\n",
    "  - <= n-2 vote from non-senders (message is not sent to self, and some(f=1) Byzantine node didn't send the message.)\n",
    " \n",
    "Try to see why this protocol satisfies termination, validity and agreement. Also try to see what happens when there are two Byzantine nodes. (Hint: They can collude). See linked notes for the answers."
   ]
  },
  {
   "cell_type": "markdown",
   "id": "f088ebb9-e07d-402a-8c90-28c40983fbc9",
   "metadata": {},
   "source": [
    "### The Dolev Strong Protocol\n",
    "\n",
    "Note: this protocol relies on synchronous model and is slow."
   ]
  },
  {
   "cell_type": "code",
   "execution_count": null,
   "id": "a219df2e-6d57-4a1e-8ad4-e436667ae3bf",
   "metadata": {},
   "outputs": [],
   "source": []
  }
 ],
 "metadata": {
  "kernelspec": {
   "display_name": "Python 3",
   "language": "python",
   "name": "python3"
  },
  "language_info": {
   "codemirror_mode": {
    "name": "ipython",
    "version": 3
   },
   "file_extension": ".py",
   "mimetype": "text/x-python",
   "name": "python",
   "nbconvert_exporter": "python",
   "pygments_lexer": "ipython3",
   "version": "3.11.3"
  }
 },
 "nbformat": 4,
 "nbformat_minor": 5
}
