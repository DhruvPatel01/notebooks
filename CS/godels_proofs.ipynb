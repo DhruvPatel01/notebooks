{
 "cells": [
  {
   "cell_type": "markdown",
   "id": "e5944078-f55a-40db-82dc-10b07e18deca",
   "metadata": {},
   "source": [
    "Following is my summary of the book Gödel's Proof by Nagel and Newman. While reading the book I realized that the topic under the discussion is quite complex and the book does not go over every minute details. Thus, the notes below may contain inconsistencies, as they reflect my understanding, which is incomplete. \n",
    "\n",
    "--------------------"
   ]
  },
  {
   "cell_type": "markdown",
   "id": "b0a16d5d-847d-4a76-a1fa-6573737e5bf4",
   "metadata": {},
   "source": [
    "Eulid's axiom: \n",
    "Given line, and a point outside it, only one parallel line can be drawn.\n",
    "\n",
    "Can this be derived from other Euclidean axioms? \n",
    "\n",
    "In the 19th century, through the works of Gauss, Bolyai, Lobachevsky, and Riemann, it was proved that was impossible. This proved that proof can be given of the _impossibility of proving_ certain proposition in a given system."
   ]
  },
  {
   "cell_type": "markdown",
   "id": "e6c68e4a-0175-4646-9e95-bc8cca173b4c",
   "metadata": {},
   "source": [
    "Soundness: logically incompatible statements can not be simultaneously be true.\n",
    "\n",
    "Sometimes the postulates/axioms themselves are not \"true\". e.g., non-euclidean geometry. In such cases it is imperative to ascertain if the assumed axioms are consistent.\n",
    "\n",
    "Elliptical Geometry has an axiom that says that given point outside of the line, no parallel line to it can be drawn. If we list down all the theorems derived so far and manually check, what is the guarantee that our grand children won't derive a theorem that contradicts one of these?\n",
    "\n"
   ]
  },
  {
   "cell_type": "markdown",
   "id": "55309fef-eb62-4467-9dd6-d27c3c1d9827",
   "metadata": {},
   "source": [
    "In classical set theory, Burtrand Russell's normal set (set that doesn't contain itself as a member) proves a statement that is both true and false. Thus that system is not consistent."
   ]
  },
  {
   "cell_type": "markdown",
   "id": "74bb34bb-b01d-4b3a-98e7-a7155043b595",
   "metadata": {},
   "source": [
    "## Example of a consistent system"
   ]
  },
  {
   "cell_type": "markdown",
   "id": "7d70c30d-e2b2-4ac0-a83f-986eef4410ef",
   "metadata": {},
   "source": [
    "### axioms\n",
    "\n",
    "Vocabulary\n",
    "- letters like p, q, r: they can be replaced by any sentence\n",
    "- ~, .(and), |(or), ⇒(if then else) \n",
    "\n",
    "Formulas\n",
    "- These are familiar rules. Like `p .` is not a valid formula. But, `p.q` is.\n",
    "\n",
    "Transformation Rules\n",
    "\n",
    "one can derive new formulas by\n",
    "- uniformly substituting letters by other formulas.\n",
    "- If we are given two formulas, `S` and `S => T`, then `T` is also a formula.\n",
    "\n",
    "Axioms\n",
    "1. `(p | p) => p`\n",
    "2. `p => (p | q)`\n",
    "3. `p|q => q|p`\n",
    "4. `(p => q) =>((r|p) => (r|q))`\n",
    "\n",
    "Theorems: All the formulas that can be derived using the above axioms and transformations. \n",
    "\n",
    "What we want to show is that, it is \"absolutely\"(as opposed to relatively) impossible to derive two statements `S` and `~S` from these axioms. \n",
    "\n",
    "One can prove that the formula `p => (~p => q)` is a theorem. \n",
    "\n",
    "If it was possible to derive both `S` and `~S`, we can substitute `S` in the above theorem to get `S => (~S => q)`. The second transformation rule then can be applied to get `~S => q`. But, again, by the same transformation we get `q`.\n",
    "\n",
    "Thus, if the system were inconsistent, any formula can be derived. Conversely, if we prove that there is a formula that cannot be derived from the stated axioms, we have proved that the system is consistent.\n",
    "\n",
    "For the proof that such a formula exists, we use tautology. Tautology is a formula which is always true. Now, all the axioms are tautologies. The book's appendix shows that if either of the two transformations is applied to the tautology, the resulting formula is also a tautology.\n",
    "\n",
    "Look at the formula `p | q`. Is it a tautology? No, because if both `~p` and `~q` are true, the formula is false. Tautology means always true. \n",
    "\n",
    "So, we showed a formula which is not a tautology. If this were a theorem, it would have been a tautology. So, it isn't a theorem. Thus, there is a formula which isn't a theorem. Thus, the system is consistent.\n",
    "\n",
    "It also turns out that the system is complete. i.e., every tautology can be derived from these axioms.\n",
    "\n",
    "Note: This system is not sufficient even to develop elementary arithmatic."
   ]
  },
  {
   "cell_type": "markdown",
   "id": "70f50e46-b1eb-4419-90b4-45aef1e68f2f",
   "metadata": {},
   "source": [
    "#### Correspondence Lemma:\n",
    "\n",
    "PM (Principia Mathematica) gave each symbol a meaning (e.g., `+` is addition). However, the formal system does not require us to give a meaning to the symbols. The theorems are derived from axioms by following the rules of the system.\n",
    "\n",
    "\n",
    "\n",
    "However, Godel proved that\n",
    "- there is an infinite class of theorems, which interpreted with the \"intendend\" meaning, are arithmatical truths.\n",
    "- there are infinite recursive primitive truths, which when encoded using symbols with \"intended\" meanings are indeed theorems\n",
    "\n",
    "Recursive Primitive Truths: correct additions like \"2 plus 2 is 4\". Or \"17 is 7th prime\". "
   ]
  },
  {
   "cell_type": "markdown",
   "id": "0cd2a0f0-e113-4a5c-95bd-f640d1addcae",
   "metadata": {},
   "source": [
    "Then, there is a mapping from an expression in the calculus to a unique number.\n",
    "Conversely, given any number, it is easy to see if it makes symbols of the calculus, or expression or a sequence of expressions. \n",
    "\n"
   ]
  },
  {
   "cell_type": "markdown",
   "id": "38e634a5-d24b-4864-a476-0df7470aa4bd",
   "metadata": {},
   "source": [
    "Godel also showed that statements (in meta-mathematics) about the calculus can also be mapped to expressed with the symbols of the calculus itself.\n",
    "\n",
    "The fundamental idea is to convert the typographical relationship between the expression to the arithmetical relationship between Gödel numbers. \n",
    "\n",
    "E.g., `~(0 = 0)`. Consider the  meta-mathematical statement, *The first symbol of the expression is ~*.\n",
    "\n",
    "The Gödel number associated with the expression is`a = 2^s(!) * 3^s('(') * 5^s(0) * 7^s(=) * 11^s(')')`.\n",
    "\n",
    "Suppose that the associated number with `!` is 7 (there are only few such preliminary symbols). Then, the \"expression\" `2^7 is a factor of a, and 2^8 is not a factor of a` can be expressed with the symbols of calculus, and hence by a Gödel number.\n",
    "\n",
    "By the way, `x is a factor of y` is a primitive recursive truth. Thus, by correspondence lemma, is a theorem in PM.\n"
   ]
  },
  {
   "cell_type": "markdown",
   "id": "3d930998-8aaf-4ea2-8f3f-bc10096d7082",
   "metadata": {},
   "source": [
    "Another meta-mathematical statement is `the sequence of formulas having Godel number x is a proof (in PM) of the formula with Godel number z`. There is a mathematical relationship between x and z, denote it by `dem(x, z)`. Godel showed that this relation `dem(x, z)` is a primitive recursive relation. Thus, there, the formula in the PM `Dem(x, z)` is actually a theorem. \n",
    "\n",
    "<details> <summary>Example</summary>\n",
    "Notaion: s[5] = sssss\n",
    "\n",
    "the meta-mathematical statement `x is prime (or pr(x))` can be written as a formula `~ (E y) (E z) (s[x]0 = s[y]0 * s[z]0`. Now since `is prime`, or `is not prime` is a primitive recursive, there is a theorem in PM for the formula `~ ~ (E y) (E z) (s[9]0 = s[y]0 * s[z]0`\n",
    "</details>\n",
    "\n",
    "Also, `~Dem(y, z)` is a theorem.\n",
    "\n",
    "Take the formula `(E x) (x = sy)`. This formula has a Godel number m. We can replace y with the concrete number m and get the new formula `(E x) (x = ss[m]0)`. This formula states nothing new, but `m has a successor`. Meta-mathematically, this is a Godel number obtained from the formula for Godel number m by substituting 17 with m. This function of replacing a variable within the formula by the Godel number of the formula itself is a primitive recursive function.  Denote the new Godel number by `sub (x, 17, x)`.\n",
    "\n",
    "Since the algorithm is primitive recursive, the formula `z = sub(x, 17, x)` is a theorem. This formula is denoted as `Sub (x, 17, x)`. "
   ]
  },
  {
   "cell_type": "markdown",
   "id": "2fdb5b7b-de0d-41db-89b6-2709f2e85374",
   "metadata": {},
   "source": [
    "## Gödel's proof"
   ]
  },
  {
   "cell_type": "markdown",
   "id": "96e6294a-d55a-4a72-9f37-f241d3a8bfcf",
   "metadata": {},
   "source": [
    "Gödel showed \n",
    "1. How to construct a formula G for the meta-mathematical statement \"The formula G is not demonstrable\". This formula's Gödel number is denoted as g.\n",
    "2. G is demonstrable iff ~G is demonstrable. Thus, if PM is consistent, neither G nor ~G can be demonstrated. Such formulas where neither G nor ~G can be proved (under the assumption that PM is consistent) are called formally undecidable. \n",
    "3. Though G is not formally demonstrable, it is nevertheless true.\n",
    "4. Since G is true and formally undecidable, PM is incomplete. Godel showed PM is essentially incomplete. That is, even if you augment PM with some axioms, the new resulting system still would be incomplete.\n",
    "5. Gödel showed how to construct `A` (\"PM is consistent\"), and `A => G` is formally demonstrable. But A is not demonstrable. \n"
   ]
  },
  {
   "cell_type": "markdown",
   "id": "5429adf3-f545-4afe-833d-80223fc35056",
   "metadata": {},
   "source": [
    "Notaion: `n := x`. n is a godel number that represents a formula or a sequence of forumlas.\n",
    "\n",
    "### 1: Construction of G\n",
    "\n",
    "- `Dem(x, z)` was showed to exist earlier.\n",
    "- The new formula `(E x) Dem(x, z)` tells us that z is demonstrable.\n",
    "- The formula `~(E x) Dem(x, z)` tells us that z is not demonstrable.\n",
    "- Consider the formula `n := ~(E x) Dem(x, Sub(y, 17, y))` This formula tells meta-mathematically that a formula with `Sub(y, 17, y)` is not provable in PM. However, this formula is not definite, as it uses a variable y.\n",
    "- Consider the formula `g := ~(E x) Dem(x, Sub(n, 17, n))`. This formula tells meta-mathematically that `Sub(n, 17, n)` is not demonstrable. g represents a definite formula, as it doesn't have any variables.\n",
    "- But, `sub(n, 17, n)` is precisely g. That is how g was constructed.\n",
    "- Thus, G tells that G is not demonstrable in PM.\n",
    "\n",
    "    \"In a word, the PM formula G can be construedas asserting of itself that it is not a theorem of PM.\""
   ]
  },
  {
   "cell_type": "markdown",
   "id": "87b4afd3-c30d-47d8-99c9-c3f74a1a1e32",
   "metadata": {},
   "source": [
    "### 2: If PM is consistent, neither G nor ~G can be derived.\n",
    "\n",
    "- Gödel showed that if G can be demonstrated, ~G can be demonstrated.\n",
    "    - Proof goes like this. If G is demonstrable, let k denote the proof.\n",
    "    - i.e., `Dem (k, Sub(n, 17, n))` is a theorem.\n",
    "    - By the inference rules of PM, `(E x) Dem(x, Sub(n, 17, n))` is a theorem.\n",
    "    - But, that is precisely ~G. QED.\n",
    "- Gödel also showed that if ~G is demonstrable, then PM is $\\omega$-consistent.\n",
    "- Rosser later proved that if ~G is demonstrable, then G is demonsrable.\n",
    "- Thus, if PM were to be consistent, neither G nor ~G must be demonsrable. Thus, G is formally undemonsrable. "
   ]
  },
  {
   "cell_type": "markdown",
   "id": "5fd17729-737e-41da-9430-49a3ee528a3a",
   "metadata": {},
   "source": [
    "### Digression: In an inconsistent system every statement is provable.\n",
    "\n",
    "This is a little bit of revision from above.\n",
    "\n",
    "- Since the system is inconsistent, there is some P such that both P and ~P are true (as per the system).\n",
    "- Since `P` is true `P or Q` is true.\n",
    "- Since `P or Q` is true and `~P` is true, i.e., `P` is false, Q must be true.\n",
    "\n",
    "Thus, we just proved that arbitrary statement Q is true. Because of this, the previous point and the next points do not consider about what happens if the system is inconsistent. \n",
    "\n",
    "There is another implication. If there is at least one formula which is not demonstrable, the system is consistent."
   ]
  },
  {
   "cell_type": "markdown",
   "id": "9f6addc6-decd-465e-81ad-dec369f9ecc9",
   "metadata": {},
   "source": [
    "### 3: G is true statement.\n",
    "Certainly, either G or ~G must be true. It can be shown by the meta-mathematical reasoning that G is true. \n",
    "\n",
    " G says that \"There is no proof of G in the PM\".\n",
    "~G says that \"There is a proof of G in the PM\".\n",
    "\n",
    "We(Gödel) in 2nd point proved that G does not have a proof in PM. Thus, G is a true statement. \n",
    "\n",
    "Note: We have not used axioms or the rules of the inference in this proof. We used meta-mathematical reasoning. \n",
    "\n",
    "Note: Gödel also showed in 2nd point that ~G does not have a proof in the system, but this part seems irrelevant. "
   ]
  },
  {
   "cell_type": "markdown",
   "id": "6f89671f-2871-4b2b-a429-c85660db9577",
   "metadata": {},
   "source": [
    "### 4: PM is incomplete\n",
    "\n",
    "Under the hypothesis that PM is consistent, using pt2 and pt3, we see that PM is incomplete. "
   ]
  },
  {
   "cell_type": "markdown",
   "id": "23ef7735-08a8-4cfb-ad1e-c70be0cec734",
   "metadata": {},
   "source": [
    "### 5 Consistency => Incompletness is demonstrable.\n",
    "\n",
    "Based on the digression above, the statement \"PM is consistent\" is equivalent to the statement that \"There is a formula of PM that is not demonstrable inside PM\". This meta-mathematical statement can be written as a formula in PM `(E y) ~ (E x) Dem(x, y)`. Call this formula A. The antecedent therefore is in place.\n",
    "\n",
    "The consequent clause too is easy. The system is incomplete means there is a true-but-not-demonstrable formula X, \"X is not a theorem of PM\". G is such formula. So, the consequent clause \"G is not a theorem of PM\" can be encoded. We already know the encoding, it is G itself. \n",
    "\n",
    "The statement \"If PM is consistent,then it is incomplete\" is represented in PM by `(E y) ~ (E x) Dem(x, y) => ~(E x) Dem(x, Sub(n, 17, n))`. This forumala (abbreviated as `A => G`) is demonstrable (not proved in the book).\n",
    "\n",
    "If we can proove A in the PM, by the rule of detachment `(A and A => B) => B`, G is proveable. But, unless PM is inconsistent, G is formally undemonstrable. \n",
    "\n",
    "Thus, if PM is consistent, the consistency of it can not be proved by PM itself. One should note that, this does not consider meta-mathematical proof that can not be mirrored by the PM. That is a fair game. Only that a reasoning that can be mirrored in PM, can not show that PM is consistent. "
   ]
  }
 ],
 "metadata": {
  "jugo": {
   "front_matter": {
    "date": "2023-05-23",
    "summary": "My book summary for the book by  Ernest Nagel and James Newman.",
    "tags": [
     "math",
     "logic",
     "theory"
    ],
    "title": "Gödel's Proof: Book Notes"
   }
  },
  "kernelspec": {
   "display_name": "Python 3",
   "language": "python",
   "name": "python3"
  },
  "language_info": {
   "codemirror_mode": {
    "name": "ipython",
    "version": 3
   },
   "file_extension": ".py",
   "mimetype": "text/x-python",
   "name": "python",
   "nbconvert_exporter": "python",
   "pygments_lexer": "ipython3",
   "version": "3.11.3"
  }
 },
 "nbformat": 4,
 "nbformat_minor": 5
}
