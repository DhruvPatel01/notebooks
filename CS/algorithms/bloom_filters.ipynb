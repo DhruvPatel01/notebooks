{
 "cells": [
  {
   "cell_type": "markdown",
   "id": "cb777e43-df17-410e-b293-fb5f25aaf178",
   "metadata": {},
   "source": [
    "## API\n",
    "\n",
    "- `bf.add(x)`: adds x in the data structure\n",
    "- `x in bf`: tests if x is in the data structure.\n",
    "\n",
    "## Why not use Set or Dict?\n",
    "- Bloom filters are more space efficients. They take memory lesser than the keys themselves.\n",
    "\n",
    "## Cons\n",
    "- can't store associated data. \n",
    "- does not support deletions.\n",
    "- It is probabilistic data structure. That means, `x in bf` might have false positives. There are no false negatives. \n",
    "\n",
    "## Applications\n",
    "- Spell checkers: (40 years ago) Add the dictionary into the filter. If the word is in the bloom filter, it is higly likely tobe correctly spelled word.\n",
    "- list of forbidden password. E.g., too common password.\n",
    "- Modern applications: Routers, a lot of packets incoming. "
   ]
  },
  {
   "cell_type": "markdown",
   "id": "1be5221e-fe28-498c-a5e3-390ad33f38b9",
   "metadata": {},
   "source": [
    "## How does it work?\n",
    "- we have a data set `S` of size `|S|`.\n",
    "- have an array of `n` bits.\n",
    "- $b = \\frac{n}{|S|}$ bits per element.\n",
    "- have `k` hash functions."
   ]
  },
  {
   "cell_type": "code",
   "execution_count": 33,
   "id": "e747d165-7a1c-4443-b93a-3cb1c702a839",
   "metadata": {},
   "outputs": [],
   "source": [
    "import numpy as np\n",
    "\n",
    "class BitArray:\n",
    "    def __init__(self, n):\n",
    "        self.array = np.zeros((n >> 3) + 1, dtype=np.uint8)\n",
    "    \n",
    "    def set(self, i):\n",
    "        i, j = divmod(i, 8)\n",
    "        self.array[i] = self.array[i] | (1 << j)\n",
    "    \n",
    "    def get(self, i):\n",
    "        i, j = divmod(i, 8)\n",
    "        return bool(self.array[i] & (1 << j))"
   ]
  },
  {
   "cell_type": "code",
   "execution_count": 34,
   "id": "50dc7873-7ef9-4db0-8e1d-5bc4cde1a5bf",
   "metadata": {},
   "outputs": [],
   "source": [
    "import xxhash\n",
    "\n",
    "def get_hashes_for_str(x, k):\n",
    "    # Only h1 and h2 are computed afresh. Remaining hash \n",
    "    # functions are just linear combinations of h1 and h2.\n",
    "    \n",
    "    assert k > 1\n",
    "    \n",
    "    h1 = xxhash.xxh64_intdigest(x, seed=42)\n",
    "    h2 = xxhash.xxh64_intdigest(x, seed=84)\n",
    "    hashes = [h1, h2]\n",
    "    \n",
    "    for i in range(2, k):\n",
    "        hashes.append(h1 + i*h2)\n",
    "    return hashes\n",
    "\n",
    "class BloomFilter:\n",
    "    def __init__(self, n, k):\n",
    "        self.array = BitArray(n)\n",
    "        self.k = k\n",
    "        self.n = n\n",
    "        \n",
    "    def add(self, key):\n",
    "        for h in get_hashes_for_str(key, self.k):\n",
    "            self.array.set(h % self.n)\n",
    "            \n",
    "    def __contains__(self, key):\n",
    "        for h in get_hashes_for_str(key, self.k):\n",
    "            if not self.array.get(h % self.n):\n",
    "                return False\n",
    "        return True"
   ]
  },
  {
   "cell_type": "code",
   "execution_count": 8,
   "id": "e2d8201c-09b0-45b9-9526-7138ea3d15c5",
   "metadata": {},
   "outputs": [],
   "source": [
    "text = \"correct incorrect\".split()\n",
    "bm = BloomFilter(10, 5)\n",
    "\n",
    "for word in text:\n",
    "    bm.add(word)"
   ]
  },
  {
   "cell_type": "code",
   "execution_count": 9,
   "id": "b4be5d3f-ea28-4b53-b22f-c3a208b00072",
   "metadata": {},
   "outputs": [],
   "source": [
    "for word in text:\n",
    "    assert word in bm"
   ]
  },
  {
   "cell_type": "code",
   "execution_count": 10,
   "id": "f634f540-6480-446e-8bd7-841aaf72c4b6",
   "metadata": {},
   "outputs": [],
   "source": [
    "assert \"notcorrect\" not in bm"
   ]
  },
  {
   "cell_type": "markdown",
   "id": "5dae4a28-fea5-45a0-bfcf-6f528be2fa37",
   "metadata": {},
   "source": [
    "## Analysis\n",
    "\n",
    "Trade off between erro rate and space required. Data structre will be useful when there is a sweetspot on the tradeoff curve.\n",
    "\n",
    "Assumption: The hash functions are independent and they distribute the data uniformly. \n",
    "\n",
    "Out of n bits, focus on a particular bit. What is the probability that it has been set?\n",
    "\n",
    "It is probability of 1 minus it hasn't been set by any of the `|S|` elements, for any of the `k` hash functions. \n",
    "\n",
    "$p = 1 - (1 - \\frac{1}{n})^{k|S|}$.\n",
    "\n",
    "As can be seen by the plot below, $1+x$ can be approximated by $e^x$ when x is close to zero. In all cases, $e^x$ is an overestimate of $1+x$."
   ]
  },
  {
   "cell_type": "code",
   "execution_count": 48,
   "id": "ec42f974-d264-4644-b47a-fc074d9964cc",
   "metadata": {
    "slideshow": {
     "slide_type": "skip"
    },
    "tags": []
   },
   "outputs": [
    {
     "data": {
      "image/png": "[encoded data removed]",
      "text/plain": [
       "<Figure size 640x480 with 1 Axes>"
      ]
     },
     "metadata": {},
     "output_type": "display_data"
    }
   ],
   "source": [
    "import matplotlib.pyplot as plt\n",
    "x = np.linspace(-2, 2)\n",
    "plt.plot(x, 1+x, label=\"$1 +x$\")\n",
    "plt.plot(x, np.exp(x), label=\"$e^x$\")\n",
    "plt.legend();"
   ]
  },
  {
   "cell_type": "markdown",
   "id": "d6f3dca0-6cd1-406b-ab90-5a7d102c68e6",
   "metadata": {},
   "source": [
    "Thus, $p \\approx 1 - e^{\\frac{-k|S|}{n}} = 1 - e^{\\frac{-k}{b}}$. Remember, b is the bits per element.\n",
    "\n",
    "As $b \\to \\inf$, $p \\to 0$.\n",
    "\n",
    "Thus, the probability of false positive is $\\epsilon = (1-e^{\\frac{-k}{b}})^k$."
   ]
  },
  {
   "cell_type": "markdown",
   "id": "c5f918af-c4df-4dc7-94b5-1e29f890e546",
   "metadata": {},
   "source": [
    "## How to set K?\n",
    "\n",
    "Set K optimally. Fix the b, then set k to minimize the error. \n",
    "Using calculus, $k \\approx (ln 2) b$.\n",
    "\n",
    "When we plug this back into the p, we get $\\epsilon \\approx (\\frac{1}{2})^\\left((ln 2) b\\right)$. Notice that error rate is exponential in b.\n",
    "\n",
    "Using little bit of algebra we can get $b \\approx 1.44 log_2{\\frac{1}{\\epsilon}}$. (Hint: $1.44 \\approx \\frac{1}{ln2}$.)"
   ]
  },
  {
   "cell_type": "markdown",
   "id": "c95b7df8-e83f-4736-90f8-0001d7dbdfcf",
   "metadata": {},
   "source": [
    "## How does theory differ from practice"
   ]
  },
  {
   "cell_type": "code",
   "execution_count": 28,
   "id": "c84ba9b5-ae82-4195-8d8a-10248c0a87fe",
   "metadata": {},
   "outputs": [],
   "source": [
    "import string\n",
    "import random\n",
    "import numpy as np\n",
    "\n",
    "letters = np.array(list(string.ascii_letters + string.digits))\n",
    "\n",
    "def random_str():\n",
    "    return ''.join(np.random.choice(letters, np.random.randint(4, 9)))"
   ]
  },
  {
   "cell_type": "markdown",
   "id": "304f8b43-9fc4-4034-bd79-db8dd75ed782",
   "metadata": {},
   "source": [
    "Generate 1M keys, and insert them in the bloom filter. Just for sanity check, I will test if there is no false negative. Then I will generate keys at random, check if it is in actually there, and how often does bloom filter give false positive. Recall that error rate as a function of b = n/10M is $\\approx (\\frac{1}{2})^{(ln 2) b}$."
   ]
  },
  {
   "cell_type": "code",
   "execution_count": 38,
   "id": "5862afeb-54e8-41c0-87bf-6c28f5e49769",
   "metadata": {},
   "outputs": [],
   "source": [
    "actually_there = set()\n",
    "set_size = int(1e6)\n",
    "while len(actually_there) != set_size:\n",
    "    actually_there.add(random_str())"
   ]
  },
  {
   "cell_type": "code",
   "execution_count": 42,
   "id": "cf0906f1-b98d-4753-b35d-30fd4c7080a3",
   "metadata": {},
   "outputs": [],
   "source": [
    "from tqdm.auto import tqdm"
   ]
  },
  {
   "cell_type": "code",
   "execution_count": 59,
   "id": "d6221fd8-2e4c-4acf-b2f2-adeca9ed3117",
   "metadata": {},
   "outputs": [],
   "source": [
    "bs = [4, 8, 12, 16]\n",
    "fpve_rate = []\n",
    "theory = []\n",
    "\n",
    "for b in bs:\n",
    "    theory.append(.5**(np.log(2)*b))\n",
    "    bm = BloomFilter(b*set_size, k=int(np.log(2)*b))\n",
    "    for key in actually_there:\n",
    "        bm.add(key)\n",
    "    \n",
    "    for key in actually_there:\n",
    "        assert key in bm\n",
    "        \n",
    "    fpve, total = 0, 0\n",
    "    while total < 10_000:\n",
    "        key = random_str()\n",
    "        if key in actually_there: continue\n",
    "        if key in bm:\n",
    "            fpve += 1\n",
    "        total += 1\n",
    "    \n",
    "    fpve_rate.append(fpve/total)"
   ]
  },
  {
   "cell_type": "code",
   "execution_count": 57,
   "id": "26a7d4f6-e10f-4cee-a479-1941d982cc27",
   "metadata": {},
   "outputs": [
    {
     "data": {
      "text/plain": [
       "Text(0.5, 0, 'bits per element')"
      ]
     },
     "execution_count": 57,
     "metadata": {},
     "output_type": "execute_result"
    },
    {
     "data": {
      "image/png": "[encoded data removed]",
      "text/plain": [
       "<Figure size 640x480 with 1 Axes>"
      ]
     },
     "metadata": {},
     "output_type": "display_data"
    }
   ],
   "source": [
    "bs_lin = np.linspace(bs[0], bs[-1])\n",
    "plt.plot(bs_lin, .5**(np.log(2)*bs_lin), label=\"Theory\", c='b') \n",
    "plt.plot(bs, theory, 'o', c='b')\n",
    "plt.plot(bs, fpve_rate, '-x', label=\"Practice\", c='orange')\n",
    "plt.legend();\n",
    "plt.xlabel(\"bits per element\");\n",
    "plt.ylabel(\"false positive rate\");\n"
   ]
  },
  {
   "cell_type": "markdown",
   "id": "5c2f391a-766c-4fe7-8953-4ea77c076eaf",
   "metadata": {},
   "source": [
    "at b=12, false positive rate is already less than 0.5%."
   ]
  }
 ],
 "metadata": {
  "kernelspec": {
   "display_name": "Python 3",
   "language": "python",
   "name": "python3"
  },
  "language_info": {
   "codemirror_mode": {
    "name": "ipython",
    "version": 3
   },
   "file_extension": ".py",
   "mimetype": "text/x-python",
   "name": "python",
   "nbconvert_exporter": "python",
   "pygments_lexer": "ipython3",
   "version": "3.10.7"
  }
 },
 "nbformat": 4,
 "nbformat_minor": 5
}
