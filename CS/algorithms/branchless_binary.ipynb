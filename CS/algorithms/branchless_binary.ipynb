{
 "cells": [
  {
   "cell_type": "code",
   "execution_count": 1,
   "id": "f8e14120-cc5f-4c1e-85a4-adda8cb48c6f",
   "metadata": {},
   "outputs": [],
   "source": [
    "import numba\n",
    "import numpy as np"
   ]
  },
  {
   "cell_type": "code",
   "execution_count": 11,
   "id": "183bbb45-89f0-40ff-bab3-95a9cee83688",
   "metadata": {
    "tags": []
   },
   "outputs": [],
   "source": [
    "@numba.njit\n",
    "def vanilla_lower_bound(arr, x):\n",
    "    l, u = 0, len(arr)\n",
    "    while l < u:\n",
    "        mid = l + (u-l)//2\n",
    "        # if x == arr[mid]: \n",
    "        #     return mid\n",
    "        if arr[mid] >= x:\n",
    "            l = mid+1\n",
    "        else: # x <= arr[mid]\n",
    "            u = mid-1\n",
    "    return l-1"
   ]
  },
  {
   "cell_type": "code",
   "execution_count": 12,
   "id": "44bf880b-aaca-45b6-b51c-9149fb81af64",
   "metadata": {
    "tags": []
   },
   "outputs": [
    {
     "data": {
      "text/plain": [
       "array([ 1,  6,  6,  7,  7,  8,  8,  9, 18, 18])"
      ]
     },
     "execution_count": 12,
     "metadata": {},
     "output_type": "execute_result"
    }
   ],
   "source": [
    "np.random.seed(1337)\n",
    "arr = np.random.randint(0, 20, size=10)\n",
    "arr.sort()\n",
    "arr"
   ]
  },
  {
   "cell_type": "code",
   "execution_count": 13,
   "id": "99fd04fe-6996-425b-927a-7d0c06405d27",
   "metadata": {},
   "outputs": [
    {
     "data": {
      "text/plain": [
       "9"
      ]
     },
     "execution_count": 13,
     "metadata": {},
     "output_type": "execute_result"
    }
   ],
   "source": [
    "vanilla_lower_bound(arr, 8)"
   ]
  },
  {
   "cell_type": "code",
   "execution_count": 13,
   "id": "83bfbb61-219d-4a61-8b3f-aeb7f0082264",
   "metadata": {},
   "outputs": [
    {
     "data": {
      "text/plain": [
       "array([ 0,  2,  3,  7,  8,  9, 11, 12, 14, 17])"
      ]
     },
     "execution_count": 13,
     "metadata": {},
     "output_type": "execute_result"
    }
   ],
   "source": [
    "arr"
   ]
  },
  {
   "cell_type": "markdown",
   "id": "02211803-36cf-4694-ba2d-cf78fe4d00ba",
   "metadata": {},
   "source": [
    "Looking for 9\n",
    "8, 11 -> 8\n",
    "9, 11 -> 9\n",
    "10,11 -> "
   ]
  }
 ],
 "metadata": {
  "kernelspec": {
   "display_name": "Python 3",
   "language": "python",
   "name": "python3"
  },
  "language_info": {
   "codemirror_mode": {
    "name": "ipython",
    "version": 3
   },
   "file_extension": ".py",
   "mimetype": "text/x-python",
   "name": "python",
   "nbconvert_exporter": "python",
   "pygments_lexer": "ipython3",
   "version": "3.10.10"
  }
 },
 "nbformat": 4,
 "nbformat_minor": 5
}
