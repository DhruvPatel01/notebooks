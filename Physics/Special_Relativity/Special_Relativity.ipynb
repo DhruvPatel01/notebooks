{
 "cells": [
  {
   "cell_type": "markdown",
   "id": "a6bda342-4fef-462d-8b05-be0250042165",
   "metadata": {},
   "source": [
    "TODO: Typeset paper notes to this document.\n",
    "\n",
    "Define $\\gamma = \\sqrt{1 - v^2} = \\sqrt{1 - (\\dot{x}^2 + \\dot{y}^2 + \\dot{z}^2)}$. (In relativistic units, i.e., unitless). \n",
    "\n",
    "Lagrangian\n",
    "- in relativistic units $\\cal{L} = - m \\gamma$.\n",
    "- in normal units $\\cal{L} = -m c^2 \\sqrt{1 - \\frac{v^2}{c^2}}$.\n",
    "\n",
    "From classical mechanics, momentum and energy are conserved.\n",
    "\n",
    "## Relativistic Momentum\n",
    "\n",
    "Momentum is defined as $P_i = \\frac{\\partial \\cal{L}}{\\partial \\dot{X^i}}$\n",
    "\n",
    "- the x component is $P^x = \\frac{\\partial \\cal{L}}{\\partial \\dot{x}}$\n",
    "- carry out the algebra, and find, $P^x = \\frac{m \\dot{x}}{\\gamma}$\n",
    "- more generally, $P^i = \\frac{m V^i}{\\gamma} = m U^i$\n",
    "- compare it with classical $P_i = mV^i$.\n",
    "\n",
    "## Relativistic Energy\n",
    "\n",
    "- general form of energy is $H = \\Sigma_i \\dot{Q^i} P_i - \\cal{L}$.\n",
    "- for moving particle it is $H = \\Sigma_i \\dot{X^i} P^i - \\cal{L}$.\n",
    "- with all the information, carry out the substitution and do algebra to find $H = \\frac{m}{\\gamma}$.\n",
    "- But, recall that $U^0 = \\frac{1}{\\gamma}$. Thus, $P^0 = mU^0$.\n",
    "- The three components of spatical momentum $P^i$ together with energy $P^0$ form a 4-vector. \n",
    "- the components of energy oand momentum get mixed up under a Lerentz transformation. In stationary frame, a particle has energy but no momentum, while in another frame it has both.\n",
    "\n",
    "### Slow moving particle\n",
    "- in normal units $E = \\frac{mc^2}{\\sqrt{1 - \\frac{v^2}{c^2}}}$.\n",
    "- with the help of binomial approximation $\\frac{1}{\\sqrt{1 - \\frac{v^2}{c^2}}} = 1 + \\frac{v^2}{c^2}$. The approximation only holds for slow particles.\n",
    "- $E = mc^2 + \\frac{mv^2}{2}$.\n",
    "    - Even stationary objects contain some enrgy. This equation shows that it is $E = mc^2$.\n",
    "\n",
    "### Massless particles\n",
    "- Massless particles have velocity = 1. So $E = \\frac{m}{\\gamma} = \\frac{0}{0}$. This is not determined. Thus, it is possible to have different energies even if the massless particles have same velocities."
   ]
  },
  {
   "cell_type": "code",
   "execution_count": null,
   "id": "1d529fcc-a4cf-4ecb-b3d3-475324be8851",
   "metadata": {},
   "outputs": [],
   "source": []
  }
 ],
 "metadata": {
  "jugo": {},
  "kernelspec": {
   "display_name": "Python 3",
   "language": "python",
   "name": "python3"
  },
  "language_info": {
   "codemirror_mode": {
    "name": "ipython",
    "version": 3
   },
   "file_extension": ".py",
   "mimetype": "text/x-python",
   "name": "python",
   "nbconvert_exporter": "python",
   "pygments_lexer": "ipython3",
   "version": "3.10.10"
  }
 },
 "nbformat": 4,
 "nbformat_minor": 5
}
