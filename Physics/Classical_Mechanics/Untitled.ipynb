{
 "cells": [
  {
   "cell_type": "code",
   "execution_count": 1,
   "id": "393f445c-5ed7-4a6d-84c7-2d04460ddac6",
   "metadata": {},
   "outputs": [],
   "source": [
    "# lecture 1"
   ]
  },
  {
   "cell_type": "markdown",
   "id": "47f84860-4300-4448-8534-2255fc6240a3",
   "metadata": {},
   "source": [
    "Measuring with just our senses (Conservative limits)\n",
    "\n",
    "\"Middle dimensions\", what we are used to.\n",
    "\n",
    "1. Mass   (10^-4 kg to 10^3 kg)\n",
    "2. Length (10^-4 m to 10^4 m)\n",
    "3. Time (blink of an eye to an hour ) (10^-1 s to 10^7 s)\n",
    "\n",
    "Universe's scale\n",
    "plank's constant, speed of light in vacume, newton's gravitational constant (these are natural contants)\n",
    "(mass, length, and time are human inventions)\n",
    "\n",
    "1. Mass: (electron to universe) (10^-30 to 10^30 (mass of sun) * 10^22(#stars) = 10^52(mass of universe))\n",
    "2. Length (10^-35 (plank length) to 10^26 m (\"radius\" of universe)\n",
    "3. Time (10^-42 s (plank time) to 10^17 s (age of universe))\n",
    " \n",
    " \n",
    "nature is operating is at large mangnitude. (that we know of, could be larger)\n",
    "\n",
    "intution is a myth. No reason to expect, what regularities we percieve should hold to continue.\n",
    "\n",
    "Why are we like that? Didn't need for our survival. \n",
    "\n",
    "Even newton's laws are counter intuitive. It took long time to understand\n",
    "\n",
    "- Emergent properties\n",
    "- Effective models\n",
    "\n"
   ]
  }
 ],
 "metadata": {
  "kernelspec": {
   "display_name": "Python 3",
   "language": "python",
   "name": "python3"
  },
  "language_info": {
   "codemirror_mode": {
    "name": "ipython",
    "version": 3
   },
   "file_extension": ".py",
   "mimetype": "text/x-python",
   "name": "python",
   "nbconvert_exporter": "python",
   "pygments_lexer": "ipython3",
   "version": "3.10.10"
  }
 },
 "nbformat": 4,
 "nbformat_minor": 5
}
