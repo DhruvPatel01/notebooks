{
 "cells": [
  {
   "cell_type": "markdown",
   "id": "86f04dfd-87d5-41ac-a6ca-72008d93d9ea",
   "metadata": {},
   "source": [
    "## Notation\n",
    "\n",
    "$ F_i(\\{q\\}) $ is the force on ith particle. $ \\{q\\} $ is the set of cordinates of all particles.\n",
    "\n",
    "If there are N particles in the system,\n",
    "\n",
    "Configration space:  3N dimensional space, records positions.\n",
    "\n",
    "State space: 6N dimensional space, records position and velocity.\n",
    "\n",
    "Phase space: 6N dimesnional space, records momentum and velocity.\n",
    "\n"
   ]
  },
  {
   "cell_type": "markdown",
   "id": "9684adfa-a79d-4a71-b99a-25b351bb58d3",
   "metadata": {
    "tags": []
   },
   "source": [
    "## Newton's second law\n",
    "\n",
    "gives us 6N equations.\n",
    "\n",
    "$$\n",
    "\\begin{align*}\n",
    "\\dot{p_i} &= F_i(\\{q\\}) \\\\\n",
    "\\dot{q_i} &= \\frac{p_i}{m_i}\n",
    "\\end{align*}\n",
    "$$\n",
    "\n",
    "Thus, if forces are known, we can compute trajectory in 6N dimensional configration space.\n",
    "\n",
    "\n",
    "if we denote $ p = \\sum_{i=1}^{i=N} p_i $,\n",
    "\n",
    "## Newton's third law,\n",
    "\n",
    "    every force has equal and opposite reaction\n",
    "    \n",
    "can be used to derive conservation of momentum.\n",
    "\n",
    "$\\dot{p} = 0$.\n",
    "\n",
    "What this tells us is if we start our trajectory at some 6N-D point in configration space, all the points in the trajectory have the same momentum. In some sense, system evolves on a contour of constant momentum.\n",
    "\n",
    "\n",
    "\n"
   ]
  },
  {
   "cell_type": "markdown",
   "id": "b71250b5-f3e0-4f96-893b-6663c6f62ec0",
   "metadata": {
    "tags": []
   },
   "source": [
    "## Energy\n",
    "\n",
    "Potential Energy Principle: All forces derive from a potential energy function $V(\\{q\\})$."
   ]
  },
  {
   "cell_type": "markdown",
   "id": "9bb02927-3655-4091-b0fc-b1fcfbcedea1",
   "metadata": {},
   "source": [
    "For particle moving in 1 dimension, \n",
    "\n",
    "$ F(q) = -\\frac{dV(q)}{dq}$.\n",
    "\n",
    "Potential energy can be computed as $V(q) = \\int_{-\\infty}^q F(q') dq'$.\n",
    "\n",
    "Potential energy is not conserved. Sum of potential energy and kinetic energy are conserved.\n",
    "\n",
    "Kinetic energy: $T = \\frac{1}{2} mv^2$.\n"
   ]
  },
  {
   "cell_type": "markdown",
   "id": "c64f3e52-efe1-4145-bdb0-de8074e6c75d",
   "metadata": {},
   "source": [
    "More than one particles, three dimensions. If the system has N particles, the i in $q_i$ can index any of the 3N elements of the configration space.\n",
    "\n",
    "Principle:\n",
    "For **any** system there exists a potential function $V(\\{q\\})$, such that,\n",
    "\n",
    "$$\n",
    "F_i(\\{q\\}) = - \\frac{\\partial V(\\{q\\})}{\\partial q_i}\n",
    "$$\n",
    "\n",
    "In general mathematics such function need not exist for a collection of $F_i$s. This law represents conservation of energy."
   ]
  },
  {
   "cell_type": "markdown",
   "id": "b0c8c7d0-476f-45c0-98ec-1cd9a225d3c2",
   "metadata": {},
   "source": [
    "## Lagrangian\n",
    "\n",
    "### For one particle in one dimension\n",
    "We are given $q(t_0)$ and $q(t_1)$.\n",
    "\n",
    "$L(q, \\dot{q}) = T - V = \\frac{1}{2}m\\dot{q}^2 - V(\\{q\\})$\n",
    "\n",
    "Action $A = \\int_{t_0}^{t_1} L  dt$.\n",
    "\n",
    "Principle of least action tells that the particle chooses a trajectory (the function q) which minimizes the the action.\n",
    "\n",
    "Principle of least action gives Euler-Lagrange equations.\n",
    "\n",
    "$$\n",
    "\\frac{d}{dt} \\frac{\\partial L}{\\partial \\dot{q}} - \\frac{\\partial L}{\\partial {q}} = 0\n",
    "$$\n",
    "\n",
    "### For multidimensional motion of many particles\n",
    "Euler-Lagrange equations are given by,\n",
    "\n",
    "$L(\\{q\\}, \\{\\dot{q}\\}) = \\sum_i \\frac{1}{2}m_i\\dot{q_i}^2 - V(\\{q\\})$.\n",
    "\n",
    "$$\n",
    "\\frac{d}{dt} \\frac{\\partial L}{\\partial \\dot{q_i}} - \\frac{\\partial L}{\\partial {q_i}} = 0\n",
    "$$\n",
    "\n",
    "Lagrangian packs all the equations of the motions concisely.\n",
    "\n",
    "$\\frac{\\partial L}{\\partial \\dot{q_i}}$ is called generalized momentum conjugate to $q_i$. This can be motiviated by thinking of $q_i$ as cartesian coordinates and $L = \\frac{1}{2}m\\dot{x}^2$. Depending upon the Lagrangian, conjugate momentum may not have familiar form, but it is always difined by the formula $p_i =\\frac{\\partial L}{\\partial \\dot{q_i}}$.\n",
    "\n",
    "So, if the Lagrangian does not depend on $q_i$, $\\dot{p_i} = 0$, i.e. the conjugate momentum is conserved. Such coordinates are called cyclic coordinates.\n",
    "\n",
    "#### Another example of cylic coordinates\n",
    "\n",
    "$ L = \\frac{m}{2}(\\dot{x_1}^2 + \\dot{x_2}^2 ) + V(x_1 - x_2)$. It does look like that L is a function of $x_1$ and $x_2$, so neither of these is cyclic coordinate. But, if we do change of variables,\n",
    "$$\n",
    "\\begin{align*}\n",
    "x_+ &=  \\frac{x_1+x_2}{2} \\\\\n",
    "x_- &=  \\frac{x_1-x_2}{2} \n",
    "\\end{align*}\n",
    "$$\n",
    "\n",
    "the Lagrangian can be rewritten as,  $L = m(\\dot{x_+}^2 + \\dot{x_-}^2 ) + V(x_-)$. Now the momentum conjugate to $x_+$ is conserved. $p_+ = 2m\\dot{x_+} = m(\\dot{x_1} + \\dot{x_2})$, so the total momentum is conserved."
   ]
  },
  {
   "cell_type": "code",
   "execution_count": null,
   "id": "350aa181-4885-43c5-8309-150784dafefa",
   "metadata": {},
   "outputs": [],
   "source": []
  }
 ],
 "metadata": {
  "jupytext": {
   "formats": "ipynb,md"
  },
  "kernelspec": {
   "display_name": "Python 3",
   "language": "python",
   "name": "python3"
  },
  "language_info": {
   "codemirror_mode": {
    "name": "ipython",
    "version": 3
   },
   "file_extension": ".py",
   "mimetype": "text/x-python",
   "name": "python",
   "nbconvert_exporter": "python",
   "pygments_lexer": "ipython3",
   "version": "3.10.4"
  }
 },
 "nbformat": 4,
 "nbformat_minor": 5
}
