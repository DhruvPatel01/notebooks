{
 "cells": [
  {
   "cell_type": "markdown",
   "id": "86f04dfd-87d5-41ac-a6ca-72008d93d9ea",
   "metadata": {},
   "source": [
    "## Notation\n",
    "\n",
    "$ F_i(\\{q\\}) $ is the force on ith particle. $ \\{q\\} $ is the set of cordinates of all particles.\n",
    "\n",
    "If there are N particles in the system,\n",
    "\n",
    "Configration space:  3N dimensional space, records positions.\n",
    "\n",
    "State space: 6N dimensional space, records position and velocity.\n",
    "\n",
    "Phase space: 6N dimesnional space, records momentum and velocity.\n",
    "\n"
   ]
  },
  {
   "cell_type": "markdown",
   "id": "9684adfa-a79d-4a71-b99a-25b351bb58d3",
   "metadata": {
    "tags": []
   },
   "source": [
    "## Newton's second law\n",
    "\n",
    "gives us 6N equations.\n",
    "\n",
    "$$\n",
    "\\begin{align*}\n",
    "\\dot{p_i} &= F_i(\\{q\\}) \\\\\n",
    "\\dot{q_i} &= \\frac{p_i}{m_i}\n",
    "\\end{align*}\n",
    "$$\n",
    "\n",
    "Thus, if forces are known, we can compute trajectory in 6N dimensional configration space.\n",
    "\n",
    "\n",
    "if we denote $ p = \\sum_{i=1}^{i=N} p_i $,\n",
    "\n",
    "## Newton's third law,\n",
    "\n",
    "    every force has equal and opposite reaction\n",
    "    \n",
    "can be used to derive conservation of momentum.\n",
    "\n",
    "$\\dot{p} = 0$.\n",
    "\n",
    "What this tells us is if we start our trajectory at some 6N-D point in configration space, all the points in the trajectory have the same momentum. In some sense, system evolves on a contour of constant momentum.\n",
    "\n",
    "\n",
    "\n"
   ]
  },
  {
   "cell_type": "code",
   "execution_count": null,
   "id": "66b7ac07-d78f-4cc4-a0e1-f13920e6435d",
   "metadata": {},
   "outputs": [],
   "source": []
  }
 ],
 "metadata": {
  "kernelspec": {
   "display_name": "Python 3",
   "language": "python",
   "name": "python3"
  },
  "language_info": {
   "codemirror_mode": {
    "name": "ipython",
    "version": 3
   },
   "file_extension": ".py",
   "mimetype": "text/x-python",
   "name": "python",
   "nbconvert_exporter": "python",
   "pygments_lexer": "ipython3",
   "version": "3.10.4"
  }
 },
 "nbformat": 4,
 "nbformat_minor": 5
}
