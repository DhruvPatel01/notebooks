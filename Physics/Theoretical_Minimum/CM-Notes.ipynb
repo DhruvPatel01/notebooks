{
 "cells": [
  {
   "cell_type": "markdown",
   "id": "86f04dfd-87d5-41ac-a6ca-72008d93d9ea",
   "metadata": {},
   "source": [
    "## Notation\n",
    "\n",
    "$ F_i(\\{q\\}) $ is the force on ith particle. $ \\{q\\} $ is the set of cordinates of all particles.\n",
    "\n",
    "If there are N particles in the system,\n",
    "\n",
    "Configration space:  3N dimensional space, records positions.\n",
    "\n",
    "State space: 6N dimensional space, records position and velocity.\n",
    "\n",
    "Phase space: 6N dimesnional space, records position and momentum."
   ]
  },
  {
   "cell_type": "markdown",
   "id": "9684adfa-a79d-4a71-b99a-25b351bb58d3",
   "metadata": {
    "tags": []
   },
   "source": [
    "## Newton's second law\n",
    "\n",
    "gives us 6N equations.\n",
    "\n",
    "$$\n",
    "\\begin{align*}\n",
    "\\dot{p}_i &= F_i(\\{q\\}) \\\\\n",
    "\\dot{q}_i &= \\frac{p_i}{m_i}\n",
    "\\end{align*}\n",
    "$$\n",
    "\n",
    "Thus, if forces are known, we can compute trajectory in 6N dimensional configration space.\n",
    "\n",
    "\n",
    "if we denote $ p = \\sum_{i=1}^{i=N} p_i $,\n",
    "\n",
    "## Newton's third law,\n",
    "\n",
    "    every force has equal and opposite reaction\n",
    "    \n",
    "can be used to derive conservation of momentum.\n",
    "\n",
    "$\\dot{p} = 0$.\n",
    "\n",
    "What this tells us is if we start our trajectory at some 6N-D point in configration space, all the points in the trajectory have the same momentum. In some sense, system evolves on a contour of constant momentum.\n",
    "\n",
    "\n",
    "\n"
   ]
  },
  {
   "cell_type": "markdown",
   "id": "b71250b5-f3e0-4f96-893b-6663c6f62ec0",
   "metadata": {
    "tags": []
   },
   "source": [
    "## Energy\n",
    "\n",
    "Potential Energy Principle: All forces derive from a potential energy function $V(\\{q\\})$."
   ]
  },
  {
   "cell_type": "markdown",
   "id": "9bb02927-3655-4091-b0fc-b1fcfbcedea1",
   "metadata": {},
   "source": [
    "For particle moving in 1 dimension, \n",
    "\n",
    "$ F(q) = -\\frac{dV(q)}{dq}$.\n",
    "\n",
    "Potential energy can be computed as $V(q) = - \\int_{-\\infty}^q F(q') dq'$.\n",
    "\n",
    "Potential energy is not conserved. Sum of potential energy and kinetic energy are conserved.\n",
    "\n",
    "Kinetic energy: $T = \\frac{1}{2} mv^2$.\n"
   ]
  },
  {
   "cell_type": "markdown",
   "id": "c64f3e52-efe1-4145-bdb0-de8074e6c75d",
   "metadata": {},
   "source": [
    "More than one particles, three dimensions. If the system has N particles, the i in $q_i$ can index any of the 3N elements of the configration space.\n",
    "\n",
    "Principle:\n",
    "For **any** system there exists a potential function $V(\\{q\\})$, such that,\n",
    "\n",
    "$$\n",
    "F_i(\\{q\\}) = - \\frac{\\partial V(\\{q\\})}{\\partial q_i}\n",
    "$$\n",
    "\n",
    "In general mathematics such function need not exist for a collection of $F_i$s. This law represents conservation of energy."
   ]
  },
  {
   "cell_type": "markdown",
   "id": "b0c8c7d0-476f-45c0-98ec-1cd9a225d3c2",
   "metadata": {},
   "source": [
    "## Lagrangian\n",
    "\n",
    "### For one particle in one dimension\n",
    "We are given $q(t_0)$ and $q(t_1)$.\n",
    "\n",
    "$L(q, \\dot{q}) = T - V = \\frac{1}{2}m\\dot{q}^2 - V(\\{q\\})$\n",
    "\n",
    "Action $A = \\int_{t_0}^{t_1} L  dt$.\n",
    "\n",
    "Principle of least action tells that the particle chooses a trajectory (the function q) which minimizes the the action.\n",
    "\n",
    "Principle of least action gives Euler-Lagrange equations.\n",
    "\n",
    "$$\n",
    "\\frac{d}{dt} \\frac{\\partial L}{\\partial \\dot{q}} - \\frac{\\partial L}{\\partial {q}} = 0\n",
    "$$\n",
    "\n",
    "### For multidimensional motion of many particles\n",
    "Euler-Lagrange equations are given by,\n",
    "\n",
    "$L(\\{q\\}, \\{\\dot{q}\\}) = \\sum_i \\frac{1}{2}m_i\\dot{q}_i^2 - V(\\{q\\})$.\n",
    "\n",
    "$$\n",
    "\\frac{d}{dt} \\frac{\\partial L}{\\partial \\dot{q}_i} - \\frac{\\partial L}{\\partial {q_i}} = 0\n",
    "$$\n",
    "\n",
    "Lagrangian packs all the equations of the motions concisely.\n",
    "\n",
    "$\\frac{\\partial L}{\\partial \\dot{q}_i}$ is called generalized momentum conjugate to $q_i$. This can be motiviated by thinking of $q_i$ as cartesian coordinates and $L = \\frac{1}{2}m\\dot{x}^2$. Depending upon the Lagrangian, conjugate momentum may not have familiar form, but it is always difined by the formula $p_i =\\frac{\\partial L}{\\partial \\dot{q}_i}$.\n",
    "\n",
    "So, if the Lagrangian does not depend on $q_i$, $\\dot{p}_i = 0$, i.e. the conjugate momentum is conserved. Such coordinates are called cyclic coordinates.\n",
    "\n",
    "#### Another example of cylic coordinates\n",
    "\n",
    "$ L = \\frac{m}{2}(\\dot{x}_1^2 + \\dot{x}_2^2 ) + V(x_1 - x_2)$. It does look like that L is a function of $x_1$ and $x_2$, so neither of these is cyclic coordinate. But, if we do change of variables,\n",
    "$$\n",
    "\\begin{align*}\n",
    "x_+ &=  \\frac{x_1+x_2}{2} \\\\\n",
    "x_- &=  \\frac{x_1-x_2}{2} \n",
    "\\end{align*}\n",
    "$$\n",
    "\n",
    "the Lagrangian can be rewritten as,  $L = m(\\dot{x}_+^2 + \\dot{x}_-^2 ) + V(2x_-)$. Now the momentum conjugate to $x_+$ is conserved. $p_+ = 2m\\dot{x}_+ = m(\\dot{x}_1 + \\dot{x}_2)$, so the total momentum is conserved."
   ]
  },
  {
   "cell_type": "markdown",
   "id": "6dcb28e1-ead7-42ff-9340-8ecb84ee6f03",
   "metadata": {},
   "source": [
    "If $ L = \\frac{m}{2}(\\dot{q_1}^2 + \\dot{q_2}^2 ) + V(a q_1 - b q_2)$, then\n",
    "\n",
    "$$\n",
    "\\begin{align*}\n",
    "\\dot{p}_1 &= -a V(a q_1 - b q_2) \\\\\n",
    "\\dot{p}_2 &=  b V(a q_1 - b q_2) \\\\\n",
    "\\end{align*} \\text{.}\n",
    "$$\n",
    "\n",
    "Law of conservation of momentum has changed. Instead of conserving $p_1 + p_2$, $bp_1+ap_2$ is conserved. If V was a non linear function of $q_1, q_2$, there wouldn't be law of conservation."
   ]
  },
  {
   "cell_type": "markdown",
   "id": "f2686588-9513-4ee8-b9a0-dd7812cbd259",
   "metadata": {
    "tags": []
   },
   "source": [
    "## Symmetries"
   ]
  },
  {
   "cell_type": "markdown",
   "id": "5c242e9b-f515-4439-aaa8-576f8ba81322",
   "metadata": {
    "tags": []
   },
   "source": [
    "\n",
    "\n",
    "$q_i' = q_i'(q_i)$. We are moving the whole system to the new location. This change changes the system. For example, potential energy(so the Lagrangian) may change.\n",
    "\n",
    "Symmetry is the coordinate transformation that does not change the value of the Lagrangian.\n",
    "\n",
    "### Examples\n",
    "\n",
    "$L = \\frac{1}{2} \\dot{q}^2$. And the transformation $ q \\rightarrow q + \\delta$. Here the $\\dot{q}$ does not change, so L also doesn't change.\n",
    "\n",
    "If the Lagrangian had a potential ($V(q)$) term in it, unless the potential is a constant independent of q, change in q changes the potential. In that case there is no symmetry.\n",
    "\n",
    "#### Example Sym.1\n",
    "If, potential was a function $V(q_1 - q_2)$, then under the transformation\n",
    "$$\n",
    "\\begin{align*}\n",
    "q_1 &\\rightarrow q_1 + \\delta \\\\\n",
    "q_2 &\\rightarrow q_2 + \\delta \n",
    "\\end{align*}\n",
    "$$ \n",
    "L is symmetric.\n",
    "\n",
    "#### Example Sym.2\n",
    "If, potential was a function $V(aq_1 + bq_2)$, then under the transformation\n",
    "$$\n",
    "\\begin{align*}\n",
    "q_1 &\\rightarrow q_1 + b\\delta \\\\\n",
    "q_2 &\\rightarrow q_2 - a\\delta \n",
    "\\end{align*}\n",
    "$$ \n",
    "L is symmetric.\n",
    "\n",
    "#### Example Sym.3\n",
    "If, $ L = \\frac{1}{2} (\\dot{x}^2 + \\dot{y}^2) + V(x^2 + y^2)$, then there is rotational symmetry. That is, rotating the point around origin by angle $\\theta$ does not change the lagrangian.\n",
    "\n",
    "$$\n",
    "\\begin{align*}\n",
    "x &\\rightarrow x cos\\theta + y sin\\theta \\\\\n",
    "y &\\rightarrow -x sin\\theta + y cos\\theta\n",
    "\\end{align*}\n",
    "$$ \n",
    "\n",
    "For small angle $\\delta$, $sin\\delta = \\delta$ and $cos\\delta = 1$.\n",
    "$$\n",
    "\\begin{align*}\n",
    "x &\\rightarrow x + y \\delta \\\\\n",
    "y \\rightarrow -x \\delta + y &= y - x\\delta\n",
    "\\end{align*}\n",
    "$$ \n",
    "Plugging this into the lagrangian, we can see that (in the first order of $\\delta$) lagrangian does not change."
   ]
  },
  {
   "cell_type": "markdown",
   "id": "68cdc3bc-edc1-46cd-80b2-082908990c7b",
   "metadata": {
    "lines_to_next_cell": 2,
    "tags": []
   },
   "source": [
    "### General notion of symmetry\n",
    "\n",
    "In general, the shift is parameterized by infinitesimal $\\delta$ and is given by $\\delta q_i = f_i(q) \\delta$.\n",
    "\n",
    "|example | $f_1$ | $f_2$|\n",
    "|--|--|--|\n",
    "|Sym.1 | 1 | 1 |\n",
    "|Sym.2 | b | -a |\n",
    "|Sym.3 | y | -x |\n",
    "\n",
    "Change in velocity then is given by $\\delta \\dot{q_i} = \\frac{d}{dt} \\delta q_i$.\n",
    "\n",
    "A  continuous  symmetry  is  an  infinitesimal transformation  of  the  coordinates  for  which  the  change  in  the Lagrangian  is  zero."
   ]
  },
  {
   "cell_type": "markdown",
   "id": "4ec2bb36-c7d8-48a8-bc08-f1f3acf5532d",
   "metadata": {},
   "source": [
    "If we assume that system evolves along a trajectory that satisfies Euler-Lagrangian equations, we can prove that symmetry implies $\\cal{Q}$ is conserved. Where $\\cal{Q} = \\sum_i p_i f_i(q)$.\n",
    "\n",
    "Applying this to **Sym.3**, we see that $l = p_x y - p_y x$, aka angular momentum, is conserved."
   ]
  },
  {
   "cell_type": "markdown",
   "id": "aeaf4d47-266d-4d9c-a356-4cfef36a8ecb",
   "metadata": {},
   "source": [
    "## Time translation invariance\n",
    "\n",
    "A system  is time-translation  invariant  if  there  is  no  explicit  time  dependence  in  its Lagrangian. \n",
    "\n",
    "e.g. harmonic motion due to spring $L(x, \\dot{x}) = \\frac{1}{2} (m \\dot{x}^2 - k x^2)$. Here neither the mass m, nor the spring constant k depend on the time. \n",
    "\n",
    "If spring constant changes with time i.e. k(t), there would be no time translation invariance.\n",
    "\n",
    "Now if $L = L(q_i, \\dot{q}_i, t)$, \n",
    "\n",
    "$$\n",
    "\\frac{dL}{dt} = \\sum_i \\left( \\frac{\\partial{L}}{\\partial{q_i}} \\dot{q}_i + \\frac{\\partial{L}}{\\partial{\\dot{q}_i}} \\ddot{q}_i \\right) + \\frac{\\partial{L}}{\\partial{t}}\n",
    "$$"
   ]
  },
  {
   "cell_type": "markdown",
   "id": "6dd2782d-329e-42ab-83f8-dbc2dda28d2c",
   "metadata": {},
   "source": [
    "Using Euler-Lagrangian equations, we can simplify above to\n",
    "\n",
    "$$\n",
    "\\frac{dL}{dt} = \\frac{d}{dt} \\sum_i p_i \\dot{q}_i + \\frac{\\partial{L}}{\\partial{t}} \\text{.}\n",
    "$$\n",
    "\n",
    "If we define $H = \\sum_i p_i \\dot{q}_i - L$, we see that \n",
    "$$\\frac{dH}{dt} = -\\frac{\\partial{L}}{\\partial{t}} \\text{.}$$\n",
    "\n",
    "Conclusion: H changes only if L has **explicit** time dependence. In other words, if the system is time-translaction invariant then quantity H is conserved.\n",
    "\n",
    "H is called Hamilonian, and is an energy of the system."
   ]
  },
  {
   "cell_type": "markdown",
   "id": "8b346247-c027-4b2f-a99c-e97565d37fe1",
   "metadata": {},
   "source": [
    "### Example: Motion of a particle in a potential\n",
    "\n",
    "$$\n",
    "\\begin{align*}\n",
    "L &= \\frac{1}{2}m \\dot{x}^2 - V(x) \\\\\n",
    "p &= \\frac{\\partial{L}}{\\partial{\\dot{x}}} = m \\dot{x} \\\\\n",
    "H &= p \\dot{x} - L \\\\\n",
    "  &= m \\dot{x}^2 - \\frac{1}{2}m \\dot{x}^2 + V(x) \\\\\n",
    "  &= \\frac{1}{2}m \\dot{x}^2 + V(x) \\\\\n",
    "\\end{align*}\n",
    "$$\n",
    "\n",
    "There are systems for which the Lagrangian has a more intricate form than just T - V. For some of those cases, it is not possible to  identify  a  clear  separation  into  kinetic  and  potential  energy. \n",
    "\n",
    "General Definition of Energy: Energy equals Hamiltonian."
   ]
  },
  {
   "cell_type": "markdown",
   "id": "b6de50d3-4646-4710-80ad-8f13d37ba279",
   "metadata": {},
   "source": [
    "In Lagrangian formulation, the focus is on the trajectory in the configuration space. here, the equations are second order. So knowing just the $q_i$s is not enough. We also need initial velocities.\n",
    "\n",
    "In Hamiltonian formulation, the focus in on the trajectory in the phase space. \n",
    "\n",
    "The first step in the Hamiltonian formulation is to replace $\\dot{q}$'s  with $p$'s. This is easy to do in normal cartesian coordinates.\n",
    "\n",
    "in the particle on a line, $ H = \\frac{1}{2} m \\dot{x}^2 + V(x)$. Replacing $\\dot{x} = \\frac{p}{m}$, we get, $ H = \\frac{p^2}{2m} + V(x)$.\n",
    "\n",
    "$$\n",
    "\\frac{\\partial H}{\\partial x} = -\\frac{dV}{dx}\n",
    "$$\n",
    "\n",
    "\n",
    "Using $f = ma$ we can rewrite the above equations as \n",
    "$$\n",
    "\\dot{p} = \\frac{\\partial H}{\\partial x} \n",
    "$$\n",
    "\n",
    "Thus we have two equations,\n",
    "\n",
    "$$\n",
    "\\begin{align*}\n",
    "-\\frac{\\partial H}{\\partial x} &= \\dot{p} \\\\\n",
    "\\frac{\\partial H}{\\partial p} = \\frac{p}{m} &= \\dot{x}\n",
    "\\end{align*}\n",
    "$$\n",
    "\n",
    "### General system\n",
    "\n",
    "$$\n",
    "\\begin{align*}\n",
    "H &= H(q_i, p_i) \\\\\n",
    "\\dot{p_i} &= -\\frac{\\partial H}{\\partial q_i} \\\\\n",
    "\\dot{q_i} &= \\frac{\\partial H}{\\partial p}\n",
    "\\end{align*}\n",
    "$$\n",
    "\n",
    "So we see that for each direction in phase space, there is a single first-order equation. "
   ]
  },
  {
   "cell_type": "markdown",
   "id": "9e34062e-8930-4087-b9b6-ea5a59448620",
   "metadata": {
    "tags": []
   },
   "source": [
    "#### Harmonic Oscillator"
   ]
  },
  {
   "cell_type": "markdown",
   "id": "714098f3-a494-4863-abcd-6f71fb63786e",
   "metadata": {},
   "source": [
    "$$\n",
    "L = \\frac{m \\dot{x}^2}{2} - \\frac{kx^2}{2}\n",
    "$$\n",
    "\n",
    "With the change of variable $q = (km)^{\\frac{1}{4}}$,\n",
    "\n",
    "$$\n",
    "L = \\frac{\\dot{q}^2}{2\\omega} - \\frac{\\omega q^2}{2}\n",
    "$$\n",
    "\n",
    "The conjugate momentum $p = \\frac{\\partial L}{\\partial \\dot{q}} = \\frac{\\dot{q}}{\\omega}$. This gives us $H = \\frac{\\omega}{2} (p^2 + q^2)$.\n",
    "\n",
    "From that,\n",
    "\n",
    "$$\n",
    "\\begin{align}\n",
    "\\dot{p} &= -\\omega q \\\\\n",
    "\\dot{q} &= \\omega p\n",
    "\\end{align}\n",
    "$$\n",
    "\n",
    "Thus Hamiltonian formulation gives us two first order equations.\n",
    "\n",
    "Solving Euler-Lagrangian equation, on the other hand gives us single second order equation. $\\ddot{q} = \\omega \\dot{p}$. These two are equivalent, and can be seen by substituting the first equation in the time derivative of the second equation of the Hamiltonian."
   ]
  },
  {
   "cell_type": "code",
   "execution_count": null,
   "id": "4a152237-dd4d-435c-9b72-c3f3a49d1dae",
   "metadata": {},
   "outputs": [],
   "source": []
  }
 ],
 "metadata": {
  "jupytext": {
   "formats": "ipynb,md"
  },
  "kernelspec": {
   "display_name": "Python 3",
   "language": "python",
   "name": "python3"
  },
  "language_info": {
   "codemirror_mode": {
    "name": "ipython",
    "version": 3
   },
   "file_extension": ".py",
   "mimetype": "text/x-python",
   "name": "python",
   "nbconvert_exporter": "python",
   "pygments_lexer": "ipython3",
   "version": "3.10.5"
  }
 },
 "nbformat": 4,
 "nbformat_minor": 5
}
