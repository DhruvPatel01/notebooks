{
 "cells": [
  {
   "cell_type": "markdown",
   "id": "a3b32a8a",
   "metadata": {
    "tags": []
   },
   "source": [
    "# Quantum Mechanics\n",
    "\n",
    "## Differences from Classical Mechanics\n",
    "1. States have different logical structure than CM.\n",
    "2. States and measurements are different unlike CM. e.g. Position and Momemntum can be determined by experiments in CM.\n",
    "\n",
    "## Spins\n",
    "Particles have properties attached to it. e.g. mass, electric charge.\n",
    "\n",
    "Even a specific particle is not completely specified by its position.\n",
    "\n",
    "Attached to electron is an extra degree of freedom, called spin. Spin is as quantum mechanical as it can and we should not try to visualize it.\n",
    "\n",
    "## Testing\n",
    "\n",
    "Propositions: \n",
    "$$\n",
    "\\begin{align*}\n",
    "A &: \\sigma_z = +1 \\\\\n",
    "B &: \\sigma_x = +1 \\\\\n",
    "\\end{align*}\n",
    "$$\n",
    "\n",
    "### Classically,\n",
    "\n",
    "To test (A or B), one could first **gently** test $\\sigma_z$. If it is -1, one would **gently** test $\\sigma_x$. The result of doing it otherway (i.e. B or A) will be the same as doing (A or B). The reason is that classically, measurements are gentle. They don't change the state of the system.\n",
    "\n",
    "### In Quantum Mechanics,\n",
    "\n",
    "If some entity prepares the spin in $\\sigma_z = +1$ state, and we measure `A or B` (whether we use short circuit or not), we will measure it to be true. However, if we measure `B or A`, there is 25% chance that we will measure it to be false.\n",
    "\n",
    "What about `A and B`? If we conclude that `A and B` is true, can we confirm it again? Answer is no. Since to compute B, we had to measure $\\sigma_x$, which ruined measurement of A. Thus we can't confirm it. i.e. experiment is not reproducible."
   ]
  },
  {
   "cell_type": "markdown",
   "id": "8a4757e9",
   "metadata": {
    "tags": []
   },
   "source": [
    "## Complex Numbers"
   ]
  },
  {
   "cell_type": "markdown",
   "id": "6c6ea5a8",
   "metadata": {},
   "source": [
    "Two ways to represent them. \n",
    "\n",
    "In cartesian coordinates, $z = x + iy$.\n",
    "\n",
    "In polar coordinates, $z = re^{i\\theta}$.\n",
    "\n",
    "$ x_1 x_2 = (r_1e^{i\\theta_1})(r_2e^{i\\theta_2}) = r_1 r_2 e^{i(\\theta_1 + \\theta_2)}$.\n",
    "\n",
    "$z = x + iy = re^{i\\theta}$ \n",
    "\n",
    "$z^\\ast = x - iy = re^{-i\\theta}$ \n",
    "\n",
    "$z^\\ast z = r^2$, i.e. a real number\n",
    "\n",
    "### Phase Factors\n",
    "\n",
    "These are complex numbers whose r componenet is 1. Following holds for them,\n",
    "\n",
    "$$\n",
    "\\begin{align}\n",
    "z^\\ast z &= 1 \\\\\n",
    "z &= e^{i\\theta}\\\\\n",
    "z &= \\cos\\theta + i \\sin\\theta\n",
    "\\end{align}\n",
    "$$"
   ]
  },
  {
   "cell_type": "markdown",
   "id": "1548905e",
   "metadata": {},
   "source": [
    "$$\\renewcommand{\\bra}[1]{\\left\\langle{#1}\\right|}$$\n",
    "$$\\renewcommand{\\ket}[1]{\\left|{#1}\\right\\rangle}$$\n",
    "$$\\renewcommand{\\braket}[1]{\\left\\langle{#1}\\right\\rangle}$$"
   ]
  },
  {
   "cell_type": "markdown",
   "id": "663c90a8",
   "metadata": {
    "tags": []
   },
   "source": [
    "## Vector Spaces"
   ]
  },
  {
   "cell_type": "markdown",
   "id": "b10a3083",
   "metadata": {
    "incorrectly_encoded_metadata": "jp-MarkdownHeadingCollapsed=true",
    "tags": []
   },
   "source": [
    "Vector spaces is familiar concept from abstract linear algebra.\n",
    "\n",
    "### Complex Conjugate of space V \n",
    "\n",
    "For every $\\ket{A}$ there exists $\\bra{A}$ in conjugate space. This space has following properties.\n",
    "\n",
    "1. The conjugate of $\\ket{A} + \\ket{B}$ is $\\bra{A}+\\bra{B}$.\n",
    "2. Conjugate of $z\\ket{A}$ is $z^\\ast \\bra{A} = \\bra{A}z^\\ast $.\n",
    "\n",
    "In the concrete case where ket space is column vectors, bra space is denoted as row vectors.\n",
    "\n",
    "i.e. if \n",
    "\n",
    "$$\n",
    "\\begin{align*}\n",
    "\\ket{A} = \\begin{bmatrix}\n",
    "\\alpha_1 \\\\\n",
    "\\alpha_2 \\\\\n",
    "\\vdots \\\\\n",
    "\\alpha_n\n",
    "\\end{bmatrix}\n",
    "\\end{align*}\n",
    "$$\n",
    "\n",
    "then\n",
    "$$\n",
    "\\begin{align*}\n",
    "\\bra{A} = \\begin{bmatrix}\n",
    "\\alpha_1^\\ast  & \\alpha_2^\\ast  & \\dots & \\alpha_n^\\ast \n",
    "\\end{bmatrix}.\n",
    "\\end{align*}\n",
    "$$\n"
   ]
  },
  {
   "cell_type": "markdown",
   "id": "abde215c",
   "metadata": {},
   "source": [
    "### Inner Products"
   ]
  },
  {
   "cell_type": "markdown",
   "id": "ade1350f",
   "metadata": {},
   "source": [
    "Inner product is always between bras and kets. It is written like $\\braket{B|A}$. The result is a complex numbers.\n",
    "\n",
    "#### Axioms of inner product.\n",
    "1. Inner product is linear. $\\bra{C} + (\\ket{A}+\\ket{B}) = \\braket{C|A} + \\braket{C|B}$.\n",
    "2. $\\braket{B|A} = \\braket{A|B}^\\ast $.\n",
    "\n",
    "#### Special vectors\n",
    "1. Normalized: $\\braket{A|A} = 1$.\n",
    "2. Orhthogonal: $\\braket{B|A} = 0$."
   ]
  },
  {
   "cell_type": "markdown",
   "id": "3dc60510",
   "metadata": {},
   "source": [
    "### Orhtonormal Basis.\n",
    "\n",
    "Let our space be N dimensional. And let the orthonomal basis denoted by $\\ket{i}$.\n",
    "\n",
    "$$\n",
    "\\ket{A} = \\sum_i \\alpha_i \\ket{i},\n",
    "$$\n",
    "\n",
    "where, $\\alpha_j = \\braket{j|A}$. (To derive this, multiply both sides by $\\bra{j}$."
   ]
  },
  {
   "cell_type": "markdown",
   "id": "9a35bd27",
   "metadata": {},
   "source": [
    "# States"
   ]
  },
  {
   "cell_type": "markdown",
   "id": "365dc885",
   "metadata": {},
   "source": [
    "In CM, knowing the state means knowing everything that is necessary to predict the future. \n",
    "\n",
    "In QM, knowing the state means knowing as much as can be known about how the system was prepared."
   ]
  },
  {
   "cell_type": "markdown",
   "id": "c1b120fc",
   "metadata": {},
   "source": [
    "Apparatus $\\cal{A}$ can be oriented on any axis. If we orient it along z axis, the measured spin will either be +1 or -1. \n",
    "\n",
    "$\\sigma_z = \\pm 1$. We can denote +1 as state $\\ket{u}$ and -1 as $\\ket{d}$.\n",
    "\n",
    "Similarly $\\sigma_x = \\pm 1$, can be denoted by  $\\ket{r}$ and -1 as $\\ket{l}$. And $\\sigma_y = \\pm 1$, can be denoted by  $\\ket{o}$ and -1 as $\\ket{i}$.\n",
    "\n",
    "If two states are orthogonal than these two states can be determined together. For example, if $\\sigma_z$ was prepared to be in $\\ket{u}$, for any subsequent measurements probability that $\\ket{d}$ is detected is 0. Thus for binary spin, the state space is two dimensional. For now we can take $\\ket{u}, \\ket{d}$ as the basis vectors.\n",
    "\n",
    "Then, the generic state $\\ket{A} = \\alpha_u \\ket{u} + \\alpha_d \\ket{d}$. Where $\\alpha_i = \\braket{i|A}$.\n",
    "\n",
    "The meaning of,\n",
    "- $\\alpha_u^\\ast \\alpha_u$: If the spin was prepared in $\\ket{A}$ state, $\\alpha_u^\\ast \\alpha_u$ is the probability that $\\sigma_z = +1$.\n",
    "- $\\alpha_d^\\ast \\alpha_d$: is the probability that $\\sigma_z = -1$.\n",
    "\n",
    "Since probabilities must add to 1, $\\alpha_u^\\ast \\alpha_u + \\alpha_d^\\ast \\alpha_d = 1$. It is equivalent to saying that $\\ket{A}$ is normalized, i.e. $\\braket{A|A} = 1$.\n",
    "\n",
    "General principle of quantum systems: the state of a system is represented by a unit (normalized) vector in a vector space of states. Moreover, the squared magnitudes of the components of the state-vector, **along particular basis vectors**, represent probabilities for various experimental outcomes. "
   ]
  },
  {
   "cell_type": "markdown",
   "id": "0e5214de",
   "metadata": {},
   "source": [
    "### Representing $\\ket{r}$ and $\\ket{l}$ using above basis vectors\n",
    "\n",
    "We know that if A initially prepares the state in $\\ket{r}$, $\\sigma_z = \\pm 1$ with equal probability. Hence, $\\alpha_u^\\ast \\alpha_u =\\alpha_d^\\ast \\alpha_d = \\frac{1}{2}$. One choice is to have $\\alpha_u = \\alpha_d = \\frac{1}{\\sqrt{2}}$.\n",
    "\n",
    "$\\ket{r} = \\frac{1}{\\sqrt{2}} \\ket{u} + \\frac{1}{\\sqrt{2}} \\ket{d}$. (There are is still ambiguity, called phase ambiguity.)\n",
    "\n",
    "To solve for $\\ket{l}$ the above process repeats. But, in addition, $\\braket{l|r} = 0$. One choice is $[\\frac{1}{\\sqrt{2}}, -\\frac{1}{\\sqrt{2}}]$. But it is not the only choice. Even for fixed choice for $\\ket{r}$, you can multiply above choice by a phase factor ($z = e^{i\\theta}$), and still satisfy the two constraints. Later, we will find out that no measurable quantity is sensitive to the overall phase-factor, and therefore we can ignore it when specifying states. \n",
    "\n",
    "### Representing $\\ket{i}$ and $\\ket{o}$ using above basis vectors\n",
    "\n",
    "To solve for $\\ket{i}$ and $\\ket{o}$, we need same conditions as we needed above. But we also need additional constrains. For example, if A prepares the state in $\\ket{i}$,$\\sigma_x = \\pm1$, with equal probability. Also $\\braket{i|o} = 0$.\n",
    "\n",
    "The following solution solves for these constraints (up to phase-factor ambiguity).\n",
    "\n",
    "$\\ket{i} = \\frac{1}{\\sqrt{2}} \\ket{u} + \\frac{i}{\\sqrt{2}} \\ket{d}$.\n",
    "\n",
    "$\\ket{o} = \\frac{1}{\\sqrt{2}} \\ket{u} - \\frac{i}{\\sqrt{2}} \\ket{d}$.\n"
   ]
  },
  {
   "cell_type": "markdown",
   "id": "f3eb9367",
   "metadata": {},
   "source": [
    "With the previous discussion, the vectors can be represented in column format as below.\n",
    "\n",
    "$$\n",
    "\\begin{align*}\n",
    "\\ket{u} &= \\begin{bmatrix} 1 \\\\ 0 \\end{bmatrix}, \\ket{d} = \\begin{bmatrix} 0 \\\\ 1 \\end{bmatrix} \\\\\n",
    "\\end{align*}\n",
    "$$"
   ]
  },
  {
   "cell_type": "markdown",
   "id": "06dff2d5",
   "metadata": {},
   "source": [
    "### Matricies\n",
    "\n",
    "If we have a basis $\\ket{i}$, a vector $\\ket{A}$ can be rewritten as,\n",
    "\n",
    "$$ \\ket{A} = \\sum_i \\alpha_i \\ket{i} = \\sum_i \\ket{i} \\braket{i|A} $$.\n",
    "\n",
    "Similarly,\n",
    "$$ \\bra{A} = \\sum_i \\braket{A|i}\\bra{i}  $$.\n",
    "\n",
    "\n",
    "\n",
    "Axiom: Physical observables are described by linear operators.\n",
    "\n",
    "Observables are the things that we can measure. e.g., coordinates of a particle; the energy, momentum, or angular momentum of a system; or the electric field at a point in space.\n",
    "\n",
    "$$\n",
    "\\begin{align*}\n",
    "M \\ket{A} &= \\ket{B} \\\\\n",
    "M \\sum_j \\alpha_j \\ket{j} &= \\sum_j \\beta_j \\ket{j} \\\\\n",
    "\\sum_j \\alpha_j M\\ket{j} &= \\sum_j \\beta_j \\ket{j} \\text{;;assuming M is linear} \\\\\n",
    "\\sum_j \\alpha_j \\bra{k} M \\ket{j} &= \\sum_j \\beta_j \\braket{k|j} \\text{;;multiply both sides by} \\bra{k} \\\\\n",
    "\\sum_j \\alpha_j m_{kj} &= \\beta_k\\\\\n",
    "\\end{align*}\n",
    "$$\n",
    "\n",
    "Note that each $m_{kj}$ is a complex number. We can think of M in terms of matrix (defined by a choice of basis vectors).\n",
    "\n",
    "#### Eigenvectors and Eigenvalues\n",
    "\n",
    "$M \\ket{\\lambda} = \\lambda \\ket{\\lambda}$. $\\lambda$ is an eigenvalue, and $\\ket{\\lambda}$ is an eigenvector.\n",
    "\n",
    "#### Linear operators on bra vectors\n",
    "\n",
    "$$ \n",
    "\\begin{align*}\n",
    "\\bra{B}  &= \\begin{bmatrix} b_1^\\ast  & b_2^\\ast  & b_3^\\ast \\end{bmatrix} \\\\\n",
    "M &= \\begin{bmatrix}\n",
    "m_{11} & m_{12} & m_{13} \\\\\n",
    "m_{21} & m_{22} & m_{23} \\\\\n",
    "m_{31} & m_{32} & m_{33} \\\\\n",
    "\\end{bmatrix}\n",
    "\\end{align*}\n",
    "$$\n",
    "\n",
    "Than $\\bra{B} M$ is just row vector multiplied by matrix M.\n",
    "\n",
    "#### Hermitian Conjugate\n",
    "$$\n",
    "\\begin{align*}\n",
    "M^\\dagger &= (M^T)^\\ast  \\\\\n",
    "M \\ket{A} &= \\ket{B} \\\\\n",
    "\\bra{A} M^\\dagger &= \\bra{B} \\\\\n",
    "\\end{align*}\n",
    "$$\n",
    "\n",
    "#### Hermitian Operators\n",
    "- Observables quantities in classcial mechanics are real numbers. i.e. they are their own complex conjugate.\n",
    "- Observables in quantum mechanics (i.e. linear operators) are also their own complex conjugates. Such operators are called Hermitian Operators. $M^\\dagger = M$.\n",
    "\n",
    "##### Properties of Hermitian Operators\n",
    "- Their eigenvalues are real.\n",
    "- Their eigenvectors form an orthonormal basis. (i.e. their eigenvectors are orthonormal and they form a basis)"
   ]
  },
  {
   "cell_type": "markdown",
   "id": "c6240a67",
   "metadata": {},
   "source": [
    "## Principles\n",
    "1. The observable or measurable quantities of QM are represented by a linear operator L. \n",
    "2. The possible readings of the measurements are eigenvalues $\\lambda_i$. The state for which reading is **unambiguously** $\\lambda_i$ is the corresponding eigenvector $\\ket{\\lambda_i}$.\n",
    "3. Unambiguously distinguishable states are represented by orthogonal vectors. e.g. $\\braket{u|d} = 0$.\n",
    "4. If $\\ket{A}$ is the state vector of the system, and the observable L is measured, the probability of observing $\\lambda_i$ is given by $\\braket{A|\\lambda_i}\\braket{\\lambda_i|A}$.\n",
    "\n",
    "Since the readings (i.e., eigenvalues) are real and eigenvectors are orthogonal, the operator L must be hermitian.\n",
    "\n",
    "P1 says that $\\sigma_x, \\sigma_y, \\text{and} \\sigma_z$ are identified with a specific linear operator in 2D space of states describing the states.\n",
    "P2 says that the actual measurments can take discrete values. E.g., energy of atom will be one of the established energy levels of the atom."
   ]
  },
  {
   "cell_type": "markdown",
   "id": "b22e064b",
   "metadata": {},
   "source": [
    "### 3-Vector Operator $\\sigma$\n",
    "\n",
    "- Just as a spin-measuring apparatus can only answer questions about a spin's orientation in a specific direction, a spin operator can only provide information about the spin component in a specific direction. \n",
    "- To physically measure spin in a different direction, we need to rotate the apparatus to point in the new direction. The same idea applies to the spin operator—if we want it to tell us about the spin component in a new direction, it too must be \"rotated\" but this kind of rotation is accomplished mathematically.\n",
    "\n",
    "### Operator Matrices\n",
    "Using above four principles, and solving linear equations, we can derive them.\n",
    "\n",
    "$$\n",
    "\\sigma_z = \\begin{bmatrix}\n",
    "1 & 0 \\\\\n",
    "0 & -1 \n",
    "\\end{bmatrix}, \\sigma_x = \\begin{bmatrix}\n",
    "0 & 1 \\\\\n",
    "1 & 0 \n",
    "\\end{bmatrix}, \\sigma_y = \\begin{bmatrix}\n",
    "0 & -i \\\\\n",
    "i & 0 \n",
    "\\end{bmatrix} \\text{.}\n",
    "$$\n",
    "\n",
    "These along with Identity matrix are called Pauli Matrices.\n",
    "\n",
    "IMPORTANT: Applying the operator L to state $\\ket{A}$ does not change the state to $L\\ket{A}$. $L\\ket{A}$ is actually a supuerposition and tells us the probabilities of basis states. When we actually measure using L, the system is changed to one of the eignestates unambiguously.\n",
    "\n",
    "There is nothing special about these three operators. We can take any direction $\\hat{n} = (n_x, n_y, n_z)$, orient the apparatus A along $\\hat n$, activate A, and measure the component of the spin along $\\hat n$. That means there has to be an operator that represents this operation. Indeed, this operator is given by $\\sigma_n = \\sigma \\cdot \\hat n$, where $\\sigma = (\\sigma_x, \\sigma_y, \\sigma_z)$.\n",
    "\n",
    "$$\n",
    "\\sigma_n = \\begin{bmatrix}\n",
    "n_z & (n_x - i n_y) \\\\\n",
    "(n_x + i n_y) & -n_z\n",
    "\\end{bmatrix}\n",
    "$$"
   ]
  },
  {
   "cell_type": "markdown",
   "id": "5d91eb54",
   "metadata": {},
   "source": [
    "### Spin-Polarization Principle\n",
    "\n",
    "For any state $\\ket{A} = \\alpha_u \\ket{u} + \\alpha_d \\ket{d}$, there exists some direction $\\hat n$ such that $\\sigma \\cdot \\hat n = \\ket{A}$.\n",
    "\n",
    "States of the spins are characterized by a polarization vector, and along the polarization vector the component of the spin is predictably +1.\n",
    "\n",
    "\n"
   ]
  },
  {
   "cell_type": "markdown",
   "id": "d1f33dfc-9be1-4cb7-bb65-4cd4af959549",
   "metadata": {},
   "source": [
    "### Time Development Operator"
   ]
  },
  {
   "cell_type": "markdown",
   "id": "b7c5476a-3169-4afa-8a74-ee4bb659edba",
   "metadata": {},
   "source": [
    "Let the closed system be in state $\\ket{\\Psi(t)}$. Thus, state can be different at different times. \n",
    "\n",
    "The time development operator $U(t)$ tells us how the system evolves with time.\n",
    "\n",
    "$$\\ket{\\Psi(t)} = U(t) \\ket{\\Psi(0)}$$.\n",
    "\n",
    "Thus, the time evolution of the state is deterministic.\n",
    "\n",
    "Quantum mechanics assumes,\n",
    "1. that U(t) is a linear operator.\n",
    "2. If two states are orthonormal, they remain orthonormal in the evolution. i.e., $\\braket{\\Psi(0)|\\Phi(0)} =0 \\implies \\braket{\\Psi(t)|\\Phi(t)} = 0$.\n",
    "\n",
    "As a consequence of these two assumptions, it is easy to prove that $U(t)^{\\dagger}U(t) = I$. Such operator is called unitary operator.\n",
    "\n",
    "Principle 5: Time evolution of state vectors is unitary.\n",
    "\n",
    "Unitarity also implies that as time evolves, the overlap (inner product) between two states remains the same.\n",
    "\n",
    "Quantum Mechanics also assumes that time evolution is continuous.\n",
    "\n",
    "Thus, for small time $\\epsilon, U(\\epsilon) = I - i \\epsilon H$. Using the unitarity condition  $U(t)^{\\dagger}U(t) = I$, we can show that $H^{\\dagger} = H$.\n",
    "\n",
    "Thus, H is hermitian. i.e., it is an obeservable, and has complete set of orthonormal eigenvectors.\n",
    "\n",
    "We will see that, the eigenvalues of H are the values that result from measuring the energy levels of the quantum system. Thus, it has resemblance to the hamiltonian from the classical mechanics.\n",
    "\n",
    "Using the continuity assumption inside $\\ket{\\Psi(t)} = U(t) \\ket{\\Psi(0)}$, we can derive, \n",
    "\n",
    "$$ \\frac{d \\ket{\\Psi}}{dt} = -iH\\ket{\\Psi}$$.\n",
    "\n",
    "This equation is known as Generalized Schrodinger equation or time-dependent schrodinger's equation. If we know the Hamiltonian of the system, we can know how the state of the undisturbed system evolves with the time.\n",
    "\n",
    "#### Plank's constant\n",
    "h = 6.6 * 1e-34 kgm^2/s1.\n",
    "\n",
    "$\\hbar = \\frac{h}{2\\pi} = 1.054571726 \\dots x 10^{-34} \\frac{kgm^2}{s}$ \n",
    "\n",
    "In the gen. schrodinger's eqn, lhs has units of 1/time, whereas rhs has units of energy (kgm^2/s^2, because H is hamiltonian). This is wrong. However multiplying lhs by Plank's constant, units are proper. Thus, the correct Generalized schrodinger's equation is $$ \\hbar \\frac{d \\ket{\\Psi}}{dt} = -iH\\ket{\\Psi}$$.\n"
   ]
  },
  {
   "cell_type": "markdown",
   "id": "935e7785-0c73-4911-a152-1bd533ecf858",
   "metadata": {},
   "source": [
    "#### Expectation\n",
    "If L is an observable, the expectation is defined as $\\braket{L} = \\sum_i P(\\lambda_i) \\lambda_i$.\n",
    "\n",
    "When state of the system is $\\ket{A} = \\sum_i \\alpha_i \\lambda_i$, the expecation can be computed as $\\braket{L} = \\sum_i \\alpha_i^\\ast \\alpha_i \\lambda_i = \\braket{A|L|A}$.\n",
    "\n",
    "Try to apply this for state $\\ket{r}$ and observable =$\\sigma_z$. The arithmetic should result in value 0.\n",
    "\n",
    "#### Effect of the phase factor.\n",
    "\n",
    "We can multiply the state vectors by a phase factor $e^{i\\theta}$ for any $\\theta$. This does no make any difference. Although, probability amplitude will change i.e., $\\alpha_i \\to e^{i\\theta} \\alpha_i$, the probability does not change, i.e., $\\alpha_i^\\ast \\alpha_i$ remains unchanged. Similarly, the expectation of the observable does not change."
   ]
  },
  {
   "cell_type": "markdown",
   "id": "4fb816f6-81ba-4cd6-816e-669ecb25d6ce",
   "metadata": {},
   "source": [
    "#### Change in the expectation\n",
    "\n",
    "$\\frac{d \\braket{\\Psi(t)|L|\\Psi(t)}}{dt} = \\braket{\\dot\\Psi(t)|L|\\Psi(t)} + \\braket{\\Psi(t)|L|\\dot\\Psi(t)}$. Using generalized schrodinger's equations, \n",
    "\n",
    "$\\frac{d \\braket{\\Psi(t)|L|\\Psi(t)}}{dt} = \\frac{i}{\\hbar} \\braket{\\Psi(t)|HL - LH|\\Psi(t)}$.\n",
    "\n",
    "Linear operators don't commute, so HL != LH.\n",
    "\n",
    "**Commutator**: Given two operators L, and M, LM - ML is called the commutator of L with M, and is denoted by [L, M]. Note that [L, M] = -[M, L].\n",
    "\n",
    "Thus, $\\frac{d}{dt} \\braket{L} = \\frac{-i}{\\hbar} \\braket{[L, H]}$.\n",
    "\n",
    "It is easy to prove that $i[L, H]$ is also Hermitian. Thus, a valid observable.\n",
    "\n",
    "This has resemblance to classical mechanics. $\\dot{F} = \\{F, H\\}$."
   ]
  },
  {
   "cell_type": "markdown",
   "id": "c2a55d2e-c137-412a-8a6a-63629171580a",
   "metadata": {},
   "source": [
    "### Conservation in quantum mechanics\n",
    "\n",
    "To say that an observable Q is conserved is to say that expected value $\\braket{Q}$ does not change with time. A stronger condition is that any moment $\\braket{Q^m}$ does not change with time.\n",
    "\n",
    "$\\braket{Q}$ does not change ammounts to $[Q, H] = 0$. That is Q commutes with H. Using the properties of commutator, it is easy to prove that $[Q^m, H] = 0$ for any $m \\ge 1$.\n",
    "\n",
    "It turns out that if $[Q, H] = 0$ then for **any** function of Q, $[f(Q), H] = 0$.\n",
    "\n",
    "H is also conserved, as $[H, H] = 0$. H is defined to be the energy of the quantum system."
   ]
  },
  {
   "cell_type": "markdown",
   "id": "f0359693-16ee-466c-b992-51ee4746d635",
   "metadata": {},
   "source": [
    "### Solving Schrodinger's equation\n",
    "\n",
    "Time dependent Schrodinger's equation is $ \\hbar \\frac{d \\ket{\\Psi}}{dt} = -iH\\ket{\\Psi}$. \n",
    "\n",
    "Since H represents enrgy, the oberservable values of energy are eigenvalues of H. Call them $\\ket{E_j}$ and $E_j$.\n",
    "\n",
    "$$\n",
    "    H \\ket{E_j} = E_j \\ket{E_j}\n",
    "$$\n",
    "\n",
    "These are call time-independent schrodinger's equations.\n",
    "\n",
    "We can write $\\ket{\\Psi{(t)}} = \\sum_j \\alpha_j(t) \\ket{E_j}$.\n",
    "\n",
    "Thus, $\\ket{\\dot\\Psi{(t)}} = \\sum_j \\dot\\alpha_j(t) \\ket{E_j}$.\n",
    "\n",
    "Using time-dependent Schrodinger's equation, we can solve for $\\dot\\alpha_j(t)$. It has the form $\\dot\\alpha_j(t) = -\\frac{i}{\\hbar}E_j \\alpha_j(t)$. Which has the solution $\\alpha_j(t) = \\alpha_j(0) e^{\\frac{-i}{\\hbar} E_j t}$.\n",
    "\n",
    "But, $\\alpha_j(0) = \\braket{E_j|\\Psi(0)}$.\n",
    "\n",
    "So, $\\Psi(t) = \\sum_j \\ket{E_j}\\braket{E_j|\\Psi(0)} e^{-\\frac{i}{\\hbar}E_j t}$.\n",
    "\n",
    "#### General Recipe\n",
    "\n",
    "1. Get the H somehow.\n",
    "2. Find the $\\ket{E_j}$ and $E_j$.\n",
    "3. Prepare the system in initial state $\\Psi(0)$.\n",
    "4. Use above solution to find the state at any later time.\n",
    "5. If you have some other operator L, you can \"predict\" the outcome of measuring future state using the eigenvectors of L. i.e., the probability the outcome of measuring L is $\\lambda_i$ is precisely $|\\braket{\\lambda_i|\\Psi(t)}|^2$."
   ]
  },
  {
   "cell_type": "markdown",
   "id": "0cfc9f25-ad64-4726-892b-205651e54751",
   "metadata": {},
   "source": [
    "## Complex systems\n",
    "\n",
    "There are systems for which there are more than two observables, and they all can be measured simultaneously. Single spin is **not** such system. Though there are three observables $\\sigma_{\\{x,y,z\\}}$. Only one of them can be observed at a time.\n",
    "\n",
    "Particle moving in three dimensions, all three dimensions x, y, and z can be measured simultaneously.\n",
    "\n",
    "Other such system is a system of two particles. Let's denote these two observables as L and M.\n",
    "If we measure both spins, we leave the system in a state which is simultaneously eigenvector of both L and M. Let the eigenvectors of L be denoted as $\\lambda_i$ and same for M with $\\mu_a$.\n",
    "\n",
    "In order to have simultaneous eigenvectors $\\ket{\\lambda, \\mu}$, L and M must commute with each other. i.e., $LM \\ket{\\lambda, \\mu} = ML\\ket{\\lambda, \\mu}$. i.e., $[L, M]\\ket{\\lambda, \\mu} = 0$. Since this statement is true of any basis eigenvector $\\ket{\\lambda, \\mu}$, we know that $[L, M] = 0$.\n",
    "\n",
    "Thus, if we have complete basis of simultaneous eigenvectors, the observables commute. Converse is also true. If observables commute, they have a complete basis of simultaneous eigenvectors. This statement is true for any number of observables in the system, and not just two.\n",
    "\n",
    "\n"
   ]
  },
  {
   "cell_type": "markdown",
   "id": "ad29631d-8001-4c75-93f5-bab9a8ae9d38",
   "metadata": {},
   "source": [
    "Suppose, we have a basis of states $\\ket{a,b,c, \\dots}$ for some complex system. \n",
    "\n",
    "$$\\ket{\\Psi} = \\sum_{a,b,c,\\dots} \\psi{(a,b,c, \\dots)} \\ket{a,b,c, \\dots}$$\n",
    "\n",
    "Where, $\\psi{(a,b,c, \\dots)} = \\braket{a,b,c, \\dots|\\Psi}$. This $\\psi$ is called a wave function.\n",
    "\n",
    "$P(a,b,c, \\dots) = \\psi^\\ast{(a,b,c, \\dots)} \\psi{(a,b,c, \\dots)}$. This is the probability of observing the value $a,b,c,\\dots$ of commuting observables $A,B,C,\\dots$."
   ]
  },
  {
   "cell_type": "markdown",
   "id": "57951696-21fe-4972-b852-3ea7225d6450",
   "metadata": {},
   "source": [
    "If a state is an eigenvector of operator A, which does not commute with B, then it will not be an eigenvector for B. Thus, if A and B don't commute, there will be uncertainity in either A or B if not both.\n"
   ]
  },
  {
   "cell_type": "markdown",
   "id": "ca2baf08-3c3b-489e-ad61-6190984c4783",
   "metadata": {},
   "source": [
    "### Quantifying Uncertainty\n",
    "\n",
    "The system is in state $\\ket\\Psi$. We want to observe some A. A can be thought as a random variable. The possible outcomes are eigenvalues of A, with predefined probabilities. Thus $\\braket{A}$ is well defined, and is the expected value of A. We can also find the variance of A! This quantifies the uncertainty of A. \n",
    "\n",
    "First define $\\bar{A} = A - \\braket{A}I$. This is also an Hermitian operator, so has real eigenvalues. If $a$ is an eigenvalue of A, $\\bar{a} = a - \\braket{A}$ is an eigenvalue of $\\bar{A}$.\n",
    "\n",
    "Thus the variance, denoted as $(\\Delta A)^2 = \\sum_a \\bar{a}^2 P(a)$.\n",
    "\n",
    "A little bit of algebra shows that this is equivalent to $\\braket{\\bar{A}^2} = \\braket{\\Psi|\\bar{A}^2|\\Psi}$."
   ]
  },
  {
   "cell_type": "markdown",
   "id": "f4824e2f-6272-4e2b-8b52-e631780b8a8a",
   "metadata": {},
   "source": [
    "### Uncertainty Principle\n",
    "\n",
    "From triangle inequality $|x| + |y| \\ge |x+y|$, one can derive $2|x||y| \\ge |\\braket{x|y} + \\braket{y|x}|$. (Hint: Square both sides, and expand).\n",
    "\n",
    "Putting, $x = A\\Psi$ and $y = iB\\Psi$, we get $\\Delta{A} \\Delta{B} \\ge \\frac{1}{2} | \\braket{\\Psi|[A, B]|\\Psi}$. (Hint: Though formula is true in general, it is easy to derive by assuming that $\\braket{A} = \\braket{B} = 0$, in which case $(\\Delta{A})^2 = \\braket{A^2}$.\n",
    "\n"
   ]
  },
  {
   "cell_type": "markdown",
   "id": "b4fbb521-438e-4bb4-8219-ef54eed110d5",
   "metadata": {},
   "source": [
    "## Composite System\n",
    "\n",
    "Atom is made of nucleons and electrons, each is a quantum system of it's own. We want to study composite system.\n",
    "\n",
    "For the moment we assume there are two systems, A and B (a.k.a. Alices's sytem and Bob's sytem, respectively).\n",
    "A has states from staet space $S_A$, which has dimensionality of $N_A$. Same for system B. \n",
    "\n",
    "The combined system has statespace $S = S_A \\otimes S_B$, which has dimensionality $N_A N_B$. $\\otimes$ is a tensor product. The states of S are denoted as $\\ket{ab}$, where $a \\in S_A$ and $b \\in S_B$."
   ]
  },
  {
   "cell_type": "code",
   "execution_count": null,
   "id": "27b8db98-0fb5-4b45-9ab4-2a384a1f6371",
   "metadata": {},
   "outputs": [],
   "source": []
  }
 ],
 "metadata": {
  "jugo": {
   "front_matter": {
    "title": "Quantum Mechanics Notes"
   }
  },
  "jupytext": {
   "formats": "ipynb,md"
  },
  "kernelspec": {
   "display_name": "Python 3",
   "language": "python",
   "name": "python3"
  },
  "language_info": {
   "codemirror_mode": {
    "name": "ipython",
    "version": 3
   },
   "file_extension": ".py",
   "mimetype": "text/x-python",
   "name": "python",
   "nbconvert_exporter": "python",
   "pygments_lexer": "ipython3",
   "version": "3.10.7"
  }
 },
 "nbformat": 4,
 "nbformat_minor": 5
}
