{
 "cells": [
  {
   "cell_type": "markdown",
   "id": "23cd2b51-1104-44f1-adc1-e00e4faa4f7b",
   "metadata": {
    "tags": []
   },
   "source": [
    "# Quantum Mechanics\n",
    "\n",
    "## Differences from Classical Mechanics\n",
    "1. States have different logical structure than CM.\n",
    "2. States and measurements are different unlike CM. e.g. Position and Momemntum can be determined by experiments in CM.\n",
    "\n",
    "## Spins\n",
    "Particles have properties attached to it. e.g. mass, electric charge.\n",
    "\n",
    "Even a specific particle is not completely specified by its position.\n",
    "\n",
    "Attached to electron is an extra degree of freedom, called spin. Spin is as quantum mechanical as it can and we should not try to visualize it.\n",
    "\n",
    "## Testing\n",
    "\n",
    "Propositions: \n",
    "$$\n",
    "\\begin{align*}\n",
    "A &: \\sigma_z = +1 \\\\\n",
    "B &: \\sigma_x = +1 \\\\\n",
    "\\end{align*}\n",
    "$$\n",
    "\n",
    "### Classically,\n",
    "\n",
    "To test (A or B), one could first **gently** test $\\sigma_z$. If it is -1, one would **gently** test $\\sigma_x$. The result of doing it otherway (i.e. B or A) will be the same as doing (A or B). The reason is that classically, measurements are gentle. They don't change the state of the system.\n",
    "\n",
    "### In Quantum Mechanics,\n",
    "\n",
    "If some entity prepares the spin in $\\sigma_z = +1$ state, and we measure `A or B` (whether we use short circuit or not), we will measure it to be true. However, if we measure `B or A`, there is 25% chance that we will measure it to be false.\n",
    "\n",
    "What about `A and B`? If we conclude that `A and B` is true, can we confirm it again? Answer is no. Since to compute B, we had to measure $\\sigma_x$, which ruined measurement of A. Thus we can't confirm it. i.e. experiment is not reproducible."
   ]
  },
  {
   "cell_type": "markdown",
   "id": "0622aa33-387d-4a13-95af-23c2e0e44369",
   "metadata": {
    "tags": []
   },
   "source": [
    "## Complex Numbers"
   ]
  },
  {
   "cell_type": "markdown",
   "id": "bbba3824-65ec-46f1-ab22-377f063d4788",
   "metadata": {},
   "source": [
    "Two ways to represent them. \n",
    "\n",
    "In cartesian coordinates, $z = x + iy$.\n",
    "\n",
    "In polar coordinates, $z = re^{i\\theta}$.\n",
    "\n",
    "$ x_1 x_2 = (r_1e^{i\\theta_1})(r_2e^{i\\theta_2}) = r_1 r_2 e^{i(\\theta_1 + \\theta_2)}$.\n",
    "\n",
    "$z = x + iy = re^{i\\theta}$ \n",
    "\n",
    "$z^* = x - iy = re^{-i\\theta}$ \n",
    "\n",
    "$z^*z = r^2$, i.e. a real number\n",
    "\n",
    "### Phase Factors\n",
    "\n",
    "These are complex numbers whose r componenet is 1. Following holds for them,\n",
    "\n",
    "$$\n",
    "\\begin{align}\n",
    "z^*z &= 1 \\\\\n",
    "z &= e^{i\\theta}\\\\\n",
    "z &= \\cos\\theta + i \\sin\\theta\n",
    "\\end{align}\n",
    "$$"
   ]
  },
  {
   "cell_type": "markdown",
   "id": "e4c7846a-2a74-4192-b088-b7e6aa951892",
   "metadata": {},
   "source": [
    "$$\n",
    "\\begin{bmatrix}\n",
    "\\alpha_1 \\\\\n",
    "\\alpha_2 \\\\\n",
    "\\vdots \\\\\n",
    "\\alpha_n\n",
    "\\end{bmatrix}\n",
    "$$\n"
   ]
  },
  {
   "cell_type": "markdown",
   "id": "8d9b40b5-b1a1-44aa-a99e-ad19aa589fd6",
   "metadata": {
    "tags": []
   },
   "source": [
    "## Vector Spaces"
   ]
  },
  {
   "cell_type": "markdown",
   "id": "7e3667ee-4c27-4873-a932-1bf862bef1b6",
   "metadata": {},
   "source": [
    "$$\\newcommand{\\ket}[1]{\\left|{#1}\\right\\rangle}$$\n",
    "$$\\newcommand{\\bra}[1]{\\left\\langle{#1}\\right|}$$\n",
    "$$\\newcommand{\\braket}[2]{\\left\\langle{#1}\\middle|{#2}\\right\\rangle}$$"
   ]
  },
  {
   "cell_type": "markdown",
   "id": "989e0ab5-22ae-4253-a1f0-211a0a56b05e",
   "metadata": {
    "jp-MarkdownHeadingCollapsed": true,
    "tags": []
   },
   "source": [
    "Vector spaces is familiar concept from abstract linear algebra.\n",
    "\n",
    "### Complex Conjugate of space V \n",
    "\n",
    "For every $\\ket{A}$ there exists $\\bra{A}$ in conjugate space. This space has following properties.\n",
    "\n",
    "1. The conjugate of $\\ket{A} + \\ket{B}$ is $\\bra{A}+\\bra{B}$.\n",
    "2. Conjugate of $z\\ket{A}$ is $z^*\\bra{A} = \\bra{A}z^*$.\n",
    "\n",
    "In the concrete case where ket space is column vectors, bra space is denoted as row vectors.\n",
    "\n",
    "i.e. if \n",
    "\n",
    "$$\n",
    "\\begin{align*}\n",
    "\\ket{A} = \\begin{bmatrix}\n",
    "\\alpha_1 \\\\\n",
    "\\alpha_2 \\\\\n",
    "\\vdots \\\\\n",
    "\\alpha_n\n",
    "\\end{bmatrix}\n",
    "\\end{align*}\n",
    "$$\n",
    "\n",
    "then\n",
    "$$\n",
    "\\begin{align*}\n",
    "\\bra{A} = \\begin{bmatrix}\n",
    "\\alpha_1^* & \\alpha_2^* & \\dots & \\alpha_n^*\n",
    "\\end{bmatrix}.\n",
    "\\end{align*}\n",
    "$$\n"
   ]
  },
  {
   "cell_type": "markdown",
   "id": "bd84db22-64ea-472c-8962-97c376039acf",
   "metadata": {},
   "source": [
    "### Inner Products"
   ]
  },
  {
   "cell_type": "markdown",
   "id": "f97d3785-d8b4-406b-8440-1d958bec5c5f",
   "metadata": {},
   "source": [
    "Inner product is always between bras and kets. It is written like $\\braket{B}{A}$. The result is a complex numbers.\n",
    "\n",
    "#### Axioms of inner product.\n",
    "1. Inner product is linear. $\\bra{C} + (\\ket{A}+\\ket{B}) = \\braket{C}{A} + \\braket{C}{B}$.\n",
    "2. $\\braket{B}{A} = \\braket{A}{B}^*$.\n",
    "\n",
    "#### Special vectors\n",
    "1. Normalized: $\\braket{A}{A} = 1$.\n",
    "2. Orhthogonal: $\\braket{B}{A} = 0$."
   ]
  },
  {
   "cell_type": "markdown",
   "id": "68702c39-dbdd-418e-be9c-fbf270e63617",
   "metadata": {},
   "source": [
    "### Orhtonormal Basis.\n",
    "\n",
    "Let our space be N dimensional. And let the orthonomal basis denoted by $\\bra{i}$.\n",
    "\n",
    "$$\n",
    "\\ket{A} = \\sum_i \\alpha_i \\ket{i},\n",
    "$$\n",
    "\n",
    "where, $\\alpha_j = \\braket{j}{A}$."
   ]
  }
 ],
 "metadata": {
  "kernelspec": {
   "display_name": "Python 3",
   "language": "python",
   "name": "python3"
  },
  "language_info": {
   "codemirror_mode": {
    "name": "ipython",
    "version": 3
   },
   "file_extension": ".py",
   "mimetype": "text/x-python",
   "name": "python",
   "nbconvert_exporter": "python",
   "pygments_lexer": "ipython3",
   "version": "3.10.4"
  }
 },
 "nbformat": 4,
 "nbformat_minor": 5
}
