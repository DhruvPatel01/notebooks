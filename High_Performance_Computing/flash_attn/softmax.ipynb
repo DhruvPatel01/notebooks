{
 "cells": [
  {
   "cell_type": "code",
   "execution_count": 1,
   "id": "32dd8853-e515-49cb-8f80-1f44677d3b8d",
   "metadata": {},
   "outputs": [],
   "source": [
    "import numpy as np"
   ]
  },
  {
   "cell_type": "code",
   "execution_count": 2,
   "id": "4ff5a307-fddf-487a-994c-d8e248569bcc",
   "metadata": {},
   "outputs": [],
   "source": [
    "x = np.array([1, 4, 3, 1])"
   ]
  },
  {
   "cell_type": "code",
   "execution_count": 3,
   "id": "85095926-f141-4a9f-81c7-450b690071c7",
   "metadata": {},
   "outputs": [
    {
     "data": {
      "text/plain": [
       "array([ 2.71828183, 54.59815003, 20.08553692,  2.71828183])"
      ]
     },
     "execution_count": 3,
     "metadata": {},
     "output_type": "execute_result"
    }
   ],
   "source": [
    "p = np.exp(x)\n",
    "p"
   ]
  },
  {
   "cell_type": "code",
   "execution_count": 4,
   "id": "9cc9074e-296c-49a5-ace0-87ecf580b7dd",
   "metadata": {},
   "outputs": [
    {
     "data": {
      "text/plain": [
       "array([0.03392753, 0.68145256, 0.25069239, 0.03392753])"
      ]
     },
     "execution_count": 4,
     "metadata": {},
     "output_type": "execute_result"
    }
   ],
   "source": [
    "p/p.sum()"
   ]
  },
  {
   "cell_type": "markdown",
   "id": "136f9b48-dc87-482e-aa35-b47ba9c17f98",
   "metadata": {},
   "source": [
    "# Stable"
   ]
  },
  {
   "cell_type": "code",
   "execution_count": 5,
   "id": "19fc44b7-09ea-4778-a56c-aab3122ad248",
   "metadata": {},
   "outputs": [
    {
     "data": {
      "text/plain": [
       "array([0.04978707, 1.        , 0.36787944, 0.04978707])"
      ]
     },
     "execution_count": 5,
     "metadata": {},
     "output_type": "execute_result"
    }
   ],
   "source": [
    "p = np.exp(x - x.max())\n",
    "p"
   ]
  },
  {
   "cell_type": "code",
   "execution_count": 6,
   "id": "bd80afbf-3c5f-4e8b-a727-efae36fe2cb2",
   "metadata": {},
   "outputs": [
    {
     "data": {
      "text/plain": [
       "array([0.03392753, 0.68145256, 0.25069239, 0.03392753])"
      ]
     },
     "execution_count": 6,
     "metadata": {},
     "output_type": "execute_result"
    }
   ],
   "source": [
    "p/p.sum()"
   ]
  },
  {
   "cell_type": "markdown",
   "id": "7454cfc6-0938-41eb-9037-7ba1587443fc",
   "metadata": {},
   "source": [
    "# Digression\n",
    "\n",
    "## Streaming Normalization"
   ]
  },
  {
   "cell_type": "code",
   "execution_count": 25,
   "id": "6a2cb30e-0f16-4710-a740-169de7040be1",
   "metadata": {},
   "outputs": [
    {
     "data": {
      "text/plain": [
       "-0.11346321688616925"
      ]
     },
     "execution_count": 25,
     "metadata": {},
     "output_type": "execute_result"
    }
   ],
   "source": [
    "data = np.random.randn(1024)\n",
    "weights = np.random.rand(1024)\n",
    "\n",
    "z = weights.sum()\n",
    "(data * weights/z).sum()"
   ]
  },
  {
   "cell_type": "code",
   "execution_count": 26,
   "id": "723a8b9e-a818-46fa-ad33-5767295fd2bf",
   "metadata": {},
   "outputs": [
    {
     "data": {
      "text/plain": [
       "-0.1134632168861692"
      ]
     },
     "execution_count": 26,
     "metadata": {},
     "output_type": "execute_result"
    }
   ],
   "source": [
    "acc = 0\n",
    "z = 0\n",
    "\n",
    "for d, w in zip(data, weights):\n",
    "    acc += w*d\n",
    "    z += w\n",
    "acc/z"
   ]
  },
  {
   "cell_type": "markdown",
   "id": "3a03f00a-0643-4c3f-acbf-1eb2da6420f0",
   "metadata": {},
   "source": [
    "## Exp"
   ]
  },
  {
   "cell_type": "code",
   "execution_count": 27,
   "id": "cdcdb85a-6009-45a9-8413-def633579f3a",
   "metadata": {},
   "outputs": [
    {
     "data": {
      "text/plain": [
       "-0.46750761319361334"
      ]
     },
     "execution_count": 27,
     "metadata": {},
     "output_type": "execute_result"
    }
   ],
   "source": [
    "weights *= 100\n",
    "z = np.exp(weights).sum()\n",
    "(data * np.exp(weights)/z).sum()"
   ]
  },
  {
   "cell_type": "code",
   "execution_count": 36,
   "id": "3bad5cf3-25ab-4171-989e-703ee09e209e",
   "metadata": {},
   "outputs": [
    {
     "data": {
      "text/plain": [
       "-0.46750761319361334"
      ]
     },
     "execution_count": 36,
     "metadata": {},
     "output_type": "execute_result"
    }
   ],
   "source": [
    "z = np.exp(weights).sum()\n",
    "(data * np.exp(weights)/z).sum()"
   ]
  },
  {
   "cell_type": "code",
   "execution_count": 37,
   "id": "5f99addf-d23a-402a-856e-7b82c5018a1b",
   "metadata": {},
   "outputs": [
    {
     "data": {
      "text/plain": [
       "-0.4675076131936131"
      ]
     },
     "execution_count": 37,
     "metadata": {},
     "output_type": "execute_result"
    }
   ],
   "source": [
    "# Numerically Stable Approach\n",
    "\n",
    "apriory_known_max = weights.max()\n",
    "acc = 0\n",
    "z = 0\n",
    "\n",
    "for d, w in zip(data, weights):\n",
    "    acc += np.exp(w-apriory_known_max)*d\n",
    "    z += np.exp(w-apriory_known_max)\n",
    "acc/z"
   ]
  },
  {
   "cell_type": "code",
   "execution_count": 29,
   "id": "53b69af7-a4bf-42dc-b518-82190076b69e",
   "metadata": {},
   "outputs": [
    {
     "data": {
      "text/plain": [
       "(1024,)"
      ]
     },
     "execution_count": 29,
     "metadata": {},
     "output_type": "execute_result"
    }
   ],
   "source": [
    "# Don't know the apriory_known_max\n",
    "\n",
    "acc = 0\n",
    "z = 0\n",
    "m = float('-inf')\n",
    "\n",
    "for d, w in zip(data, weights):\n",
    "    new_m = max(m, w)\n",
    "    acc = acc*z + np.exp(w - new_m)*d\n",
    "    z = z*\n",
    "    # z += np.exp(w-apriory_known_max)\n",
    "acc/z\n"
   ]
  },
  {
   "cell_type": "code",
   "execution_count": null,
   "id": "f9b8e888-fe2e-4393-bec1-180799ca7fc4",
   "metadata": {},
   "outputs": [],
   "source": []
  }
 ],
 "metadata": {
  "kernelspec": {
   "display_name": "Python 3",
   "language": "python",
   "name": "python3"
  },
  "language_info": {
   "codemirror_mode": {
    "name": "ipython",
    "version": 3
   },
   "file_extension": ".py",
   "mimetype": "text/x-python",
   "name": "python",
   "nbconvert_exporter": "python",
   "pygments_lexer": "ipython3",
   "version": "3.10.10"
  }
 },
 "nbformat": 4,
 "nbformat_minor": 5
}
