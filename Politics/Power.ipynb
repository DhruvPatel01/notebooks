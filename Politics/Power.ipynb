{
 "cells": [
  {
   "cell_type": "markdown",
   "id": "b5cd6764-6bc3-40b1-9fd4-f581f00bb7e5",
   "metadata": {},
   "source": [
    "# Lecture 2"
   ]
  },
  {
   "cell_type": "markdown",
   "id": "704e68b2-b9cb-4311-8485-471be033d256",
   "metadata": {},
   "source": [
    "**Aug 19, 1991 Moskow**: [Coup d'etat against Mikhail Gorbichov](https://en.wikipedia.org/wiki/1991_Soviet_coup_d%27%C3%A9tat_attempt) (came power in Feb 1985)\n",
    "\n",
    "When came to power in 1985, west thought what would become of Soviet Union?\n",
    "\n",
    "Gorbachev was younger, talked like a western politician, allowed criticism of the regime. His policies were more open. It seemed like it was starting to change. In 1989 while revolution in Eastern Europe, Russia didn't intervene; this was opposite to Russia's earlier policies. He was seen as a radical reformer. He was getting push back for his ideas.\n",
    "\n",
    "So in 1991 hardliners from the same party did a coup d'etat.\n",
    "\n",
    "Yeltsin (then elected president) declared that the coup d'état was illegal. The military also said that they didn't support the coup.\n",
    "\n",
    "Boris Yelstin\n",
    "- Initially supported Gorbachev's reforms. \n",
    "- He thought they should have been faster. \n",
    "- He resigned from communist party in 1987. This was unprecedented then.\n",
    "- It's said that he even tried to do a suicide at one point.\n",
    "- Eventually ran for a member of Russian parliament.\n",
    "- June 1991, he was elected president of Russian parliament.\n",
    "\n",
    "Without the support of the military, coup failed. Gorbachev didn't leave the party, and fired the people from the party members involved in the coup. As the aftermath, Yelstin gained more popularity and power moved from Gorbachev to Yeltsin."
   ]
  },
  {
   "cell_type": "markdown",
   "id": "70fcb61d-1512-4e61-a047-dd7225b86b2c",
   "metadata": {},
   "source": [
    "Agenda\n",
    "\n",
    "1. why did ussr collapse\n",
    "2. why was it peaceful\n",
    "3. rise of gangster capitalism\n",
    "4. yelstin to putin\n",
    "5. why is Russia so corrupt and lessons from it.\n",
    "\n"
   ]
  },
  {
   "cell_type": "markdown",
   "id": "a163762c-e329-4c2d-89ac-12669e8ae00d",
   "metadata": {},
   "source": [
    "![final_days](./imgs/final_days_of_ussr.png)"
   ]
  },
  {
   "cell_type": "markdown",
   "id": "138c2766-4f3b-49ec-9292-524e13bcfd79",
   "metadata": {},
   "source": [
    "## Why did USSR collapse?\n",
    "\n",
    "- Stores were empty. \n",
    "- Government department store (7 story building) was empty.\n",
    "- People making decisions didn't have much/correct data. \n",
    "- Prices were not set using supply and demand.\n",
    "- System became unsustainable.\n",
    "- [Containment](https://en.wikipedia.org/wiki/Containment) (policy by  George Kennan, ambassador to Russia) worked.\n",
    "- 1979: Involved in Afghanistan. Spent 1980s in this war. Failed war was a fiscal drain. \n",
    "- Ronald Reagan announced Star Wars. Which increased the cost of the arm race.\n",
    "    \n",
    "## Why was the collapse peaceful?\n",
    "\n",
    "Why did elites gave up the power? \n",
    "Comment from audience: Elites found ways to protect themselves from a collapse.\n",
    "\n",
    "[Albert Hirschman's framework (1970)](https://en.wikipedia.org/wiki/Exit,_Voice,_and_Loyalty)\n",
    "\n",
    "How do we people response to decline?\n",
    "1. leave\n",
    "2. complain and get it changed (voice)\n",
    "3. try to change it by yourself\n",
    "\n",
    "Which step to take depends on the cost.\n",
    "\n",
    "For example, a public company badly run\n",
    "- Sell the shares\n",
    "- You might be loyal to the company (get is changed), workers would use voice (cost of exit is high).\n",
    "\n",
    "Collapse of loyalty from the elites and citizens by 1991.\n",
    "- Evidence of brazen corruption (by professor's first hand experience)\n",
    "- Elites didn't believe the ideology of the country\n",
    "\n",
    "If you are not loyal, and the cost of exit is low, why stay and change the organization?\n",
    "\n",
    "What reduced the cost of exit?\n",
    "- Reduced political costs of exit\n",
    "  - Yeltsin exited the party to become a president\n",
    "  - Eduard Shevardnadze was a foreign minister of the Soviet Union, became president of Georgia \n",
    "- Reduced economic costs of exit\n",
    "\n",
    "## The rise of oligarchs\n",
    "\n",
    "Result of the collapse. \n",
    "\n",
    "- In 1980s agencies (including KGP) started moving money offshore, to live another day to fight, in case of collapse. In 1991 beurocracy disappeared. Many people found themselves in control of unmanaged, unsupervised bank accounts.\n",
    "- Theft of state assets.\n",
    "  - Rem Viakhirev (deputi minister of Oil and Gas) was in charge of Gazprom (state venture controlling gas in Soviet Union)\n",
    "    - he started giving away large assets to relatives and friends at below market price and pocketed the differences.\n",
    "- Russia had inherited weak and bankrupt state\n",
    "  - 1990s fiscal crisis for USSR, massive debts, fiscally strapped. And many people took advantage of it for example by lending money to the government in return for state assets which they got to keep, because government couldn't pay it back.\n",
    "\n",
    "## Yeltsin to Putin\n",
    "\n",
    "- Last years of the Soviet Union was a weak state, the party however was strong.\n",
    "\n",
    "Symptoms of a weak state?\n",
    "- inability to tax (low capacity to raise revenue, didn't have a capacity to audit oil companies for example)\n",
    "    - Throughout the 1990s oligargs lobbied NOT to improve capacity to raise oil taxes\n",
    "    - Putin said he was determined the tax system (he did)\n",
    "- Haphazard use of power\n",
    "  - Putin took down Khodorkovsky, (reclaimed the assets)\n",
    "  - Putin took down Vyakhirev, (reclaimed the assets)\n",
    "\n",
    "## Why Russia is Corrupt.\n",
    "\n",
    "\n",
    "1. Path dependence (historian's) story\n",
    "2. Resource Curse (aka oil curse) (political economist's) story\n",
    "  - 40% of Russian govenments revenue from oil\n",
    "  - leads to corruption. \n",
    "\n",
    "    If only way to get rich in Russia is to have access to the oil sector, then people who control the access will charge premium to get the access.\n",
    "    \n",
    "If oil prices fall, government's revenue also falls.\n",
    "    \n",
    "### Why don't they diversify?\n",
    "- Beneficiaries like it this way. \n",
    "- Government needs it: weak state\n",
    "- A source of geopolitical power (e.g. germany was a top importer from Russia)\n",
    "\n"
   ]
  }
 ],
 "metadata": {
  "jugo": {
   "front_matter": {
    "title": "Power and Politics in Today’s World"
   }
  },
  "kernelspec": {
   "display_name": "Python 3",
   "language": "python",
   "name": "python3"
  },
  "language_info": {
   "codemirror_mode": {
    "name": "ipython",
    "version": 3
   },
   "file_extension": ".py",
   "mimetype": "text/x-python",
   "name": "python",
   "nbconvert_exporter": "python",
   "pygments_lexer": "ipython3",
   "version": "3.10.6"
  }
 },
 "nbformat": 4,
 "nbformat_minor": 5
}
